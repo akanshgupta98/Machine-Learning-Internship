{
 "cells": [
  {
   "cell_type": "code",
   "execution_count": 2,
   "metadata": {},
   "outputs": [],
   "source": [
    "import pandas as pd\n",
    "import numpy as np\n",
    "import matplotlib.pyplot as plt\n",
    "import seaborn as sns"
   ]
  },
  {
   "cell_type": "code",
   "execution_count": 3,
   "metadata": {},
   "outputs": [
    {
     "data": {
      "text/html": [
       "<div>\n",
       "<style scoped>\n",
       "    .dataframe tbody tr th:only-of-type {\n",
       "        vertical-align: middle;\n",
       "    }\n",
       "\n",
       "    .dataframe tbody tr th {\n",
       "        vertical-align: top;\n",
       "    }\n",
       "\n",
       "    .dataframe thead th {\n",
       "        text-align: right;\n",
       "    }\n",
       "</style>\n",
       "<table border=\"1\" class=\"dataframe\">\n",
       "  <thead>\n",
       "    <tr style=\"text-align: right;\">\n",
       "      <th></th>\n",
       "      <th>Unnamed: 0</th>\n",
       "      <th>Symbol</th>\n",
       "      <th>Series</th>\n",
       "      <th>Date</th>\n",
       "      <th>Prev Close</th>\n",
       "      <th>Open Price</th>\n",
       "      <th>High Price</th>\n",
       "      <th>Low Price</th>\n",
       "      <th>Last Price</th>\n",
       "      <th>Close Price</th>\n",
       "      <th>Average Price</th>\n",
       "      <th>Total Traded Quantity</th>\n",
       "      <th>Turnover</th>\n",
       "      <th>No. of Trades</th>\n",
       "      <th>Deliverable Qty</th>\n",
       "      <th>% Dly Qt to Traded Qty</th>\n",
       "      <th>Year</th>\n",
       "      <th>Month</th>\n",
       "      <th>Day_perc_change</th>\n",
       "      <th>Trend</th>\n",
       "    </tr>\n",
       "  </thead>\n",
       "  <tbody>\n",
       "    <tr>\n",
       "      <td>0</td>\n",
       "      <td>0</td>\n",
       "      <td>MARUTI</td>\n",
       "      <td>EQ</td>\n",
       "      <td>2017-05-15</td>\n",
       "      <td>6730.20</td>\n",
       "      <td>6759.4</td>\n",
       "      <td>6839.10</td>\n",
       "      <td>6733.45</td>\n",
       "      <td>6824.0</td>\n",
       "      <td>6823.90</td>\n",
       "      <td>6796.84</td>\n",
       "      <td>336356</td>\n",
       "      <td>2.286158e+09</td>\n",
       "      <td>31377</td>\n",
       "      <td>154743</td>\n",
       "      <td>46.01</td>\n",
       "      <td>2017</td>\n",
       "      <td>May</td>\n",
       "      <td>0.000000</td>\n",
       "      <td>Slight Change</td>\n",
       "    </tr>\n",
       "    <tr>\n",
       "      <td>1</td>\n",
       "      <td>1</td>\n",
       "      <td>MARUTI</td>\n",
       "      <td>EQ</td>\n",
       "      <td>2017-05-16</td>\n",
       "      <td>6823.90</td>\n",
       "      <td>6850.0</td>\n",
       "      <td>6977.55</td>\n",
       "      <td>6830.00</td>\n",
       "      <td>6968.4</td>\n",
       "      <td>6953.95</td>\n",
       "      <td>6902.22</td>\n",
       "      <td>707624</td>\n",
       "      <td>4.884174e+09</td>\n",
       "      <td>49047</td>\n",
       "      <td>360641</td>\n",
       "      <td>50.97</td>\n",
       "      <td>2017</td>\n",
       "      <td>May</td>\n",
       "      <td>1.905802</td>\n",
       "      <td>Positive</td>\n",
       "    </tr>\n",
       "    <tr>\n",
       "      <td>2</td>\n",
       "      <td>2</td>\n",
       "      <td>MARUTI</td>\n",
       "      <td>EQ</td>\n",
       "      <td>2017-05-17</td>\n",
       "      <td>6953.95</td>\n",
       "      <td>6950.0</td>\n",
       "      <td>6979.00</td>\n",
       "      <td>6885.85</td>\n",
       "      <td>6945.0</td>\n",
       "      <td>6958.20</td>\n",
       "      <td>6931.60</td>\n",
       "      <td>445461</td>\n",
       "      <td>3.087758e+09</td>\n",
       "      <td>65280</td>\n",
       "      <td>260033</td>\n",
       "      <td>58.37</td>\n",
       "      <td>2017</td>\n",
       "      <td>May</td>\n",
       "      <td>0.061116</td>\n",
       "      <td>Slight Change</td>\n",
       "    </tr>\n",
       "    <tr>\n",
       "      <td>3</td>\n",
       "      <td>3</td>\n",
       "      <td>MARUTI</td>\n",
       "      <td>EQ</td>\n",
       "      <td>2017-05-18</td>\n",
       "      <td>6958.20</td>\n",
       "      <td>6918.3</td>\n",
       "      <td>6948.00</td>\n",
       "      <td>6814.45</td>\n",
       "      <td>6822.0</td>\n",
       "      <td>6831.05</td>\n",
       "      <td>6869.68</td>\n",
       "      <td>406814</td>\n",
       "      <td>2.794684e+09</td>\n",
       "      <td>37063</td>\n",
       "      <td>188907</td>\n",
       "      <td>46.44</td>\n",
       "      <td>2017</td>\n",
       "      <td>May</td>\n",
       "      <td>-1.827340</td>\n",
       "      <td>Negative</td>\n",
       "    </tr>\n",
       "    <tr>\n",
       "      <td>4</td>\n",
       "      <td>4</td>\n",
       "      <td>MARUTI</td>\n",
       "      <td>EQ</td>\n",
       "      <td>2017-05-19</td>\n",
       "      <td>6831.05</td>\n",
       "      <td>6854.8</td>\n",
       "      <td>6893.90</td>\n",
       "      <td>6691.55</td>\n",
       "      <td>6756.3</td>\n",
       "      <td>6790.55</td>\n",
       "      <td>6791.60</td>\n",
       "      <td>552223</td>\n",
       "      <td>3.750475e+09</td>\n",
       "      <td>64293</td>\n",
       "      <td>234662</td>\n",
       "      <td>42.49</td>\n",
       "      <td>2017</td>\n",
       "      <td>May</td>\n",
       "      <td>-0.592881</td>\n",
       "      <td>Slight Negative</td>\n",
       "    </tr>\n",
       "  </tbody>\n",
       "</table>\n",
       "</div>"
      ],
      "text/plain": [
       "   Unnamed: 0  Symbol Series        Date  Prev Close  Open Price  High Price  \\\n",
       "0           0  MARUTI     EQ  2017-05-15     6730.20      6759.4     6839.10   \n",
       "1           1  MARUTI     EQ  2017-05-16     6823.90      6850.0     6977.55   \n",
       "2           2  MARUTI     EQ  2017-05-17     6953.95      6950.0     6979.00   \n",
       "3           3  MARUTI     EQ  2017-05-18     6958.20      6918.3     6948.00   \n",
       "4           4  MARUTI     EQ  2017-05-19     6831.05      6854.8     6893.90   \n",
       "\n",
       "   Low Price  Last Price  Close Price  Average Price  Total Traded Quantity  \\\n",
       "0    6733.45      6824.0      6823.90        6796.84                 336356   \n",
       "1    6830.00      6968.4      6953.95        6902.22                 707624   \n",
       "2    6885.85      6945.0      6958.20        6931.60                 445461   \n",
       "3    6814.45      6822.0      6831.05        6869.68                 406814   \n",
       "4    6691.55      6756.3      6790.55        6791.60                 552223   \n",
       "\n",
       "       Turnover  No. of Trades  Deliverable Qty  % Dly Qt to Traded Qty  Year  \\\n",
       "0  2.286158e+09          31377           154743                   46.01  2017   \n",
       "1  4.884174e+09          49047           360641                   50.97  2017   \n",
       "2  3.087758e+09          65280           260033                   58.37  2017   \n",
       "3  2.794684e+09          37063           188907                   46.44  2017   \n",
       "4  3.750475e+09          64293           234662                   42.49  2017   \n",
       "\n",
       "  Month  Day_perc_change            Trend  \n",
       "0   May         0.000000    Slight Change  \n",
       "1   May         1.905802         Positive  \n",
       "2   May         0.061116    Slight Change  \n",
       "3   May        -1.827340         Negative  \n",
       "4   May        -0.592881  Slight Negative  "
      ]
     },
     "execution_count": 3,
     "metadata": {},
     "output_type": "execute_result"
    }
   ],
   "source": [
    "data = pd.read_csv('week2.csv')\n",
    "data.head()"
   ]
  },
  {
   "cell_type": "markdown",
   "metadata": {},
   "source": [
    "# 5.1"
   ]
  },
  {
   "cell_type": "code",
   "execution_count": 4,
   "metadata": {},
   "outputs": [
    {
     "name": "stdout",
     "output_type": "stream",
     "text": [
      "The daily return of this stock on an average is: 0.0015590385872745192\n",
      "The standard deviation of daily return of this stock is: 1.4173824829790358\n",
      "The annual return of this stock is: 0.39287772399317883\n",
      "The Volatility of this stock is: 22.500249375730615\n"
     ]
    }
   ],
   "source": [
    "mean_daily_return = np.mean(data['Day_perc_change'])\n",
    "\n",
    "std_daily_return = np.std(data['Day_perc_change'])\n",
    "\n",
    "annual_return = mean_daily_return * 252\n",
    "volatility = std_daily_return * np.sqrt(252)\n",
    "print(f'The daily return of this stock on an average is: {mean_daily_return}')\n",
    "print(f'The standard deviation of daily return of this stock is: {std_daily_return}')\n",
    "print(f'The annual return of this stock is: {annual_return}')\n",
    "print(f'The Volatility of this stock is: {volatility}')"
   ]
  },
  {
   "cell_type": "markdown",
   "metadata": {},
   "source": [
    "# 5.2"
   ]
  },
  {
   "cell_type": "markdown",
   "metadata": {},
   "source": [
    "## Building Portfolio"
   ]
  },
  {
   "cell_type": "markdown",
   "metadata": {},
   "source": [
    "### Mid cap 2 stocks"
   ]
  },
  {
   "cell_type": "code",
   "execution_count": 654,
   "metadata": {},
   "outputs": [
    {
     "name": "stdout",
     "output_type": "stream",
     "text": [
      "(494, 15)\n",
      "(494, 15)\n"
     ]
    }
   ],
   "source": [
    "data1 = pd.read_csv('./Mid_Cap/EXIDEIND.csv')\n",
    "#data1.head()\n",
    "data2 = pd.read_csv('./Mid_Cap/APOLLOTYRE.csv')\n",
    "print(data1.shape)\n",
    "print(data2.shape)"
   ]
  },
  {
   "cell_type": "code",
   "execution_count": 655,
   "metadata": {},
   "outputs": [
    {
     "data": {
      "text/html": [
       "<div>\n",
       "<style scoped>\n",
       "    .dataframe tbody tr th:only-of-type {\n",
       "        vertical-align: middle;\n",
       "    }\n",
       "\n",
       "    .dataframe tbody tr th {\n",
       "        vertical-align: top;\n",
       "    }\n",
       "\n",
       "    .dataframe thead th {\n",
       "        text-align: right;\n",
       "    }\n",
       "</style>\n",
       "<table border=\"1\" class=\"dataframe\">\n",
       "  <thead>\n",
       "    <tr style=\"text-align: right;\">\n",
       "      <th></th>\n",
       "      <th>Symbol</th>\n",
       "      <th>Series</th>\n",
       "      <th>Date</th>\n",
       "      <th>Prev Close</th>\n",
       "      <th>Open Price</th>\n",
       "      <th>High Price</th>\n",
       "      <th>Low Price</th>\n",
       "      <th>Last Price</th>\n",
       "      <th>Close Price</th>\n",
       "      <th>Average Price</th>\n",
       "      <th>Total Traded Quantity</th>\n",
       "      <th>Turnover</th>\n",
       "      <th>No. of Trades</th>\n",
       "      <th>Deliverable Qty</th>\n",
       "      <th>% Dly Qt to Traded Qty</th>\n",
       "    </tr>\n",
       "  </thead>\n",
       "  <tbody>\n",
       "    <tr>\n",
       "      <td>0</td>\n",
       "      <td>EXIDEIND</td>\n",
       "      <td>EQ</td>\n",
       "      <td>15-May-2017</td>\n",
       "      <td>244.85</td>\n",
       "      <td>245.35</td>\n",
       "      <td>247.25</td>\n",
       "      <td>244.20</td>\n",
       "      <td>245.5</td>\n",
       "      <td>245.80</td>\n",
       "      <td>245.63</td>\n",
       "      <td>957470</td>\n",
       "      <td>2.351829e+08</td>\n",
       "      <td>10111</td>\n",
       "      <td>370038</td>\n",
       "      <td>38.65</td>\n",
       "    </tr>\n",
       "    <tr>\n",
       "      <td>1</td>\n",
       "      <td>EXIDEIND</td>\n",
       "      <td>EQ</td>\n",
       "      <td>16-May-2017</td>\n",
       "      <td>245.80</td>\n",
       "      <td>246.40</td>\n",
       "      <td>247.80</td>\n",
       "      <td>243.05</td>\n",
       "      <td>245.7</td>\n",
       "      <td>244.70</td>\n",
       "      <td>244.73</td>\n",
       "      <td>1023539</td>\n",
       "      <td>2.504863e+08</td>\n",
       "      <td>14018</td>\n",
       "      <td>344354</td>\n",
       "      <td>33.64</td>\n",
       "    </tr>\n",
       "    <tr>\n",
       "      <td>2</td>\n",
       "      <td>EXIDEIND</td>\n",
       "      <td>EQ</td>\n",
       "      <td>17-May-2017</td>\n",
       "      <td>244.70</td>\n",
       "      <td>244.70</td>\n",
       "      <td>244.90</td>\n",
       "      <td>242.15</td>\n",
       "      <td>242.9</td>\n",
       "      <td>243.20</td>\n",
       "      <td>243.38</td>\n",
       "      <td>1145096</td>\n",
       "      <td>2.786929e+08</td>\n",
       "      <td>11088</td>\n",
       "      <td>612394</td>\n",
       "      <td>53.48</td>\n",
       "    </tr>\n",
       "    <tr>\n",
       "      <td>3</td>\n",
       "      <td>EXIDEIND</td>\n",
       "      <td>EQ</td>\n",
       "      <td>18-May-2017</td>\n",
       "      <td>243.20</td>\n",
       "      <td>242.05</td>\n",
       "      <td>242.65</td>\n",
       "      <td>237.35</td>\n",
       "      <td>240.0</td>\n",
       "      <td>239.85</td>\n",
       "      <td>239.80</td>\n",
       "      <td>970233</td>\n",
       "      <td>2.326644e+08</td>\n",
       "      <td>14371</td>\n",
       "      <td>516311</td>\n",
       "      <td>53.22</td>\n",
       "    </tr>\n",
       "    <tr>\n",
       "      <td>4</td>\n",
       "      <td>EXIDEIND</td>\n",
       "      <td>EQ</td>\n",
       "      <td>19-May-2017</td>\n",
       "      <td>239.85</td>\n",
       "      <td>240.90</td>\n",
       "      <td>244.40</td>\n",
       "      <td>233.45</td>\n",
       "      <td>238.1</td>\n",
       "      <td>238.15</td>\n",
       "      <td>239.05</td>\n",
       "      <td>2505511</td>\n",
       "      <td>5.989367e+08</td>\n",
       "      <td>18102</td>\n",
       "      <td>717386</td>\n",
       "      <td>28.63</td>\n",
       "    </tr>\n",
       "  </tbody>\n",
       "</table>\n",
       "</div>"
      ],
      "text/plain": [
       "     Symbol Series         Date  Prev Close  Open Price  High Price  \\\n",
       "0  EXIDEIND     EQ  15-May-2017      244.85      245.35      247.25   \n",
       "1  EXIDEIND     EQ  16-May-2017      245.80      246.40      247.80   \n",
       "2  EXIDEIND     EQ  17-May-2017      244.70      244.70      244.90   \n",
       "3  EXIDEIND     EQ  18-May-2017      243.20      242.05      242.65   \n",
       "4  EXIDEIND     EQ  19-May-2017      239.85      240.90      244.40   \n",
       "\n",
       "   Low Price  Last Price  Close Price  Average Price  Total Traded Quantity  \\\n",
       "0     244.20       245.5       245.80         245.63                 957470   \n",
       "1     243.05       245.7       244.70         244.73                1023539   \n",
       "2     242.15       242.9       243.20         243.38                1145096   \n",
       "3     237.35       240.0       239.85         239.80                 970233   \n",
       "4     233.45       238.1       238.15         239.05                2505511   \n",
       "\n",
       "       Turnover  No. of Trades  Deliverable Qty  % Dly Qt to Traded Qty  \n",
       "0  2.351829e+08          10111           370038                   38.65  \n",
       "1  2.504863e+08          14018           344354                   33.64  \n",
       "2  2.786929e+08          11088           612394                   53.48  \n",
       "3  2.326644e+08          14371           516311                   53.22  \n",
       "4  5.989367e+08          18102           717386                   28.63  "
      ]
     },
     "execution_count": 655,
     "metadata": {},
     "output_type": "execute_result"
    }
   ],
   "source": [
    "data1.head()"
   ]
  },
  {
   "cell_type": "markdown",
   "metadata": {},
   "source": [
    "### Large cap 3 stocks"
   ]
  },
  {
   "cell_type": "code",
   "execution_count": 698,
   "metadata": {},
   "outputs": [
    {
     "name": "stdout",
     "output_type": "stream",
     "text": [
      "(495, 15)\n",
      "(495, 15)\n",
      "(494, 15)\n"
     ]
    }
   ],
   "source": [
    "data3 = pd.read_csv('./Large_Cap/AXISBANK.csv')\n",
    "data4 = pd.read_csv('./Large_Cap/HINDALCO.csv')\n",
    "data5 = pd.read_csv('./Large_Cap/GAIL.csv')\n",
    "print(data3.shape)\n",
    "print(data4.shape)\n",
    "print(data5.shape)\n",
    "\n"
   ]
  },
  {
   "cell_type": "code",
   "execution_count": 699,
   "metadata": {},
   "outputs": [],
   "source": [
    "for i,j in enumerate(data3['Series']):\n",
    "    if(j == 'BL'):\n",
    "        data3.drop(i,axis=0,inplace=True)"
   ]
  },
  {
   "cell_type": "code",
   "execution_count": 700,
   "metadata": {},
   "outputs": [],
   "source": [
    "\n",
    "for i,j in enumerate(data4['Series']):\n",
    "    if(j == 'BL'):\n",
    "        data4.drop(i,axis=0,inplace=True)"
   ]
  },
  {
   "cell_type": "code",
   "execution_count": 643,
   "metadata": {},
   "outputs": [],
   "source": [
    "\n",
    "for i,j in enumerate(data1['Series']):\n",
    "    if(j == 'BL'):\n",
    "        data1.drop(i,axis=0,inplace=True)"
   ]
  },
  {
   "cell_type": "code",
   "execution_count": 701,
   "metadata": {},
   "outputs": [
    {
     "data": {
      "text/plain": [
       "(494,)"
      ]
     },
     "execution_count": 701,
     "metadata": {},
     "output_type": "execute_result"
    }
   ],
   "source": [
    "data4['Series'].shape"
   ]
  },
  {
   "cell_type": "code",
   "execution_count": 702,
   "metadata": {},
   "outputs": [
    {
     "data": {
      "text/plain": [
       "(494,)"
      ]
     },
     "execution_count": 702,
     "metadata": {},
     "output_type": "execute_result"
    }
   ],
   "source": [
    "data3['Series'].shape"
   ]
  },
  {
   "cell_type": "code",
   "execution_count": 703,
   "metadata": {},
   "outputs": [
    {
     "data": {
      "text/html": [
       "<div>\n",
       "<style scoped>\n",
       "    .dataframe tbody tr th:only-of-type {\n",
       "        vertical-align: middle;\n",
       "    }\n",
       "\n",
       "    .dataframe tbody tr th {\n",
       "        vertical-align: top;\n",
       "    }\n",
       "\n",
       "    .dataframe thead th {\n",
       "        text-align: right;\n",
       "    }\n",
       "</style>\n",
       "<table border=\"1\" class=\"dataframe\">\n",
       "  <thead>\n",
       "    <tr style=\"text-align: right;\">\n",
       "      <th></th>\n",
       "      <th>Symbol</th>\n",
       "      <th>Date</th>\n",
       "      <th>Prev Close</th>\n",
       "      <th>Open Price</th>\n",
       "      <th>High Price</th>\n",
       "      <th>Low Price</th>\n",
       "      <th>Last Price</th>\n",
       "      <th>Close Price</th>\n",
       "      <th>Average Price</th>\n",
       "      <th>Total Traded Quantity</th>\n",
       "      <th>Turnover</th>\n",
       "      <th>No. of Trades</th>\n",
       "      <th>Deliverable Qty</th>\n",
       "      <th>% Dly Qt to Traded Qty</th>\n",
       "    </tr>\n",
       "    <tr>\n",
       "      <th>Series</th>\n",
       "      <th></th>\n",
       "      <th></th>\n",
       "      <th></th>\n",
       "      <th></th>\n",
       "      <th></th>\n",
       "      <th></th>\n",
       "      <th></th>\n",
       "      <th></th>\n",
       "      <th></th>\n",
       "      <th></th>\n",
       "      <th></th>\n",
       "      <th></th>\n",
       "      <th></th>\n",
       "      <th></th>\n",
       "    </tr>\n",
       "  </thead>\n",
       "  <tbody>\n",
       "    <tr>\n",
       "      <td>EQ</td>\n",
       "      <td>494</td>\n",
       "      <td>494</td>\n",
       "      <td>494</td>\n",
       "      <td>494</td>\n",
       "      <td>494</td>\n",
       "      <td>494</td>\n",
       "      <td>494</td>\n",
       "      <td>494</td>\n",
       "      <td>494</td>\n",
       "      <td>494</td>\n",
       "      <td>494</td>\n",
       "      <td>494</td>\n",
       "      <td>494</td>\n",
       "      <td>494</td>\n",
       "    </tr>\n",
       "  </tbody>\n",
       "</table>\n",
       "</div>"
      ],
      "text/plain": [
       "        Symbol  Date  Prev Close  Open Price  High Price  Low Price  \\\n",
       "Series                                                                \n",
       "EQ         494   494         494         494         494        494   \n",
       "\n",
       "        Last Price  Close Price  Average Price  Total Traded Quantity  \\\n",
       "Series                                                                  \n",
       "EQ             494          494            494                    494   \n",
       "\n",
       "        Turnover  No. of Trades  Deliverable Qty  % Dly Qt to Traded Qty  \n",
       "Series                                                                    \n",
       "EQ           494            494              494                     494  "
      ]
     },
     "execution_count": 703,
     "metadata": {},
     "output_type": "execute_result"
    }
   ],
   "source": [
    "data4.groupby('Series').count()"
   ]
  },
  {
   "cell_type": "code",
   "execution_count": 704,
   "metadata": {},
   "outputs": [
    {
     "name": "stdout",
     "output_type": "stream",
     "text": [
      "(494, 5)\n"
     ]
    }
   ],
   "source": [
    "portfolio = pd.DataFrame()\n",
    "portfolio['Stock 1'],portfolio['Stock 2'],portfolio['Stock 3'],portfolio['Stock 4'],portfolio['Stock 5'] = data1['Close Price'],data2['Close Price'],data3['Close Price'],data4['Close Price'],data5['Close Price']\n",
    "print(portfolio.shape)"
   ]
  },
  {
   "cell_type": "code",
   "execution_count": 705,
   "metadata": {},
   "outputs": [
    {
     "data": {
      "text/html": [
       "<div>\n",
       "<style scoped>\n",
       "    .dataframe tbody tr th:only-of-type {\n",
       "        vertical-align: middle;\n",
       "    }\n",
       "\n",
       "    .dataframe tbody tr th {\n",
       "        vertical-align: top;\n",
       "    }\n",
       "\n",
       "    .dataframe thead th {\n",
       "        text-align: right;\n",
       "    }\n",
       "</style>\n",
       "<table border=\"1\" class=\"dataframe\">\n",
       "  <thead>\n",
       "    <tr style=\"text-align: right;\">\n",
       "      <th></th>\n",
       "      <th>Stock 1</th>\n",
       "      <th>Stock 2</th>\n",
       "      <th>Stock 3</th>\n",
       "      <th>Stock 4</th>\n",
       "      <th>Stock 5</th>\n",
       "    </tr>\n",
       "  </thead>\n",
       "  <tbody>\n",
       "    <tr>\n",
       "      <td>0</td>\n",
       "      <td>245.80</td>\n",
       "      <td>231.90</td>\n",
       "      <td>500.1</td>\n",
       "      <td>198.45</td>\n",
       "      <td>414.00</td>\n",
       "    </tr>\n",
       "    <tr>\n",
       "      <td>1</td>\n",
       "      <td>244.70</td>\n",
       "      <td>234.40</td>\n",
       "      <td>501.5</td>\n",
       "      <td>196.50</td>\n",
       "      <td>411.40</td>\n",
       "    </tr>\n",
       "    <tr>\n",
       "      <td>2</td>\n",
       "      <td>243.20</td>\n",
       "      <td>237.35</td>\n",
       "      <td>502.8</td>\n",
       "      <td>198.85</td>\n",
       "      <td>408.30</td>\n",
       "    </tr>\n",
       "    <tr>\n",
       "      <td>3</td>\n",
       "      <td>239.85</td>\n",
       "      <td>232.65</td>\n",
       "      <td>492.0</td>\n",
       "      <td>194.00</td>\n",
       "      <td>404.75</td>\n",
       "    </tr>\n",
       "    <tr>\n",
       "      <td>4</td>\n",
       "      <td>238.15</td>\n",
       "      <td>234.65</td>\n",
       "      <td>501.7</td>\n",
       "      <td>191.00</td>\n",
       "      <td>401.05</td>\n",
       "    </tr>\n",
       "  </tbody>\n",
       "</table>\n",
       "</div>"
      ],
      "text/plain": [
       "   Stock 1  Stock 2  Stock 3  Stock 4  Stock 5\n",
       "0   245.80   231.90    500.1   198.45   414.00\n",
       "1   244.70   234.40    501.5   196.50   411.40\n",
       "2   243.20   237.35    502.8   198.85   408.30\n",
       "3   239.85   232.65    492.0   194.00   404.75\n",
       "4   238.15   234.65    501.7   191.00   401.05"
      ]
     },
     "execution_count": 705,
     "metadata": {},
     "output_type": "execute_result"
    }
   ],
   "source": [
    "portfolio.head()"
   ]
  },
  {
   "cell_type": "code",
   "execution_count": 706,
   "metadata": {},
   "outputs": [],
   "source": [
    "portfolio['Daily Return Stock 1 %'] = portfolio['Stock 1'].pct_change() * 100\n",
    "portfolio['Daily Return Stock 2 %'] = portfolio['Stock 2'].pct_change() * 100\n",
    "portfolio['Daily Return Stock 3 %'] = portfolio['Stock 3'].pct_change() * 100\n",
    "portfolio['Daily Return Stock 4 %'] = portfolio['Stock 4'].pct_change() * 100\n",
    "portfolio['Daily Return Stock 5 %'] = portfolio['Stock 5'].pct_change() * 100"
   ]
  },
  {
   "cell_type": "code",
   "execution_count": 707,
   "metadata": {},
   "outputs": [
    {
     "data": {
      "text/html": [
       "<div>\n",
       "<style scoped>\n",
       "    .dataframe tbody tr th:only-of-type {\n",
       "        vertical-align: middle;\n",
       "    }\n",
       "\n",
       "    .dataframe tbody tr th {\n",
       "        vertical-align: top;\n",
       "    }\n",
       "\n",
       "    .dataframe thead th {\n",
       "        text-align: right;\n",
       "    }\n",
       "</style>\n",
       "<table border=\"1\" class=\"dataframe\">\n",
       "  <thead>\n",
       "    <tr style=\"text-align: right;\">\n",
       "      <th></th>\n",
       "      <th>Stock 1</th>\n",
       "      <th>Stock 2</th>\n",
       "      <th>Stock 3</th>\n",
       "      <th>Stock 4</th>\n",
       "      <th>Stock 5</th>\n",
       "      <th>Daily Return Stock 1 %</th>\n",
       "      <th>Daily Return Stock 2 %</th>\n",
       "      <th>Daily Return Stock 3 %</th>\n",
       "      <th>Daily Return Stock 4 %</th>\n",
       "      <th>Daily Return Stock 5 %</th>\n",
       "    </tr>\n",
       "  </thead>\n",
       "  <tbody>\n",
       "    <tr>\n",
       "      <td>0</td>\n",
       "      <td>245.80</td>\n",
       "      <td>231.90</td>\n",
       "      <td>500.1</td>\n",
       "      <td>198.45</td>\n",
       "      <td>414.00</td>\n",
       "      <td>0.000000</td>\n",
       "      <td>0.000000</td>\n",
       "      <td>0.000000</td>\n",
       "      <td>0.000000</td>\n",
       "      <td>0.000000</td>\n",
       "    </tr>\n",
       "    <tr>\n",
       "      <td>1</td>\n",
       "      <td>244.70</td>\n",
       "      <td>234.40</td>\n",
       "      <td>501.5</td>\n",
       "      <td>196.50</td>\n",
       "      <td>411.40</td>\n",
       "      <td>-0.447518</td>\n",
       "      <td>1.078051</td>\n",
       "      <td>0.279944</td>\n",
       "      <td>-0.982615</td>\n",
       "      <td>-0.628019</td>\n",
       "    </tr>\n",
       "    <tr>\n",
       "      <td>2</td>\n",
       "      <td>243.20</td>\n",
       "      <td>237.35</td>\n",
       "      <td>502.8</td>\n",
       "      <td>198.85</td>\n",
       "      <td>408.30</td>\n",
       "      <td>-0.612996</td>\n",
       "      <td>1.258532</td>\n",
       "      <td>0.259222</td>\n",
       "      <td>1.195929</td>\n",
       "      <td>-0.753525</td>\n",
       "    </tr>\n",
       "    <tr>\n",
       "      <td>3</td>\n",
       "      <td>239.85</td>\n",
       "      <td>232.65</td>\n",
       "      <td>492.0</td>\n",
       "      <td>194.00</td>\n",
       "      <td>404.75</td>\n",
       "      <td>-1.377467</td>\n",
       "      <td>-1.980198</td>\n",
       "      <td>-2.147971</td>\n",
       "      <td>-2.439024</td>\n",
       "      <td>-0.869459</td>\n",
       "    </tr>\n",
       "    <tr>\n",
       "      <td>4</td>\n",
       "      <td>238.15</td>\n",
       "      <td>234.65</td>\n",
       "      <td>501.7</td>\n",
       "      <td>191.00</td>\n",
       "      <td>401.05</td>\n",
       "      <td>-0.708776</td>\n",
       "      <td>0.859660</td>\n",
       "      <td>1.971545</td>\n",
       "      <td>-1.546392</td>\n",
       "      <td>-0.914145</td>\n",
       "    </tr>\n",
       "  </tbody>\n",
       "</table>\n",
       "</div>"
      ],
      "text/plain": [
       "   Stock 1  Stock 2  Stock 3  Stock 4  Stock 5  Daily Return Stock 1 %  \\\n",
       "0   245.80   231.90    500.1   198.45   414.00                0.000000   \n",
       "1   244.70   234.40    501.5   196.50   411.40               -0.447518   \n",
       "2   243.20   237.35    502.8   198.85   408.30               -0.612996   \n",
       "3   239.85   232.65    492.0   194.00   404.75               -1.377467   \n",
       "4   238.15   234.65    501.7   191.00   401.05               -0.708776   \n",
       "\n",
       "   Daily Return Stock 2 %  Daily Return Stock 3 %  Daily Return Stock 4 %  \\\n",
       "0                0.000000                0.000000                0.000000   \n",
       "1                1.078051                0.279944               -0.982615   \n",
       "2                1.258532                0.259222                1.195929   \n",
       "3               -1.980198               -2.147971               -2.439024   \n",
       "4                0.859660                1.971545               -1.546392   \n",
       "\n",
       "   Daily Return Stock 5 %  \n",
       "0                0.000000  \n",
       "1               -0.628019  \n",
       "2               -0.753525  \n",
       "3               -0.869459  \n",
       "4               -0.914145  "
      ]
     },
     "execution_count": 707,
     "metadata": {},
     "output_type": "execute_result"
    }
   ],
   "source": [
    "\n",
    "portfolio.fillna(0,inplace=True)\n",
    "portfolio.head()"
   ]
  },
  {
   "cell_type": "markdown",
   "metadata": {},
   "source": [
    "### Annual Returns of Portfolio"
   ]
  },
  {
   "cell_type": "code",
   "execution_count": 708,
   "metadata": {},
   "outputs": [],
   "source": [
    "annual_returns = {}\n",
    "for i in range(1,6):\n",
    "    annual_returns['annual_mean_return_' + str(i)] = np.mean(portfolio[f'Daily Return Stock {str(i)} %'])*252\n"
   ]
  },
  {
   "cell_type": "code",
   "execution_count": 709,
   "metadata": {},
   "outputs": [
    {
     "name": "stdout",
     "output_type": "stream",
     "text": [
      "dict_values([-5.137978737956119, -6.417244415870524, 23.476954577198583, 4.956107546135261, -5.24445249678711])\n"
     ]
    }
   ],
   "source": [
    "print(annual_returns.values())"
   ]
  },
  {
   "cell_type": "code",
   "execution_count": 710,
   "metadata": {},
   "outputs": [
    {
     "name": "stdout",
     "output_type": "stream",
     "text": [
      "The total annual return of portfolio is: 2.3266772945440186 %\n"
     ]
    }
   ],
   "source": [
    "total_port_annual_return = np.sum(list(annual_returns.values()))\n",
    "total_port_annual_return = (total_port_annual_return*0.20)\n",
    "print(f'The total annual return of portfolio is: {total_port_annual_return} %') "
   ]
  },
  {
   "cell_type": "markdown",
   "metadata": {},
   "source": [
    "## Volatility\n",
    "\n",
    "Using The Formula:\n",
    "\n",
    "$ Volatility = \\sqrt {Variance(aX + bY + cZ)} ,$\n",
    "\n",
    "$ Variance(aX + bY + cZ) = {a^2} * Variance(X) + {b^2} * Variance(Y) + {c^2} * Variance(Z) + 2 * T, $\n",
    "\n",
    "$ T = a * b * Cov_{(a,b)} + a * c * Cov_{(a,c)} + b * c * Cov_{(b,c)} , where $\n",
    "\n",
    "$ Cov_{(a,b)} = Covariance_{a,b} $\n"
   ]
  },
  {
   "cell_type": "markdown",
   "metadata": {},
   "source": [
    "## Formula for Covariance :\n",
    "$ Cov_{a,b} = Corr_{x,y} * \\sigma(x) * \\sigma(y)$ "
   ]
  },
  {
   "cell_type": "markdown",
   "metadata": {},
   "source": [
    "## Formula for this specific problem :\n",
    "here a=b=c=d=e , all weights same,i.e 20% or 0.20\n",
    "\n",
    "$ Variance(aA + aB + aC + aD + aE ) = {a^2} * {\\sum_{A}^{E}Variance(x)}+ {2 * a^2} * T , $\n",
    "\n",
    "$ T = \\sum {Cov_{x,y}} , where x,y = $ All Possible Combinations of 5 stocks.\n",
    "\n",
    "Example:\n",
    "For 4 stocks , the combinations are: (a,b) (a,c) (a,d) (b,c) (b,d) (c,d)\n",
    "\n",
    "### Following Links can be referred to for better understanding:\n",
    "\n",
    "1. https://financetrainingcourse.com/education/2011/04/market-risk-metrics-portfolio-volatility/\n",
    "2. https://acadgild.com/blog/covariance-and-correlation\n",
    "3. https://www.investopedia.com/terms/m/modernportfoliotheory.asp\n"
   ]
  },
  {
   "cell_type": "markdown",
   "metadata": {},
   "source": [
    "### Getting Annual Variance for each stock as required in formula"
   ]
  },
  {
   "cell_type": "code",
   "execution_count": 711,
   "metadata": {},
   "outputs": [],
   "source": [
    "annual_std = {}\n",
    "for i in range(1,6):\n",
    "    annual_std['annual_std_' + str(i)] = np.std(portfolio[f'Daily Return Stock {str(i)} %']) * np.sqrt(252)"
   ]
  },
  {
   "cell_type": "code",
   "execution_count": 712,
   "metadata": {},
   "outputs": [
    {
     "data": {
      "text/plain": [
       "dict_values([26.24522721627045, 30.981555985428628, 27.733332446145756, 33.58093116316933, 33.77389522874613])"
      ]
     },
     "execution_count": 712,
     "metadata": {},
     "output_type": "execute_result"
    }
   ],
   "source": [
    "annual_std.values()"
   ]
  },
  {
   "cell_type": "code",
   "execution_count": 713,
   "metadata": {},
   "outputs": [],
   "source": [
    "annual_variance = map(lambda x: x**2,list(annual_std.values()))"
   ]
  },
  {
   "cell_type": "code",
   "execution_count": 714,
   "metadata": {},
   "outputs": [],
   "source": [
    "annual_variance = list(annual_variance)"
   ]
  },
  {
   "cell_type": "code",
   "execution_count": 715,
   "metadata": {},
   "outputs": [
    {
     "data": {
      "text/plain": [
       "[688.8119516336632,\n",
       " 959.8568112782484,\n",
       " 769.1377285684409,\n",
       " 1127.6789377855173,\n",
       " 1140.6759989223203]"
      ]
     },
     "execution_count": 715,
     "metadata": {},
     "output_type": "execute_result"
    }
   ],
   "source": [
    "annual_variance"
   ]
  },
  {
   "cell_type": "code",
   "execution_count": 716,
   "metadata": {},
   "outputs": [
    {
     "data": {
      "text/html": [
       "<div>\n",
       "<style scoped>\n",
       "    .dataframe tbody tr th:only-of-type {\n",
       "        vertical-align: middle;\n",
       "    }\n",
       "\n",
       "    .dataframe tbody tr th {\n",
       "        vertical-align: top;\n",
       "    }\n",
       "\n",
       "    .dataframe thead th {\n",
       "        text-align: right;\n",
       "    }\n",
       "</style>\n",
       "<table border=\"1\" class=\"dataframe\">\n",
       "  <thead>\n",
       "    <tr style=\"text-align: right;\">\n",
       "      <th></th>\n",
       "      <th>Stock 1</th>\n",
       "      <th>Stock 2</th>\n",
       "      <th>Stock 3</th>\n",
       "      <th>Stock 4</th>\n",
       "      <th>Stock 5</th>\n",
       "      <th>Daily Return Stock 1 %</th>\n",
       "      <th>Daily Return Stock 2 %</th>\n",
       "      <th>Daily Return Stock 3 %</th>\n",
       "      <th>Daily Return Stock 4 %</th>\n",
       "      <th>Daily Return Stock 5 %</th>\n",
       "    </tr>\n",
       "  </thead>\n",
       "  <tbody>\n",
       "    <tr>\n",
       "      <td>0</td>\n",
       "      <td>245.80</td>\n",
       "      <td>231.90</td>\n",
       "      <td>500.1</td>\n",
       "      <td>198.45</td>\n",
       "      <td>414.00</td>\n",
       "      <td>0.000000</td>\n",
       "      <td>0.000000</td>\n",
       "      <td>0.000000</td>\n",
       "      <td>0.000000</td>\n",
       "      <td>0.000000</td>\n",
       "    </tr>\n",
       "    <tr>\n",
       "      <td>1</td>\n",
       "      <td>244.70</td>\n",
       "      <td>234.40</td>\n",
       "      <td>501.5</td>\n",
       "      <td>196.50</td>\n",
       "      <td>411.40</td>\n",
       "      <td>-0.447518</td>\n",
       "      <td>1.078051</td>\n",
       "      <td>0.279944</td>\n",
       "      <td>-0.982615</td>\n",
       "      <td>-0.628019</td>\n",
       "    </tr>\n",
       "    <tr>\n",
       "      <td>2</td>\n",
       "      <td>243.20</td>\n",
       "      <td>237.35</td>\n",
       "      <td>502.8</td>\n",
       "      <td>198.85</td>\n",
       "      <td>408.30</td>\n",
       "      <td>-0.612996</td>\n",
       "      <td>1.258532</td>\n",
       "      <td>0.259222</td>\n",
       "      <td>1.195929</td>\n",
       "      <td>-0.753525</td>\n",
       "    </tr>\n",
       "    <tr>\n",
       "      <td>3</td>\n",
       "      <td>239.85</td>\n",
       "      <td>232.65</td>\n",
       "      <td>492.0</td>\n",
       "      <td>194.00</td>\n",
       "      <td>404.75</td>\n",
       "      <td>-1.377467</td>\n",
       "      <td>-1.980198</td>\n",
       "      <td>-2.147971</td>\n",
       "      <td>-2.439024</td>\n",
       "      <td>-0.869459</td>\n",
       "    </tr>\n",
       "    <tr>\n",
       "      <td>4</td>\n",
       "      <td>238.15</td>\n",
       "      <td>234.65</td>\n",
       "      <td>501.7</td>\n",
       "      <td>191.00</td>\n",
       "      <td>401.05</td>\n",
       "      <td>-0.708776</td>\n",
       "      <td>0.859660</td>\n",
       "      <td>1.971545</td>\n",
       "      <td>-1.546392</td>\n",
       "      <td>-0.914145</td>\n",
       "    </tr>\n",
       "  </tbody>\n",
       "</table>\n",
       "</div>"
      ],
      "text/plain": [
       "   Stock 1  Stock 2  Stock 3  Stock 4  Stock 5  Daily Return Stock 1 %  \\\n",
       "0   245.80   231.90    500.1   198.45   414.00                0.000000   \n",
       "1   244.70   234.40    501.5   196.50   411.40               -0.447518   \n",
       "2   243.20   237.35    502.8   198.85   408.30               -0.612996   \n",
       "3   239.85   232.65    492.0   194.00   404.75               -1.377467   \n",
       "4   238.15   234.65    501.7   191.00   401.05               -0.708776   \n",
       "\n",
       "   Daily Return Stock 2 %  Daily Return Stock 3 %  Daily Return Stock 4 %  \\\n",
       "0                0.000000                0.000000                0.000000   \n",
       "1                1.078051                0.279944               -0.982615   \n",
       "2                1.258532                0.259222                1.195929   \n",
       "3               -1.980198               -2.147971               -2.439024   \n",
       "4                0.859660                1.971545               -1.546392   \n",
       "\n",
       "   Daily Return Stock 5 %  \n",
       "0                0.000000  \n",
       "1               -0.628019  \n",
       "2               -0.753525  \n",
       "3               -0.869459  \n",
       "4               -0.914145  "
      ]
     },
     "execution_count": 716,
     "metadata": {},
     "output_type": "execute_result"
    }
   ],
   "source": [
    "portfolio.head()"
   ]
  },
  {
   "cell_type": "markdown",
   "metadata": {},
   "source": [
    "### Getting Covariance for all stocks"
   ]
  },
  {
   "cell_type": "code",
   "execution_count": 717,
   "metadata": {},
   "outputs": [],
   "source": [
    "cov = portfolio[['Daily Return Stock 1 %','Daily Return Stock 2 %','Daily Return Stock 3 %','Daily Return Stock 4 %','Daily Return Stock 5 %',]].cov()"
   ]
  },
  {
   "cell_type": "code",
   "execution_count": 718,
   "metadata": {},
   "outputs": [
    {
     "data": {
      "text/html": [
       "<div>\n",
       "<style scoped>\n",
       "    .dataframe tbody tr th:only-of-type {\n",
       "        vertical-align: middle;\n",
       "    }\n",
       "\n",
       "    .dataframe tbody tr th {\n",
       "        vertical-align: top;\n",
       "    }\n",
       "\n",
       "    .dataframe thead th {\n",
       "        text-align: right;\n",
       "    }\n",
       "</style>\n",
       "<table border=\"1\" class=\"dataframe\">\n",
       "  <thead>\n",
       "    <tr style=\"text-align: right;\">\n",
       "      <th></th>\n",
       "      <th>Daily Return Stock 1 %</th>\n",
       "      <th>Daily Return Stock 2 %</th>\n",
       "      <th>Daily Return Stock 3 %</th>\n",
       "      <th>Daily Return Stock 4 %</th>\n",
       "      <th>Daily Return Stock 5 %</th>\n",
       "    </tr>\n",
       "  </thead>\n",
       "  <tbody>\n",
       "    <tr>\n",
       "      <td>Daily Return Stock 1 %</td>\n",
       "      <td>2.738925</td>\n",
       "      <td>1.262564</td>\n",
       "      <td>0.629481</td>\n",
       "      <td>0.748506</td>\n",
       "      <td>0.842928</td>\n",
       "    </tr>\n",
       "    <tr>\n",
       "      <td>Daily Return Stock 2 %</td>\n",
       "      <td>1.262564</td>\n",
       "      <td>3.816682</td>\n",
       "      <td>0.779906</td>\n",
       "      <td>0.670469</td>\n",
       "      <td>0.685648</td>\n",
       "    </tr>\n",
       "    <tr>\n",
       "      <td>Daily Return Stock 3 %</td>\n",
       "      <td>0.629481</td>\n",
       "      <td>0.779906</td>\n",
       "      <td>3.058325</td>\n",
       "      <td>0.738138</td>\n",
       "      <td>0.275376</td>\n",
       "    </tr>\n",
       "    <tr>\n",
       "      <td>Daily Return Stock 4 %</td>\n",
       "      <td>0.748506</td>\n",
       "      <td>0.670469</td>\n",
       "      <td>0.738138</td>\n",
       "      <td>4.483993</td>\n",
       "      <td>0.374756</td>\n",
       "    </tr>\n",
       "    <tr>\n",
       "      <td>Daily Return Stock 5 %</td>\n",
       "      <td>0.842928</td>\n",
       "      <td>0.685648</td>\n",
       "      <td>0.275376</td>\n",
       "      <td>0.374756</td>\n",
       "      <td>4.535674</td>\n",
       "    </tr>\n",
       "  </tbody>\n",
       "</table>\n",
       "</div>"
      ],
      "text/plain": [
       "                        Daily Return Stock 1 %  Daily Return Stock 2 %  \\\n",
       "Daily Return Stock 1 %                2.738925                1.262564   \n",
       "Daily Return Stock 2 %                1.262564                3.816682   \n",
       "Daily Return Stock 3 %                0.629481                0.779906   \n",
       "Daily Return Stock 4 %                0.748506                0.670469   \n",
       "Daily Return Stock 5 %                0.842928                0.685648   \n",
       "\n",
       "                        Daily Return Stock 3 %  Daily Return Stock 4 %  \\\n",
       "Daily Return Stock 1 %                0.629481                0.748506   \n",
       "Daily Return Stock 2 %                0.779906                0.670469   \n",
       "Daily Return Stock 3 %                3.058325                0.738138   \n",
       "Daily Return Stock 4 %                0.738138                4.483993   \n",
       "Daily Return Stock 5 %                0.275376                0.374756   \n",
       "\n",
       "                        Daily Return Stock 5 %  \n",
       "Daily Return Stock 1 %                0.842928  \n",
       "Daily Return Stock 2 %                0.685648  \n",
       "Daily Return Stock 3 %                0.275376  \n",
       "Daily Return Stock 4 %                0.374756  \n",
       "Daily Return Stock 5 %                4.535674  "
      ]
     },
     "execution_count": 718,
     "metadata": {},
     "output_type": "execute_result"
    }
   ],
   "source": [
    "cov"
   ]
  },
  {
   "cell_type": "code",
   "execution_count": 719,
   "metadata": {},
   "outputs": [],
   "source": [
    "cov_arr = np.array(cov)"
   ]
  },
  {
   "cell_type": "code",
   "execution_count": 720,
   "metadata": {},
   "outputs": [
    {
     "data": {
      "text/plain": [
       "array([[2.73892514, 1.26256371, 0.62948074, 0.74850627, 0.84292763],\n",
       "       [1.26256371, 3.81668168, 0.77990576, 0.67046859, 0.68564767],\n",
       "       [0.62948074, 0.77990576, 3.05832478, 0.73813792, 0.27537637],\n",
       "       [0.74850627, 0.67046859, 0.73813792, 4.48399333, 0.3747565 ],\n",
       "       [0.84292763, 0.68564767, 0.27537637, 0.3747565 , 4.53567358]])"
      ]
     },
     "execution_count": 720,
     "metadata": {},
     "output_type": "execute_result"
    }
   ],
   "source": [
    "cov_arr"
   ]
  },
  {
   "cell_type": "markdown",
   "metadata": {},
   "source": [
    "### Extracting just what we need"
   ]
  },
  {
   "cell_type": "code",
   "execution_count": 721,
   "metadata": {},
   "outputs": [],
   "source": [
    "cov_dict = {}\n",
    "for i in range(0,5):\n",
    "    for j in range(0,5):\n",
    "        if(i<j):\n",
    "            cov_dict[str(i) + '-' + str(j)] = cov_arr[i][j]\n",
    "    "
   ]
  },
  {
   "cell_type": "code",
   "execution_count": 722,
   "metadata": {},
   "outputs": [
    {
     "data": {
      "text/plain": [
       "{'0-1': 1.2625637063090347,\n",
       " '0-2': 0.6294807374552785,\n",
       " '0-3': 0.7485062733290418,\n",
       " '0-4': 0.8429276275882054,\n",
       " '1-2': 0.7799057582827753,\n",
       " '1-3': 0.670468586934778,\n",
       " '1-4': 0.6856476704482577,\n",
       " '2-3': 0.7381379151358225,\n",
       " '2-4': 0.27537637477431975,\n",
       " '3-4': 0.37475649652995663}"
      ]
     },
     "execution_count": 722,
     "metadata": {},
     "output_type": "execute_result"
    }
   ],
   "source": [
    "cov_dict"
   ]
  },
  {
   "cell_type": "code",
   "execution_count": 723,
   "metadata": {},
   "outputs": [
    {
     "data": {
      "text/plain": [
       "dict_values([1.2625637063090347, 0.6294807374552785, 0.7485062733290418, 0.8429276275882054, 0.7799057582827753, 0.670468586934778, 0.6856476704482577, 0.7381379151358225, 0.27537637477431975, 0.37475649652995663])"
      ]
     },
     "execution_count": 723,
     "metadata": {},
     "output_type": "execute_result"
    }
   ],
   "source": [
    "cov_dict.values()"
   ]
  },
  {
   "cell_type": "code",
   "execution_count": 724,
   "metadata": {},
   "outputs": [
    {
     "data": {
      "text/plain": [
       "7.00777114678747"
      ]
     },
     "execution_count": 724,
     "metadata": {},
     "output_type": "execute_result"
    }
   ],
   "source": [
    "sum_cov = 0\n",
    "for value in cov_dict.values():\n",
    "    sum_cov += value\n",
    "sum_cov"
   ]
  },
  {
   "cell_type": "code",
   "execution_count": 725,
   "metadata": {},
   "outputs": [],
   "source": [
    "weight = 0.2\n",
    "vol_sum = 0\n",
    "for i in range(5):\n",
    "    vol_sum += (weight ** 2) * (annual_variance[i])\n",
    "\n",
    "volatility_port = vol_sum + ((2*weight*weight) * sum_cov) \n",
    "volatility_port = np.sqrt(volatility_port)\n"
   ]
  },
  {
   "cell_type": "markdown",
   "metadata": {},
   "source": [
    "\n",
    "### Annual Return & Volatility for portfolio."
   ]
  },
  {
   "cell_type": "code",
   "execution_count": 726,
   "metadata": {},
   "outputs": [
    {
     "name": "stdout",
     "output_type": "stream",
     "text": [
      "The Total Annual Return of this Portfolio is: 2.327 %\n",
      "The Total Volatility for this Portfolio is: 13.712 %\n"
     ]
    }
   ],
   "source": [
    "print(f'The Total Annual Return of this Portfolio is: {np.round(total_port_annual_return,3)} %\\nThe Total Volatility for this Portfolio is: {np.round(volatility_port,3)} %')"
   ]
  },
  {
   "cell_type": "markdown",
   "metadata": {},
   "source": [
    "# 5.3"
   ]
  },
  {
   "cell_type": "code",
   "execution_count": 727,
   "metadata": {},
   "outputs": [
    {
     "data": {
      "text/html": [
       "<div>\n",
       "<style scoped>\n",
       "    .dataframe tbody tr th:only-of-type {\n",
       "        vertical-align: middle;\n",
       "    }\n",
       "\n",
       "    .dataframe tbody tr th {\n",
       "        vertical-align: top;\n",
       "    }\n",
       "\n",
       "    .dataframe thead th {\n",
       "        text-align: right;\n",
       "    }\n",
       "</style>\n",
       "<table border=\"1\" class=\"dataframe\">\n",
       "  <thead>\n",
       "    <tr style=\"text-align: right;\">\n",
       "      <th></th>\n",
       "      <th>0</th>\n",
       "      <th>1</th>\n",
       "      <th>2</th>\n",
       "      <th>3</th>\n",
       "      <th>4</th>\n",
       "    </tr>\n",
       "  </thead>\n",
       "  <tbody>\n",
       "    <tr>\n",
       "      <td>0</td>\n",
       "      <td>0.182737</td>\n",
       "      <td>0.174430</td>\n",
       "      <td>0.413294</td>\n",
       "      <td>0.095309</td>\n",
       "      <td>0.134230</td>\n",
       "    </tr>\n",
       "    <tr>\n",
       "      <td>1</td>\n",
       "      <td>0.254610</td>\n",
       "      <td>0.128139</td>\n",
       "      <td>0.080061</td>\n",
       "      <td>0.248920</td>\n",
       "      <td>0.288270</td>\n",
       "    </tr>\n",
       "    <tr>\n",
       "      <td>2</td>\n",
       "      <td>0.163325</td>\n",
       "      <td>0.145927</td>\n",
       "      <td>0.032491</td>\n",
       "      <td>0.349564</td>\n",
       "      <td>0.308693</td>\n",
       "    </tr>\n",
       "    <tr>\n",
       "      <td>3</td>\n",
       "      <td>0.028335</td>\n",
       "      <td>0.185776</td>\n",
       "      <td>0.239813</td>\n",
       "      <td>0.271293</td>\n",
       "      <td>0.274782</td>\n",
       "    </tr>\n",
       "    <tr>\n",
       "      <td>4</td>\n",
       "      <td>0.261787</td>\n",
       "      <td>0.313233</td>\n",
       "      <td>0.035879</td>\n",
       "      <td>0.025473</td>\n",
       "      <td>0.363628</td>\n",
       "    </tr>\n",
       "  </tbody>\n",
       "</table>\n",
       "</div>"
      ],
      "text/plain": [
       "          0         1         2         3         4\n",
       "0  0.182737  0.174430  0.413294  0.095309  0.134230\n",
       "1  0.254610  0.128139  0.080061  0.248920  0.288270\n",
       "2  0.163325  0.145927  0.032491  0.349564  0.308693\n",
       "3  0.028335  0.185776  0.239813  0.271293  0.274782\n",
       "4  0.261787  0.313233  0.035879  0.025473  0.363628"
      ]
     },
     "execution_count": 727,
     "metadata": {},
     "output_type": "execute_result"
    }
   ],
   "source": [
    "A = np.array(np.random.rand(494,5))\n",
    "s = A\n",
    "for i in range(len(s)):\n",
    "    s[i] = s[i] * (1/np.sum(s[i]))\n",
    "np.sum(s,axis=1)\n",
    "s = pd.DataFrame(s)\n",
    "s.head()"
   ]
  },
  {
   "cell_type": "code",
   "execution_count": 728,
   "metadata": {},
   "outputs": [
    {
     "data": {
      "text/html": [
       "<div>\n",
       "<style scoped>\n",
       "    .dataframe tbody tr th:only-of-type {\n",
       "        vertical-align: middle;\n",
       "    }\n",
       "\n",
       "    .dataframe tbody tr th {\n",
       "        vertical-align: top;\n",
       "    }\n",
       "\n",
       "    .dataframe thead th {\n",
       "        text-align: right;\n",
       "    }\n",
       "</style>\n",
       "<table border=\"1\" class=\"dataframe\">\n",
       "  <thead>\n",
       "    <tr style=\"text-align: right;\">\n",
       "      <th></th>\n",
       "      <th>Daily Return Stock 1 %</th>\n",
       "      <th>Daily Return Stock 2 %</th>\n",
       "      <th>Daily Return Stock 3 %</th>\n",
       "      <th>Daily Return Stock 4 %</th>\n",
       "      <th>Daily Return Stock 5 %</th>\n",
       "    </tr>\n",
       "  </thead>\n",
       "  <tbody>\n",
       "    <tr>\n",
       "      <td>0</td>\n",
       "      <td>0.000000</td>\n",
       "      <td>0.000000</td>\n",
       "      <td>0.000000</td>\n",
       "      <td>0.000000</td>\n",
       "      <td>0.000000</td>\n",
       "    </tr>\n",
       "    <tr>\n",
       "      <td>1</td>\n",
       "      <td>-0.447518</td>\n",
       "      <td>1.078051</td>\n",
       "      <td>0.279944</td>\n",
       "      <td>-0.982615</td>\n",
       "      <td>-0.628019</td>\n",
       "    </tr>\n",
       "    <tr>\n",
       "      <td>2</td>\n",
       "      <td>-0.612996</td>\n",
       "      <td>1.258532</td>\n",
       "      <td>0.259222</td>\n",
       "      <td>1.195929</td>\n",
       "      <td>-0.753525</td>\n",
       "    </tr>\n",
       "    <tr>\n",
       "      <td>3</td>\n",
       "      <td>-1.377467</td>\n",
       "      <td>-1.980198</td>\n",
       "      <td>-2.147971</td>\n",
       "      <td>-2.439024</td>\n",
       "      <td>-0.869459</td>\n",
       "    </tr>\n",
       "    <tr>\n",
       "      <td>4</td>\n",
       "      <td>-0.708776</td>\n",
       "      <td>0.859660</td>\n",
       "      <td>1.971545</td>\n",
       "      <td>-1.546392</td>\n",
       "      <td>-0.914145</td>\n",
       "    </tr>\n",
       "    <tr>\n",
       "      <td>...</td>\n",
       "      <td>...</td>\n",
       "      <td>...</td>\n",
       "      <td>...</td>\n",
       "      <td>...</td>\n",
       "      <td>...</td>\n",
       "    </tr>\n",
       "    <tr>\n",
       "      <td>489</td>\n",
       "      <td>-1.276695</td>\n",
       "      <td>-0.938848</td>\n",
       "      <td>-1.300673</td>\n",
       "      <td>-3.022916</td>\n",
       "      <td>-1.588448</td>\n",
       "    </tr>\n",
       "    <tr>\n",
       "      <td>490</td>\n",
       "      <td>-2.022102</td>\n",
       "      <td>-1.767418</td>\n",
       "      <td>-0.749214</td>\n",
       "      <td>0.779286</td>\n",
       "      <td>-0.953778</td>\n",
       "    </tr>\n",
       "    <tr>\n",
       "      <td>491</td>\n",
       "      <td>0.695944</td>\n",
       "      <td>-3.363755</td>\n",
       "      <td>-0.855968</td>\n",
       "      <td>-0.224495</td>\n",
       "      <td>0.859259</td>\n",
       "    </tr>\n",
       "    <tr>\n",
       "      <td>492</td>\n",
       "      <td>0.190658</td>\n",
       "      <td>3.049110</td>\n",
       "      <td>-0.611829</td>\n",
       "      <td>-0.925000</td>\n",
       "      <td>0.337838</td>\n",
       "    </tr>\n",
       "    <tr>\n",
       "      <td>493</td>\n",
       "      <td>-1.141770</td>\n",
       "      <td>-2.487562</td>\n",
       "      <td>0.554036</td>\n",
       "      <td>-1.185970</td>\n",
       "      <td>-2.781438</td>\n",
       "    </tr>\n",
       "  </tbody>\n",
       "</table>\n",
       "<p>494 rows × 5 columns</p>\n",
       "</div>"
      ],
      "text/plain": [
       "     Daily Return Stock 1 %  Daily Return Stock 2 %  Daily Return Stock 3 %  \\\n",
       "0                  0.000000                0.000000                0.000000   \n",
       "1                 -0.447518                1.078051                0.279944   \n",
       "2                 -0.612996                1.258532                0.259222   \n",
       "3                 -1.377467               -1.980198               -2.147971   \n",
       "4                 -0.708776                0.859660                1.971545   \n",
       "..                      ...                     ...                     ...   \n",
       "489               -1.276695               -0.938848               -1.300673   \n",
       "490               -2.022102               -1.767418               -0.749214   \n",
       "491                0.695944               -3.363755               -0.855968   \n",
       "492                0.190658                3.049110               -0.611829   \n",
       "493               -1.141770               -2.487562                0.554036   \n",
       "\n",
       "     Daily Return Stock 4 %  Daily Return Stock 5 %  \n",
       "0                  0.000000                0.000000  \n",
       "1                 -0.982615               -0.628019  \n",
       "2                  1.195929               -0.753525  \n",
       "3                 -2.439024               -0.869459  \n",
       "4                 -1.546392               -0.914145  \n",
       "..                      ...                     ...  \n",
       "489               -3.022916               -1.588448  \n",
       "490                0.779286               -0.953778  \n",
       "491               -0.224495                0.859259  \n",
       "492               -0.925000                0.337838  \n",
       "493               -1.185970               -2.781438  \n",
       "\n",
       "[494 rows x 5 columns]"
      ]
     },
     "execution_count": 728,
     "metadata": {},
     "output_type": "execute_result"
    }
   ],
   "source": [
    "varying_portfolio = portfolio[['Daily Return Stock 1 %','Daily Return Stock 2 %','Daily Return Stock 3 %','Daily Return Stock 4 %','Daily Return Stock 5 %']]\n",
    "varying_portfolio"
   ]
  },
  {
   "cell_type": "code",
   "execution_count": 729,
   "metadata": {},
   "outputs": [
    {
     "data": {
      "text/html": [
       "<div>\n",
       "<style scoped>\n",
       "    .dataframe tbody tr th:only-of-type {\n",
       "        vertical-align: middle;\n",
       "    }\n",
       "\n",
       "    .dataframe tbody tr th {\n",
       "        vertical-align: top;\n",
       "    }\n",
       "\n",
       "    .dataframe thead th {\n",
       "        text-align: right;\n",
       "    }\n",
       "</style>\n",
       "<table border=\"1\" class=\"dataframe\">\n",
       "  <thead>\n",
       "    <tr style=\"text-align: right;\">\n",
       "      <th></th>\n",
       "      <th>0</th>\n",
       "      <th>1</th>\n",
       "      <th>2</th>\n",
       "      <th>3</th>\n",
       "      <th>4</th>\n",
       "    </tr>\n",
       "  </thead>\n",
       "  <tbody>\n",
       "    <tr>\n",
       "      <td>0</td>\n",
       "      <td>0.182737</td>\n",
       "      <td>0.174430</td>\n",
       "      <td>0.413294</td>\n",
       "      <td>0.095309</td>\n",
       "      <td>0.134230</td>\n",
       "    </tr>\n",
       "    <tr>\n",
       "      <td>1</td>\n",
       "      <td>0.254610</td>\n",
       "      <td>0.128139</td>\n",
       "      <td>0.080061</td>\n",
       "      <td>0.248920</td>\n",
       "      <td>0.288270</td>\n",
       "    </tr>\n",
       "    <tr>\n",
       "      <td>2</td>\n",
       "      <td>0.163325</td>\n",
       "      <td>0.145927</td>\n",
       "      <td>0.032491</td>\n",
       "      <td>0.349564</td>\n",
       "      <td>0.308693</td>\n",
       "    </tr>\n",
       "    <tr>\n",
       "      <td>3</td>\n",
       "      <td>0.028335</td>\n",
       "      <td>0.185776</td>\n",
       "      <td>0.239813</td>\n",
       "      <td>0.271293</td>\n",
       "      <td>0.274782</td>\n",
       "    </tr>\n",
       "    <tr>\n",
       "      <td>4</td>\n",
       "      <td>0.261787</td>\n",
       "      <td>0.313233</td>\n",
       "      <td>0.035879</td>\n",
       "      <td>0.025473</td>\n",
       "      <td>0.363628</td>\n",
       "    </tr>\n",
       "    <tr>\n",
       "      <td>...</td>\n",
       "      <td>...</td>\n",
       "      <td>...</td>\n",
       "      <td>...</td>\n",
       "      <td>...</td>\n",
       "      <td>...</td>\n",
       "    </tr>\n",
       "    <tr>\n",
       "      <td>489</td>\n",
       "      <td>0.171918</td>\n",
       "      <td>0.076482</td>\n",
       "      <td>0.334990</td>\n",
       "      <td>0.201911</td>\n",
       "      <td>0.214699</td>\n",
       "    </tr>\n",
       "    <tr>\n",
       "      <td>490</td>\n",
       "      <td>0.186888</td>\n",
       "      <td>0.207070</td>\n",
       "      <td>0.194851</td>\n",
       "      <td>0.211244</td>\n",
       "      <td>0.199948</td>\n",
       "    </tr>\n",
       "    <tr>\n",
       "      <td>491</td>\n",
       "      <td>0.366361</td>\n",
       "      <td>0.031634</td>\n",
       "      <td>0.312987</td>\n",
       "      <td>0.172043</td>\n",
       "      <td>0.116976</td>\n",
       "    </tr>\n",
       "    <tr>\n",
       "      <td>492</td>\n",
       "      <td>0.220032</td>\n",
       "      <td>0.116063</td>\n",
       "      <td>0.083129</td>\n",
       "      <td>0.419664</td>\n",
       "      <td>0.161111</td>\n",
       "    </tr>\n",
       "    <tr>\n",
       "      <td>493</td>\n",
       "      <td>0.044540</td>\n",
       "      <td>0.256536</td>\n",
       "      <td>0.043062</td>\n",
       "      <td>0.382065</td>\n",
       "      <td>0.273797</td>\n",
       "    </tr>\n",
       "  </tbody>\n",
       "</table>\n",
       "<p>494 rows × 5 columns</p>\n",
       "</div>"
      ],
      "text/plain": [
       "            0         1         2         3         4\n",
       "0    0.182737  0.174430  0.413294  0.095309  0.134230\n",
       "1    0.254610  0.128139  0.080061  0.248920  0.288270\n",
       "2    0.163325  0.145927  0.032491  0.349564  0.308693\n",
       "3    0.028335  0.185776  0.239813  0.271293  0.274782\n",
       "4    0.261787  0.313233  0.035879  0.025473  0.363628\n",
       "..        ...       ...       ...       ...       ...\n",
       "489  0.171918  0.076482  0.334990  0.201911  0.214699\n",
       "490  0.186888  0.207070  0.194851  0.211244  0.199948\n",
       "491  0.366361  0.031634  0.312987  0.172043  0.116976\n",
       "492  0.220032  0.116063  0.083129  0.419664  0.161111\n",
       "493  0.044540  0.256536  0.043062  0.382065  0.273797\n",
       "\n",
       "[494 rows x 5 columns]"
      ]
     },
     "execution_count": 729,
     "metadata": {},
     "output_type": "execute_result"
    }
   ],
   "source": [
    "s"
   ]
  },
  {
   "cell_type": "code",
   "execution_count": 730,
   "metadata": {},
   "outputs": [
    {
     "name": "stderr",
     "output_type": "stream",
     "text": [
      "/home/akansh/anaconda3/lib/python3.7/site-packages/ipykernel_launcher.py:4: FutureWarning: \n",
      ".ix is deprecated. Please use\n",
      ".loc for label based indexing or\n",
      ".iloc for positional indexing\n",
      "\n",
      "See the documentation here:\n",
      "http://pandas.pydata.org/pandas-docs/stable/user_guide/indexing.html#ix-indexer-is-deprecated\n",
      "  after removing the cwd from sys.path.\n",
      "/home/akansh/anaconda3/lib/python3.7/site-packages/pandas/core/indexing.py:961: FutureWarning: \n",
      ".ix is deprecated. Please use\n",
      ".loc for label based indexing or\n",
      ".iloc for positional indexing\n",
      "\n",
      "See the documentation here:\n",
      "http://pandas.pydata.org/pandas-docs/stable/user_guide/indexing.html#ix-indexer-is-deprecated\n",
      "  return getattr(section, self.name)[new_key]\n",
      "/home/akansh/anaconda3/lib/python3.7/site-packages/ipykernel_launcher.py:5: FutureWarning: \n",
      ".ix is deprecated. Please use\n",
      ".loc for label based indexing or\n",
      ".iloc for positional indexing\n",
      "\n",
      "See the documentation here:\n",
      "http://pandas.pydata.org/pandas-docs/stable/user_guide/indexing.html#ix-indexer-is-deprecated\n",
      "  \"\"\"\n"
     ]
    }
   ],
   "source": [
    "s['Expected Return'] = 1.0\n",
    "s['Volatility'] = 1.0\n",
    "for i in s.index:\n",
    "    s['Expected Return'][i] = np.mean(np.dot(np.array(varying_portfolio),(np.array(s.ix[i,:-2])))) * 252\n",
    "    s['Volatility'][i] = np.std(np.dot(np.array(varying_portfolio),(np.array(s.ix[i,:-2])))) * np.sqrt(252)\n",
    "    "
   ]
  },
  {
   "cell_type": "code",
   "execution_count": 731,
   "metadata": {},
   "outputs": [
    {
     "data": {
      "text/html": [
       "<div>\n",
       "<style scoped>\n",
       "    .dataframe tbody tr th:only-of-type {\n",
       "        vertical-align: middle;\n",
       "    }\n",
       "\n",
       "    .dataframe tbody tr th {\n",
       "        vertical-align: top;\n",
       "    }\n",
       "\n",
       "    .dataframe thead th {\n",
       "        text-align: right;\n",
       "    }\n",
       "</style>\n",
       "<table border=\"1\" class=\"dataframe\">\n",
       "  <thead>\n",
       "    <tr style=\"text-align: right;\">\n",
       "      <th></th>\n",
       "      <th>0</th>\n",
       "      <th>1</th>\n",
       "      <th>2</th>\n",
       "      <th>3</th>\n",
       "      <th>4</th>\n",
       "      <th>Expected Return</th>\n",
       "      <th>Volatility</th>\n",
       "    </tr>\n",
       "  </thead>\n",
       "  <tbody>\n",
       "    <tr>\n",
       "      <td>0</td>\n",
       "      <td>0.182737</td>\n",
       "      <td>0.174430</td>\n",
       "      <td>0.413294</td>\n",
       "      <td>0.095309</td>\n",
       "      <td>0.134230</td>\n",
       "      <td>7.413033</td>\n",
       "      <td>18.497863</td>\n",
       "    </tr>\n",
       "    <tr>\n",
       "      <td>1</td>\n",
       "      <td>0.254610</td>\n",
       "      <td>0.128139</td>\n",
       "      <td>0.080061</td>\n",
       "      <td>0.248920</td>\n",
       "      <td>0.288270</td>\n",
       "      <td>-0.529030</td>\n",
       "      <td>19.073486</td>\n",
       "    </tr>\n",
       "    <tr>\n",
       "      <td>2</td>\n",
       "      <td>0.163325</td>\n",
       "      <td>0.145927</td>\n",
       "      <td>0.032491</td>\n",
       "      <td>0.349564</td>\n",
       "      <td>0.308693</td>\n",
       "      <td>-0.899271</td>\n",
       "      <td>20.158084</td>\n",
       "    </tr>\n",
       "    <tr>\n",
       "      <td>3</td>\n",
       "      <td>0.028335</td>\n",
       "      <td>0.185776</td>\n",
       "      <td>0.239813</td>\n",
       "      <td>0.271293</td>\n",
       "      <td>0.274782</td>\n",
       "      <td>4.195808</td>\n",
       "      <td>18.924554</td>\n",
       "    </tr>\n",
       "    <tr>\n",
       "      <td>4</td>\n",
       "      <td>0.261787</td>\n",
       "      <td>0.313233</td>\n",
       "      <td>0.035879</td>\n",
       "      <td>0.025473</td>\n",
       "      <td>0.363628</td>\n",
       "      <td>-4.293602</td>\n",
       "      <td>21.026661</td>\n",
       "    </tr>\n",
       "    <tr>\n",
       "      <td>...</td>\n",
       "      <td>...</td>\n",
       "      <td>...</td>\n",
       "      <td>...</td>\n",
       "      <td>...</td>\n",
       "      <td>...</td>\n",
       "      <td>...</td>\n",
       "      <td>...</td>\n",
       "    </tr>\n",
       "    <tr>\n",
       "      <td>489</td>\n",
       "      <td>0.171918</td>\n",
       "      <td>0.076482</td>\n",
       "      <td>0.334990</td>\n",
       "      <td>0.201911</td>\n",
       "      <td>0.214699</td>\n",
       "      <td>6.365143</td>\n",
       "      <td>18.174319</td>\n",
       "    </tr>\n",
       "    <tr>\n",
       "      <td>490</td>\n",
       "      <td>0.186888</td>\n",
       "      <td>0.207070</td>\n",
       "      <td>0.194851</td>\n",
       "      <td>0.211244</td>\n",
       "      <td>0.199948</td>\n",
       "      <td>2.283783</td>\n",
       "      <td>18.183772</td>\n",
       "    </tr>\n",
       "    <tr>\n",
       "      <td>491</td>\n",
       "      <td>0.366361</td>\n",
       "      <td>0.031634</td>\n",
       "      <td>0.312987</td>\n",
       "      <td>0.172043</td>\n",
       "      <td>0.116976</td>\n",
       "      <td>5.501803</td>\n",
       "      <td>18.416307</td>\n",
       "    </tr>\n",
       "    <tr>\n",
       "      <td>492</td>\n",
       "      <td>0.220032</td>\n",
       "      <td>0.116063</td>\n",
       "      <td>0.083129</td>\n",
       "      <td>0.419664</td>\n",
       "      <td>0.161111</td>\n",
       "      <td>1.311251</td>\n",
       "      <td>20.144981</td>\n",
       "    </tr>\n",
       "    <tr>\n",
       "      <td>493</td>\n",
       "      <td>0.044540</td>\n",
       "      <td>0.256536</td>\n",
       "      <td>0.043062</td>\n",
       "      <td>0.382065</td>\n",
       "      <td>0.273797</td>\n",
       "      <td>-0.406493</td>\n",
       "      <td>20.605657</td>\n",
       "    </tr>\n",
       "  </tbody>\n",
       "</table>\n",
       "<p>494 rows × 7 columns</p>\n",
       "</div>"
      ],
      "text/plain": [
       "            0         1         2         3         4  Expected Return  \\\n",
       "0    0.182737  0.174430  0.413294  0.095309  0.134230         7.413033   \n",
       "1    0.254610  0.128139  0.080061  0.248920  0.288270        -0.529030   \n",
       "2    0.163325  0.145927  0.032491  0.349564  0.308693        -0.899271   \n",
       "3    0.028335  0.185776  0.239813  0.271293  0.274782         4.195808   \n",
       "4    0.261787  0.313233  0.035879  0.025473  0.363628        -4.293602   \n",
       "..        ...       ...       ...       ...       ...              ...   \n",
       "489  0.171918  0.076482  0.334990  0.201911  0.214699         6.365143   \n",
       "490  0.186888  0.207070  0.194851  0.211244  0.199948         2.283783   \n",
       "491  0.366361  0.031634  0.312987  0.172043  0.116976         5.501803   \n",
       "492  0.220032  0.116063  0.083129  0.419664  0.161111         1.311251   \n",
       "493  0.044540  0.256536  0.043062  0.382065  0.273797        -0.406493   \n",
       "\n",
       "     Volatility  \n",
       "0     18.497863  \n",
       "1     19.073486  \n",
       "2     20.158084  \n",
       "3     18.924554  \n",
       "4     21.026661  \n",
       "..          ...  \n",
       "489   18.174319  \n",
       "490   18.183772  \n",
       "491   18.416307  \n",
       "492   20.144981  \n",
       "493   20.605657  \n",
       "\n",
       "[494 rows x 7 columns]"
      ]
     },
     "execution_count": 731,
     "metadata": {},
     "output_type": "execute_result"
    }
   ],
   "source": [
    "s"
   ]
  },
  {
   "cell_type": "code",
   "execution_count": null,
   "metadata": {},
   "outputs": [],
   "source": []
  },
  {
   "cell_type": "code",
   "execution_count": 735,
   "metadata": {},
   "outputs": [],
   "source": [
    "import matplotlib.colors\n",
    "my_cmap = matplotlib.colors.LinearSegmentedColormap.from_list(\"\",[\"red\",\"blue\"])"
   ]
  },
  {
   "cell_type": "code",
   "execution_count": 733,
   "metadata": {},
   "outputs": [
    {
     "data": {
      "image/png": "[encoded data removed]",
      "text/plain": [
       "<Figure size 576x396 with 1 Axes>"
      ]
     },
     "metadata": {},
     "output_type": "display_data"
    }
   ],
   "source": [
    "plt.style.use('seaborn')\n",
    "x,y = s['Volatility'],s['Expected Return']\n",
    "plt.scatter(x,y,c=y/x,cmap = my_cmap)\n",
    "plt.xlabel('Volatility')\n",
    "plt.ylabel('Returns')\n",
    "\n",
    "plt.show()"
   ]
  },
  {
   "cell_type": "markdown",
   "metadata": {},
   "source": [
    "# 5.4"
   ]
  },
  {
   "cell_type": "code",
   "execution_count": 737,
   "metadata": {},
   "outputs": [
    {
     "data": {
      "text/plain": [
       "6"
      ]
     },
     "execution_count": 737,
     "metadata": {},
     "output_type": "execute_result"
    }
   ],
   "source": [
    "np.argmin(s['Volatility'])\n"
   ]
  },
  {
   "cell_type": "code",
   "execution_count": 740,
   "metadata": {},
   "outputs": [
    {
     "data": {
      "text/plain": [
       "69"
      ]
     },
     "execution_count": 740,
     "metadata": {},
     "output_type": "execute_result"
    }
   ],
   "source": [
    "a = []\n",
    "for i in s.index:\n",
    "    a.append(s['Expected Return'][i]/s['Volatility'][i])\n",
    "\n",
    "np.argmax(a)\n"
   ]
  },
  {
   "cell_type": "code",
   "execution_count": 746,
   "metadata": {},
   "outputs": [
    {
     "name": "stderr",
     "output_type": "stream",
     "text": [
      "/home/akansh/anaconda3/lib/python3.7/site-packages/ipykernel_launcher.py:6: FutureWarning: \n",
      ".ix is deprecated. Please use\n",
      ".loc for label based indexing or\n",
      ".iloc for positional indexing\n",
      "\n",
      "See the documentation here:\n",
      "http://pandas.pydata.org/pandas-docs/stable/user_guide/indexing.html#ix-indexer-is-deprecated\n",
      "  \n",
      "/home/akansh/anaconda3/lib/python3.7/site-packages/ipykernel_launcher.py:7: FutureWarning: \n",
      ".ix is deprecated. Please use\n",
      ".loc for label based indexing or\n",
      ".iloc for positional indexing\n",
      "\n",
      "See the documentation here:\n",
      "http://pandas.pydata.org/pandas-docs/stable/user_guide/indexing.html#ix-indexer-is-deprecated\n",
      "  import sys\n"
     ]
    },
    {
     "data": {
      "image/png": "[encoded data removed]",
      "text/plain": [
       "<Figure size 576x396 with 1 Axes>"
      ]
     },
     "metadata": {},
     "output_type": "display_data"
    }
   ],
   "source": [
    "plt.style.use('seaborn')\n",
    "x,y = s['Volatility'],s['Expected Return']\n",
    "plt.scatter(x,y,c=y/x,cmap = my_cmap)\n",
    "plt.xlabel('Volatility')\n",
    "plt.ylabel('Returns')\n",
    "plt.scatter(s.ix[6]['Volatility'],s.ix[6]['Expected Return'],marker='*',c='black',s=300)\n",
    "plt.scatter(s.ix[69]['Volatility'],s.ix[69]['Expected Return'],marker='*',c='black',s=200)\n",
    "\n",
    "plt.show()"
   ]
  },
  {
   "cell_type": "code",
   "execution_count": null,
   "metadata": {},
   "outputs": [],
   "source": []
  },
  {
   "cell_type": "code",
   "execution_count": null,
   "metadata": {},
   "outputs": [],
   "source": []
  }
 ],
 "metadata": {
  "kernelspec": {
   "display_name": "Python 3",
   "language": "python",
   "name": "python3"
  },
  "language_info": {
   "codemirror_mode": {
    "name": "ipython",
    "version": 3
   },
   "file_extension": ".py",
   "mimetype": "text/x-python",
   "name": "python",
   "nbconvert_exporter": "python",
   "pygments_lexer": "ipython3",
   "version": "3.7.4"
  }
 },
 "nbformat": 4,
 "nbformat_minor": 2
}
