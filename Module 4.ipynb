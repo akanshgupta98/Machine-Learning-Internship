{
 "cells": [
  {
   "cell_type": "code",
   "execution_count": 1,
   "metadata": {},
   "outputs": [],
   "source": [
    "import pandas as pd\n",
    "import numpy as np\n",
    "from sklearn.model_selection import train_test_split\n",
    "from sklearn.preprocessing import StandardScaler,LabelEncoder\n",
    "from sklearn.svm import SVC\n",
    "import matplotlib.pyplot as plt\n",
    "from sklearn.metrics import classification_report,confusion_matrix,accuracy_score\n",
    "from sklearn.linear_model import LogisticRegression\n",
    "from sklearn.neighbors import KNeighborsClassifier \n",
    "from sklearn.naive_bayes import GaussianNB\n",
    "import seaborn as sns\n",
    "from sklearn.tree import DecisionTreeClassifier\n",
    "from sklearn.ensemble import RandomForestClassifier"
   ]
  },
  {
   "cell_type": "markdown",
   "metadata": {},
   "source": [
    "# Creation of Dataset for Classification"
   ]
  },
  {
   "cell_type": "code",
   "execution_count": 2,
   "metadata": {},
   "outputs": [],
   "source": [
    "data = pd.read_csv('week2.csv')"
   ]
  },
  {
   "cell_type": "code",
   "execution_count": 3,
   "metadata": {},
   "outputs": [
    {
     "data": {
      "text/html": [
       "<div>\n",
       "<style scoped>\n",
       "    .dataframe tbody tr th:only-of-type {\n",
       "        vertical-align: middle;\n",
       "    }\n",
       "\n",
       "    .dataframe tbody tr th {\n",
       "        vertical-align: top;\n",
       "    }\n",
       "\n",
       "    .dataframe thead th {\n",
       "        text-align: right;\n",
       "    }\n",
       "</style>\n",
       "<table border=\"1\" class=\"dataframe\">\n",
       "  <thead>\n",
       "    <tr style=\"text-align: right;\">\n",
       "      <th></th>\n",
       "      <th>Unnamed: 0</th>\n",
       "      <th>Symbol</th>\n",
       "      <th>Series</th>\n",
       "      <th>Date</th>\n",
       "      <th>Prev Close</th>\n",
       "      <th>Open Price</th>\n",
       "      <th>High Price</th>\n",
       "      <th>Low Price</th>\n",
       "      <th>Last Price</th>\n",
       "      <th>Close Price</th>\n",
       "      <th>Average Price</th>\n",
       "      <th>Total Traded Quantity</th>\n",
       "      <th>Turnover</th>\n",
       "      <th>No. of Trades</th>\n",
       "      <th>Deliverable Qty</th>\n",
       "      <th>% Dly Qt to Traded Qty</th>\n",
       "      <th>Year</th>\n",
       "      <th>Month</th>\n",
       "      <th>Day_perc_change</th>\n",
       "      <th>Trend</th>\n",
       "    </tr>\n",
       "  </thead>\n",
       "  <tbody>\n",
       "    <tr>\n",
       "      <td>0</td>\n",
       "      <td>0</td>\n",
       "      <td>MARUTI</td>\n",
       "      <td>EQ</td>\n",
       "      <td>2017-05-15</td>\n",
       "      <td>6730.20</td>\n",
       "      <td>6759.4</td>\n",
       "      <td>6839.10</td>\n",
       "      <td>6733.45</td>\n",
       "      <td>6824.0</td>\n",
       "      <td>6823.90</td>\n",
       "      <td>6796.84</td>\n",
       "      <td>336356</td>\n",
       "      <td>2.286158e+09</td>\n",
       "      <td>31377</td>\n",
       "      <td>154743</td>\n",
       "      <td>46.01</td>\n",
       "      <td>2017</td>\n",
       "      <td>May</td>\n",
       "      <td>0.000000</td>\n",
       "      <td>Slight Change</td>\n",
       "    </tr>\n",
       "    <tr>\n",
       "      <td>1</td>\n",
       "      <td>1</td>\n",
       "      <td>MARUTI</td>\n",
       "      <td>EQ</td>\n",
       "      <td>2017-05-16</td>\n",
       "      <td>6823.90</td>\n",
       "      <td>6850.0</td>\n",
       "      <td>6977.55</td>\n",
       "      <td>6830.00</td>\n",
       "      <td>6968.4</td>\n",
       "      <td>6953.95</td>\n",
       "      <td>6902.22</td>\n",
       "      <td>707624</td>\n",
       "      <td>4.884174e+09</td>\n",
       "      <td>49047</td>\n",
       "      <td>360641</td>\n",
       "      <td>50.97</td>\n",
       "      <td>2017</td>\n",
       "      <td>May</td>\n",
       "      <td>1.905802</td>\n",
       "      <td>Positive</td>\n",
       "    </tr>\n",
       "    <tr>\n",
       "      <td>2</td>\n",
       "      <td>2</td>\n",
       "      <td>MARUTI</td>\n",
       "      <td>EQ</td>\n",
       "      <td>2017-05-17</td>\n",
       "      <td>6953.95</td>\n",
       "      <td>6950.0</td>\n",
       "      <td>6979.00</td>\n",
       "      <td>6885.85</td>\n",
       "      <td>6945.0</td>\n",
       "      <td>6958.20</td>\n",
       "      <td>6931.60</td>\n",
       "      <td>445461</td>\n",
       "      <td>3.087758e+09</td>\n",
       "      <td>65280</td>\n",
       "      <td>260033</td>\n",
       "      <td>58.37</td>\n",
       "      <td>2017</td>\n",
       "      <td>May</td>\n",
       "      <td>0.061116</td>\n",
       "      <td>Slight Change</td>\n",
       "    </tr>\n",
       "    <tr>\n",
       "      <td>3</td>\n",
       "      <td>3</td>\n",
       "      <td>MARUTI</td>\n",
       "      <td>EQ</td>\n",
       "      <td>2017-05-18</td>\n",
       "      <td>6958.20</td>\n",
       "      <td>6918.3</td>\n",
       "      <td>6948.00</td>\n",
       "      <td>6814.45</td>\n",
       "      <td>6822.0</td>\n",
       "      <td>6831.05</td>\n",
       "      <td>6869.68</td>\n",
       "      <td>406814</td>\n",
       "      <td>2.794684e+09</td>\n",
       "      <td>37063</td>\n",
       "      <td>188907</td>\n",
       "      <td>46.44</td>\n",
       "      <td>2017</td>\n",
       "      <td>May</td>\n",
       "      <td>-1.827340</td>\n",
       "      <td>Negative</td>\n",
       "    </tr>\n",
       "    <tr>\n",
       "      <td>4</td>\n",
       "      <td>4</td>\n",
       "      <td>MARUTI</td>\n",
       "      <td>EQ</td>\n",
       "      <td>2017-05-19</td>\n",
       "      <td>6831.05</td>\n",
       "      <td>6854.8</td>\n",
       "      <td>6893.90</td>\n",
       "      <td>6691.55</td>\n",
       "      <td>6756.3</td>\n",
       "      <td>6790.55</td>\n",
       "      <td>6791.60</td>\n",
       "      <td>552223</td>\n",
       "      <td>3.750475e+09</td>\n",
       "      <td>64293</td>\n",
       "      <td>234662</td>\n",
       "      <td>42.49</td>\n",
       "      <td>2017</td>\n",
       "      <td>May</td>\n",
       "      <td>-0.592881</td>\n",
       "      <td>Slight Negative</td>\n",
       "    </tr>\n",
       "  </tbody>\n",
       "</table>\n",
       "</div>"
      ],
      "text/plain": [
       "   Unnamed: 0  Symbol Series        Date  Prev Close  Open Price  High Price  \\\n",
       "0           0  MARUTI     EQ  2017-05-15     6730.20      6759.4     6839.10   \n",
       "1           1  MARUTI     EQ  2017-05-16     6823.90      6850.0     6977.55   \n",
       "2           2  MARUTI     EQ  2017-05-17     6953.95      6950.0     6979.00   \n",
       "3           3  MARUTI     EQ  2017-05-18     6958.20      6918.3     6948.00   \n",
       "4           4  MARUTI     EQ  2017-05-19     6831.05      6854.8     6893.90   \n",
       "\n",
       "   Low Price  Last Price  Close Price  Average Price  Total Traded Quantity  \\\n",
       "0    6733.45      6824.0      6823.90        6796.84                 336356   \n",
       "1    6830.00      6968.4      6953.95        6902.22                 707624   \n",
       "2    6885.85      6945.0      6958.20        6931.60                 445461   \n",
       "3    6814.45      6822.0      6831.05        6869.68                 406814   \n",
       "4    6691.55      6756.3      6790.55        6791.60                 552223   \n",
       "\n",
       "       Turnover  No. of Trades  Deliverable Qty  % Dly Qt to Traded Qty  Year  \\\n",
       "0  2.286158e+09          31377           154743                   46.01  2017   \n",
       "1  4.884174e+09          49047           360641                   50.97  2017   \n",
       "2  3.087758e+09          65280           260033                   58.37  2017   \n",
       "3  2.794684e+09          37063           188907                   46.44  2017   \n",
       "4  3.750475e+09          64293           234662                   42.49  2017   \n",
       "\n",
       "  Month  Day_perc_change            Trend  \n",
       "0   May         0.000000    Slight Change  \n",
       "1   May         1.905802         Positive  \n",
       "2   May         0.061116    Slight Change  \n",
       "3   May        -1.827340         Negative  \n",
       "4   May        -0.592881  Slight Negative  "
      ]
     },
     "execution_count": 3,
     "metadata": {},
     "output_type": "execute_result"
    }
   ],
   "source": [
    "data.head()"
   ]
  },
  {
   "cell_type": "code",
   "execution_count": 4,
   "metadata": {},
   "outputs": [
    {
     "data": {
      "text/html": [
       "<div>\n",
       "<style scoped>\n",
       "    .dataframe tbody tr th:only-of-type {\n",
       "        vertical-align: middle;\n",
       "    }\n",
       "\n",
       "    .dataframe tbody tr th {\n",
       "        vertical-align: top;\n",
       "    }\n",
       "\n",
       "    .dataframe thead th {\n",
       "        text-align: right;\n",
       "    }\n",
       "</style>\n",
       "<table border=\"1\" class=\"dataframe\">\n",
       "  <thead>\n",
       "    <tr style=\"text-align: right;\">\n",
       "      <th></th>\n",
       "      <th>Close Price</th>\n",
       "    </tr>\n",
       "  </thead>\n",
       "  <tbody>\n",
       "    <tr>\n",
       "      <td>0</td>\n",
       "      <td>6823.90</td>\n",
       "    </tr>\n",
       "    <tr>\n",
       "      <td>1</td>\n",
       "      <td>6953.95</td>\n",
       "    </tr>\n",
       "    <tr>\n",
       "      <td>2</td>\n",
       "      <td>6958.20</td>\n",
       "    </tr>\n",
       "    <tr>\n",
       "      <td>3</td>\n",
       "      <td>6831.05</td>\n",
       "    </tr>\n",
       "    <tr>\n",
       "      <td>4</td>\n",
       "      <td>6790.55</td>\n",
       "    </tr>\n",
       "  </tbody>\n",
       "</table>\n",
       "</div>"
      ],
      "text/plain": [
       "   Close Price\n",
       "0      6823.90\n",
       "1      6953.95\n",
       "2      6958.20\n",
       "3      6831.05\n",
       "4      6790.55"
      ]
     },
     "execution_count": 4,
     "metadata": {},
     "output_type": "execute_result"
    }
   ],
   "source": [
    "module4_data = pd.DataFrame()\n",
    "module4_data = data['Close Price']\n",
    "module4_data = pd.DataFrame(module4_data)\n",
    "module4_data.head()"
   ]
  },
  {
   "cell_type": "code",
   "execution_count": 5,
   "metadata": {},
   "outputs": [
    {
     "data": {
      "text/plain": [
       "(494, 1)"
      ]
     },
     "execution_count": 5,
     "metadata": {},
     "output_type": "execute_result"
    }
   ],
   "source": [
    "module4_data.shape"
   ]
  },
  {
   "cell_type": "code",
   "execution_count": 6,
   "metadata": {},
   "outputs": [],
   "source": [
    "data_copy = data.copy()"
   ]
  },
  {
   "cell_type": "code",
   "execution_count": 7,
   "metadata": {},
   "outputs": [
    {
     "data": {
      "text/html": [
       "<div>\n",
       "<style scoped>\n",
       "    .dataframe tbody tr th:only-of-type {\n",
       "        vertical-align: middle;\n",
       "    }\n",
       "\n",
       "    .dataframe tbody tr th {\n",
       "        vertical-align: top;\n",
       "    }\n",
       "\n",
       "    .dataframe thead th {\n",
       "        text-align: right;\n",
       "    }\n",
       "</style>\n",
       "<table border=\"1\" class=\"dataframe\">\n",
       "  <thead>\n",
       "    <tr style=\"text-align: right;\">\n",
       "      <th></th>\n",
       "      <th>Unnamed: 0</th>\n",
       "      <th>Symbol</th>\n",
       "      <th>Series</th>\n",
       "      <th>Date</th>\n",
       "      <th>Prev Close</th>\n",
       "      <th>Open Price</th>\n",
       "      <th>High Price</th>\n",
       "      <th>Low Price</th>\n",
       "      <th>Last Price</th>\n",
       "      <th>Close Price</th>\n",
       "      <th>Average Price</th>\n",
       "      <th>Total Traded Quantity</th>\n",
       "      <th>Turnover</th>\n",
       "      <th>No. of Trades</th>\n",
       "      <th>Deliverable Qty</th>\n",
       "      <th>% Dly Qt to Traded Qty</th>\n",
       "      <th>Year</th>\n",
       "      <th>Month</th>\n",
       "      <th>Day_perc_change</th>\n",
       "      <th>Trend</th>\n",
       "    </tr>\n",
       "  </thead>\n",
       "  <tbody>\n",
       "    <tr>\n",
       "      <td>0</td>\n",
       "      <td>0</td>\n",
       "      <td>MARUTI</td>\n",
       "      <td>EQ</td>\n",
       "      <td>2017-05-15</td>\n",
       "      <td>6730.20</td>\n",
       "      <td>6759.4</td>\n",
       "      <td>6839.10</td>\n",
       "      <td>6733.45</td>\n",
       "      <td>6824.00</td>\n",
       "      <td>6823.90</td>\n",
       "      <td>6796.84</td>\n",
       "      <td>336356</td>\n",
       "      <td>2.286158e+09</td>\n",
       "      <td>31377</td>\n",
       "      <td>154743</td>\n",
       "      <td>46.01</td>\n",
       "      <td>2017</td>\n",
       "      <td>May</td>\n",
       "      <td>0.000000</td>\n",
       "      <td>Slight Change</td>\n",
       "    </tr>\n",
       "    <tr>\n",
       "      <td>1</td>\n",
       "      <td>1</td>\n",
       "      <td>MARUTI</td>\n",
       "      <td>EQ</td>\n",
       "      <td>2017-05-16</td>\n",
       "      <td>6823.90</td>\n",
       "      <td>6850.0</td>\n",
       "      <td>6977.55</td>\n",
       "      <td>6830.00</td>\n",
       "      <td>6968.40</td>\n",
       "      <td>6953.95</td>\n",
       "      <td>6902.22</td>\n",
       "      <td>707624</td>\n",
       "      <td>4.884174e+09</td>\n",
       "      <td>49047</td>\n",
       "      <td>360641</td>\n",
       "      <td>50.97</td>\n",
       "      <td>2017</td>\n",
       "      <td>May</td>\n",
       "      <td>1.905802</td>\n",
       "      <td>Positive</td>\n",
       "    </tr>\n",
       "    <tr>\n",
       "      <td>2</td>\n",
       "      <td>2</td>\n",
       "      <td>MARUTI</td>\n",
       "      <td>EQ</td>\n",
       "      <td>2017-05-17</td>\n",
       "      <td>6953.95</td>\n",
       "      <td>6950.0</td>\n",
       "      <td>6979.00</td>\n",
       "      <td>6885.85</td>\n",
       "      <td>6945.00</td>\n",
       "      <td>6958.20</td>\n",
       "      <td>6931.60</td>\n",
       "      <td>445461</td>\n",
       "      <td>3.087758e+09</td>\n",
       "      <td>65280</td>\n",
       "      <td>260033</td>\n",
       "      <td>58.37</td>\n",
       "      <td>2017</td>\n",
       "      <td>May</td>\n",
       "      <td>0.061116</td>\n",
       "      <td>Slight Change</td>\n",
       "    </tr>\n",
       "    <tr>\n",
       "      <td>3</td>\n",
       "      <td>3</td>\n",
       "      <td>MARUTI</td>\n",
       "      <td>EQ</td>\n",
       "      <td>2017-05-18</td>\n",
       "      <td>6958.20</td>\n",
       "      <td>6918.3</td>\n",
       "      <td>6948.00</td>\n",
       "      <td>6814.45</td>\n",
       "      <td>6822.00</td>\n",
       "      <td>6831.05</td>\n",
       "      <td>6869.68</td>\n",
       "      <td>406814</td>\n",
       "      <td>2.794684e+09</td>\n",
       "      <td>37063</td>\n",
       "      <td>188907</td>\n",
       "      <td>46.44</td>\n",
       "      <td>2017</td>\n",
       "      <td>May</td>\n",
       "      <td>-1.827340</td>\n",
       "      <td>Negative</td>\n",
       "    </tr>\n",
       "    <tr>\n",
       "      <td>4</td>\n",
       "      <td>4</td>\n",
       "      <td>MARUTI</td>\n",
       "      <td>EQ</td>\n",
       "      <td>2017-05-19</td>\n",
       "      <td>6831.05</td>\n",
       "      <td>6854.8</td>\n",
       "      <td>6893.90</td>\n",
       "      <td>6691.55</td>\n",
       "      <td>6756.30</td>\n",
       "      <td>6790.55</td>\n",
       "      <td>6791.60</td>\n",
       "      <td>552223</td>\n",
       "      <td>3.750475e+09</td>\n",
       "      <td>64293</td>\n",
       "      <td>234662</td>\n",
       "      <td>42.49</td>\n",
       "      <td>2017</td>\n",
       "      <td>May</td>\n",
       "      <td>-0.592881</td>\n",
       "      <td>Slight Negative</td>\n",
       "    </tr>\n",
       "    <tr>\n",
       "      <td>...</td>\n",
       "      <td>...</td>\n",
       "      <td>...</td>\n",
       "      <td>...</td>\n",
       "      <td>...</td>\n",
       "      <td>...</td>\n",
       "      <td>...</td>\n",
       "      <td>...</td>\n",
       "      <td>...</td>\n",
       "      <td>...</td>\n",
       "      <td>...</td>\n",
       "      <td>...</td>\n",
       "      <td>...</td>\n",
       "      <td>...</td>\n",
       "      <td>...</td>\n",
       "      <td>...</td>\n",
       "      <td>...</td>\n",
       "      <td>...</td>\n",
       "      <td>...</td>\n",
       "      <td>...</td>\n",
       "      <td>...</td>\n",
       "    </tr>\n",
       "    <tr>\n",
       "      <td>489</td>\n",
       "      <td>491</td>\n",
       "      <td>MARUTI</td>\n",
       "      <td>EQ</td>\n",
       "      <td>2019-05-07</td>\n",
       "      <td>6709.65</td>\n",
       "      <td>6744.9</td>\n",
       "      <td>6785.25</td>\n",
       "      <td>6680.00</td>\n",
       "      <td>6693.00</td>\n",
       "      <td>6702.00</td>\n",
       "      <td>6737.56</td>\n",
       "      <td>586684</td>\n",
       "      <td>3.952821e+09</td>\n",
       "      <td>69696</td>\n",
       "      <td>198757</td>\n",
       "      <td>33.88</td>\n",
       "      <td>2019</td>\n",
       "      <td>May</td>\n",
       "      <td>-0.114015</td>\n",
       "      <td>Slight Change</td>\n",
       "    </tr>\n",
       "    <tr>\n",
       "      <td>490</td>\n",
       "      <td>492</td>\n",
       "      <td>MARUTI</td>\n",
       "      <td>EQ</td>\n",
       "      <td>2019-05-08</td>\n",
       "      <td>6702.00</td>\n",
       "      <td>6679.0</td>\n",
       "      <td>6693.00</td>\n",
       "      <td>6616.00</td>\n",
       "      <td>6650.00</td>\n",
       "      <td>6650.15</td>\n",
       "      <td>6655.70</td>\n",
       "      <td>552749</td>\n",
       "      <td>3.678929e+09</td>\n",
       "      <td>59897</td>\n",
       "      <td>228920</td>\n",
       "      <td>41.41</td>\n",
       "      <td>2019</td>\n",
       "      <td>May</td>\n",
       "      <td>-0.773650</td>\n",
       "      <td>Slight Negative</td>\n",
       "    </tr>\n",
       "    <tr>\n",
       "      <td>491</td>\n",
       "      <td>493</td>\n",
       "      <td>MARUTI</td>\n",
       "      <td>EQ</td>\n",
       "      <td>2019-05-09</td>\n",
       "      <td>6650.15</td>\n",
       "      <td>6637.0</td>\n",
       "      <td>6678.00</td>\n",
       "      <td>6600.00</td>\n",
       "      <td>6609.85</td>\n",
       "      <td>6624.95</td>\n",
       "      <td>6646.86</td>\n",
       "      <td>570000</td>\n",
       "      <td>3.788710e+09</td>\n",
       "      <td>71334</td>\n",
       "      <td>257451</td>\n",
       "      <td>45.17</td>\n",
       "      <td>2019</td>\n",
       "      <td>May</td>\n",
       "      <td>-0.378939</td>\n",
       "      <td>Slight Change</td>\n",
       "    </tr>\n",
       "    <tr>\n",
       "      <td>492</td>\n",
       "      <td>494</td>\n",
       "      <td>MARUTI</td>\n",
       "      <td>EQ</td>\n",
       "      <td>2019-05-10</td>\n",
       "      <td>6624.95</td>\n",
       "      <td>6623.0</td>\n",
       "      <td>6664.90</td>\n",
       "      <td>6575.00</td>\n",
       "      <td>6630.00</td>\n",
       "      <td>6631.60</td>\n",
       "      <td>6622.41</td>\n",
       "      <td>608669</td>\n",
       "      <td>4.030855e+09</td>\n",
       "      <td>75423</td>\n",
       "      <td>247688</td>\n",
       "      <td>40.69</td>\n",
       "      <td>2019</td>\n",
       "      <td>May</td>\n",
       "      <td>0.100378</td>\n",
       "      <td>Slight Change</td>\n",
       "    </tr>\n",
       "    <tr>\n",
       "      <td>493</td>\n",
       "      <td>495</td>\n",
       "      <td>MARUTI</td>\n",
       "      <td>EQ</td>\n",
       "      <td>2019-05-13</td>\n",
       "      <td>6631.60</td>\n",
       "      <td>6626.0</td>\n",
       "      <td>6659.30</td>\n",
       "      <td>6500.00</td>\n",
       "      <td>6523.00</td>\n",
       "      <td>6543.75</td>\n",
       "      <td>6603.04</td>\n",
       "      <td>555672</td>\n",
       "      <td>3.669123e+09</td>\n",
       "      <td>74137</td>\n",
       "      <td>241880</td>\n",
       "      <td>43.53</td>\n",
       "      <td>2019</td>\n",
       "      <td>May</td>\n",
       "      <td>-1.324718</td>\n",
       "      <td>Negative</td>\n",
       "    </tr>\n",
       "  </tbody>\n",
       "</table>\n",
       "<p>494 rows × 20 columns</p>\n",
       "</div>"
      ],
      "text/plain": [
       "     Unnamed: 0  Symbol Series        Date  Prev Close  Open Price  \\\n",
       "0             0  MARUTI     EQ  2017-05-15     6730.20      6759.4   \n",
       "1             1  MARUTI     EQ  2017-05-16     6823.90      6850.0   \n",
       "2             2  MARUTI     EQ  2017-05-17     6953.95      6950.0   \n",
       "3             3  MARUTI     EQ  2017-05-18     6958.20      6918.3   \n",
       "4             4  MARUTI     EQ  2017-05-19     6831.05      6854.8   \n",
       "..          ...     ...    ...         ...         ...         ...   \n",
       "489         491  MARUTI     EQ  2019-05-07     6709.65      6744.9   \n",
       "490         492  MARUTI     EQ  2019-05-08     6702.00      6679.0   \n",
       "491         493  MARUTI     EQ  2019-05-09     6650.15      6637.0   \n",
       "492         494  MARUTI     EQ  2019-05-10     6624.95      6623.0   \n",
       "493         495  MARUTI     EQ  2019-05-13     6631.60      6626.0   \n",
       "\n",
       "     High Price  Low Price  Last Price  Close Price  Average Price  \\\n",
       "0       6839.10    6733.45     6824.00      6823.90        6796.84   \n",
       "1       6977.55    6830.00     6968.40      6953.95        6902.22   \n",
       "2       6979.00    6885.85     6945.00      6958.20        6931.60   \n",
       "3       6948.00    6814.45     6822.00      6831.05        6869.68   \n",
       "4       6893.90    6691.55     6756.30      6790.55        6791.60   \n",
       "..          ...        ...         ...          ...            ...   \n",
       "489     6785.25    6680.00     6693.00      6702.00        6737.56   \n",
       "490     6693.00    6616.00     6650.00      6650.15        6655.70   \n",
       "491     6678.00    6600.00     6609.85      6624.95        6646.86   \n",
       "492     6664.90    6575.00     6630.00      6631.60        6622.41   \n",
       "493     6659.30    6500.00     6523.00      6543.75        6603.04   \n",
       "\n",
       "     Total Traded Quantity      Turnover  No. of Trades  Deliverable Qty  \\\n",
       "0                   336356  2.286158e+09          31377           154743   \n",
       "1                   707624  4.884174e+09          49047           360641   \n",
       "2                   445461  3.087758e+09          65280           260033   \n",
       "3                   406814  2.794684e+09          37063           188907   \n",
       "4                   552223  3.750475e+09          64293           234662   \n",
       "..                     ...           ...            ...              ...   \n",
       "489                 586684  3.952821e+09          69696           198757   \n",
       "490                 552749  3.678929e+09          59897           228920   \n",
       "491                 570000  3.788710e+09          71334           257451   \n",
       "492                 608669  4.030855e+09          75423           247688   \n",
       "493                 555672  3.669123e+09          74137           241880   \n",
       "\n",
       "     % Dly Qt to Traded Qty  Year Month  Day_perc_change            Trend  \n",
       "0                     46.01  2017   May         0.000000    Slight Change  \n",
       "1                     50.97  2017   May         1.905802         Positive  \n",
       "2                     58.37  2017   May         0.061116    Slight Change  \n",
       "3                     46.44  2017   May        -1.827340         Negative  \n",
       "4                     42.49  2017   May        -0.592881  Slight Negative  \n",
       "..                      ...   ...   ...              ...              ...  \n",
       "489                   33.88  2019   May        -0.114015    Slight Change  \n",
       "490                   41.41  2019   May        -0.773650  Slight Negative  \n",
       "491                   45.17  2019   May        -0.378939    Slight Change  \n",
       "492                   40.69  2019   May         0.100378    Slight Change  \n",
       "493                   43.53  2019   May        -1.324718         Negative  \n",
       "\n",
       "[494 rows x 20 columns]"
      ]
     },
     "execution_count": 7,
     "metadata": {},
     "output_type": "execute_result"
    }
   ],
   "source": [
    "data_copy"
   ]
  },
  {
   "cell_type": "code",
   "execution_count": 8,
   "metadata": {},
   "outputs": [
    {
     "data": {
      "text/html": [
       "<div>\n",
       "<style scoped>\n",
       "    .dataframe tbody tr th:only-of-type {\n",
       "        vertical-align: middle;\n",
       "    }\n",
       "\n",
       "    .dataframe tbody tr th {\n",
       "        vertical-align: top;\n",
       "    }\n",
       "\n",
       "    .dataframe thead th {\n",
       "        text-align: right;\n",
       "    }\n",
       "</style>\n",
       "<table border=\"1\" class=\"dataframe\">\n",
       "  <thead>\n",
       "    <tr style=\"text-align: right;\">\n",
       "      <th></th>\n",
       "      <th>Close Price</th>\n",
       "    </tr>\n",
       "  </thead>\n",
       "  <tbody>\n",
       "    <tr>\n",
       "      <td>0</td>\n",
       "      <td>6823.90</td>\n",
       "    </tr>\n",
       "    <tr>\n",
       "      <td>1</td>\n",
       "      <td>6953.95</td>\n",
       "    </tr>\n",
       "    <tr>\n",
       "      <td>2</td>\n",
       "      <td>6958.20</td>\n",
       "    </tr>\n",
       "    <tr>\n",
       "      <td>3</td>\n",
       "      <td>6831.05</td>\n",
       "    </tr>\n",
       "    <tr>\n",
       "      <td>4</td>\n",
       "      <td>6790.55</td>\n",
       "    </tr>\n",
       "    <tr>\n",
       "      <td>...</td>\n",
       "      <td>...</td>\n",
       "    </tr>\n",
       "    <tr>\n",
       "      <td>489</td>\n",
       "      <td>6702.00</td>\n",
       "    </tr>\n",
       "    <tr>\n",
       "      <td>490</td>\n",
       "      <td>6650.15</td>\n",
       "    </tr>\n",
       "    <tr>\n",
       "      <td>491</td>\n",
       "      <td>6624.95</td>\n",
       "    </tr>\n",
       "    <tr>\n",
       "      <td>492</td>\n",
       "      <td>6631.60</td>\n",
       "    </tr>\n",
       "    <tr>\n",
       "      <td>493</td>\n",
       "      <td>6543.75</td>\n",
       "    </tr>\n",
       "  </tbody>\n",
       "</table>\n",
       "<p>494 rows × 1 columns</p>\n",
       "</div>"
      ],
      "text/plain": [
       "     Close Price\n",
       "0        6823.90\n",
       "1        6953.95\n",
       "2        6958.20\n",
       "3        6831.05\n",
       "4        6790.55\n",
       "..           ...\n",
       "489      6702.00\n",
       "490      6650.15\n",
       "491      6624.95\n",
       "492      6631.60\n",
       "493      6543.75\n",
       "\n",
       "[494 rows x 1 columns]"
      ]
     },
     "execution_count": 8,
     "metadata": {},
     "output_type": "execute_result"
    }
   ],
   "source": [
    "module4_data"
   ]
  },
  {
   "cell_type": "code",
   "execution_count": 9,
   "metadata": {},
   "outputs": [],
   "source": [
    "module4_data['Bollinger Upper'] =  (data_copy['Close Price'].rolling(14).mean()) + (data_copy['Close Price'].rolling(14).std()*2)\n",
    "module4_data['Bollinger Middle'] = (data_copy['Close Price'].rolling(14).mean())\n",
    "module4_data['Bollinger Lower'] =  (data_copy['Close Price'].rolling(14).mean()) - (data_copy['Close Price'].rolling(14).std()*2)"
   ]
  },
  {
   "cell_type": "code",
   "execution_count": 10,
   "metadata": {},
   "outputs": [
    {
     "data": {
      "text/html": [
       "<div>\n",
       "<style scoped>\n",
       "    .dataframe tbody tr th:only-of-type {\n",
       "        vertical-align: middle;\n",
       "    }\n",
       "\n",
       "    .dataframe tbody tr th {\n",
       "        vertical-align: top;\n",
       "    }\n",
       "\n",
       "    .dataframe thead th {\n",
       "        text-align: right;\n",
       "    }\n",
       "</style>\n",
       "<table border=\"1\" class=\"dataframe\">\n",
       "  <thead>\n",
       "    <tr style=\"text-align: right;\">\n",
       "      <th></th>\n",
       "      <th>Close Price</th>\n",
       "      <th>Bollinger Upper</th>\n",
       "      <th>Bollinger Middle</th>\n",
       "      <th>Bollinger Lower</th>\n",
       "    </tr>\n",
       "  </thead>\n",
       "  <tbody>\n",
       "    <tr>\n",
       "      <td>0</td>\n",
       "      <td>6823.90</td>\n",
       "      <td>NaN</td>\n",
       "      <td>NaN</td>\n",
       "      <td>NaN</td>\n",
       "    </tr>\n",
       "    <tr>\n",
       "      <td>1</td>\n",
       "      <td>6953.95</td>\n",
       "      <td>NaN</td>\n",
       "      <td>NaN</td>\n",
       "      <td>NaN</td>\n",
       "    </tr>\n",
       "    <tr>\n",
       "      <td>2</td>\n",
       "      <td>6958.20</td>\n",
       "      <td>NaN</td>\n",
       "      <td>NaN</td>\n",
       "      <td>NaN</td>\n",
       "    </tr>\n",
       "    <tr>\n",
       "      <td>3</td>\n",
       "      <td>6831.05</td>\n",
       "      <td>NaN</td>\n",
       "      <td>NaN</td>\n",
       "      <td>NaN</td>\n",
       "    </tr>\n",
       "    <tr>\n",
       "      <td>4</td>\n",
       "      <td>6790.55</td>\n",
       "      <td>NaN</td>\n",
       "      <td>NaN</td>\n",
       "      <td>NaN</td>\n",
       "    </tr>\n",
       "  </tbody>\n",
       "</table>\n",
       "</div>"
      ],
      "text/plain": [
       "   Close Price  Bollinger Upper  Bollinger Middle  Bollinger Lower\n",
       "0      6823.90              NaN               NaN              NaN\n",
       "1      6953.95              NaN               NaN              NaN\n",
       "2      6958.20              NaN               NaN              NaN\n",
       "3      6831.05              NaN               NaN              NaN\n",
       "4      6790.55              NaN               NaN              NaN"
      ]
     },
     "execution_count": 10,
     "metadata": {},
     "output_type": "execute_result"
    }
   ],
   "source": [
    "module4_data.head()"
   ]
  },
  {
   "cell_type": "code",
   "execution_count": 11,
   "metadata": {},
   "outputs": [],
   "source": [
    "new_data_copy = module4_data.fillna(module4_data.mean())"
   ]
  },
  {
   "cell_type": "code",
   "execution_count": 12,
   "metadata": {},
   "outputs": [
    {
     "data": {
      "text/plain": [
       "Close Price         8061.374595\n",
       "Bollinger Upper     8435.076892\n",
       "Bollinger Middle    8095.882447\n",
       "Bollinger Lower     7756.688003\n",
       "dtype: float64"
      ]
     },
     "execution_count": 12,
     "metadata": {},
     "output_type": "execute_result"
    }
   ],
   "source": [
    "module4_data.mean()"
   ]
  },
  {
   "cell_type": "code",
   "execution_count": 13,
   "metadata": {},
   "outputs": [
    {
     "data": {
      "text/plain": [
       "7756.688003034392"
      ]
     },
     "execution_count": 13,
     "metadata": {},
     "output_type": "execute_result"
    }
   ],
   "source": [
    "new_data_copy['Bollinger Lower'].mean()"
   ]
  },
  {
   "cell_type": "code",
   "execution_count": 14,
   "metadata": {},
   "outputs": [
    {
     "data": {
      "text/plain": [
       "6701.7"
      ]
     },
     "execution_count": 14,
     "metadata": {},
     "output_type": "execute_result"
    }
   ],
   "source": [
    "min(new_data_copy['Close Price'][:14])"
   ]
  },
  {
   "cell_type": "code",
   "execution_count": 15,
   "metadata": {},
   "outputs": [
    {
     "data": {
      "text/plain": [
       "7211.0"
      ]
     },
     "execution_count": 15,
     "metadata": {},
     "output_type": "execute_result"
    }
   ],
   "source": [
    "max(new_data_copy['Close Price'][:14])"
   ]
  },
  {
   "cell_type": "code",
   "execution_count": 16,
   "metadata": {},
   "outputs": [
    {
     "data": {
      "text/html": [
       "<div>\n",
       "<style scoped>\n",
       "    .dataframe tbody tr th:only-of-type {\n",
       "        vertical-align: middle;\n",
       "    }\n",
       "\n",
       "    .dataframe tbody tr th {\n",
       "        vertical-align: top;\n",
       "    }\n",
       "\n",
       "    .dataframe thead th {\n",
       "        text-align: right;\n",
       "    }\n",
       "</style>\n",
       "<table border=\"1\" class=\"dataframe\">\n",
       "  <thead>\n",
       "    <tr style=\"text-align: right;\">\n",
       "      <th></th>\n",
       "      <th>Close Price</th>\n",
       "      <th>Bollinger Upper</th>\n",
       "      <th>Bollinger Middle</th>\n",
       "      <th>Bollinger Lower</th>\n",
       "    </tr>\n",
       "  </thead>\n",
       "  <tbody>\n",
       "    <tr>\n",
       "      <td>0</td>\n",
       "      <td>6823.90</td>\n",
       "      <td>8435.076892</td>\n",
       "      <td>8095.882447</td>\n",
       "      <td>7756.688003</td>\n",
       "    </tr>\n",
       "    <tr>\n",
       "      <td>1</td>\n",
       "      <td>6953.95</td>\n",
       "      <td>8435.076892</td>\n",
       "      <td>8095.882447</td>\n",
       "      <td>7756.688003</td>\n",
       "    </tr>\n",
       "    <tr>\n",
       "      <td>2</td>\n",
       "      <td>6958.20</td>\n",
       "      <td>8435.076892</td>\n",
       "      <td>8095.882447</td>\n",
       "      <td>7756.688003</td>\n",
       "    </tr>\n",
       "    <tr>\n",
       "      <td>3</td>\n",
       "      <td>6831.05</td>\n",
       "      <td>8435.076892</td>\n",
       "      <td>8095.882447</td>\n",
       "      <td>7756.688003</td>\n",
       "    </tr>\n",
       "    <tr>\n",
       "      <td>4</td>\n",
       "      <td>6790.55</td>\n",
       "      <td>8435.076892</td>\n",
       "      <td>8095.882447</td>\n",
       "      <td>7756.688003</td>\n",
       "    </tr>\n",
       "  </tbody>\n",
       "</table>\n",
       "</div>"
      ],
      "text/plain": [
       "   Close Price  Bollinger Upper  Bollinger Middle  Bollinger Lower\n",
       "0      6823.90      8435.076892       8095.882447      7756.688003\n",
       "1      6953.95      8435.076892       8095.882447      7756.688003\n",
       "2      6958.20      8435.076892       8095.882447      7756.688003\n",
       "3      6831.05      8435.076892       8095.882447      7756.688003\n",
       "4      6790.55      8435.076892       8095.882447      7756.688003"
      ]
     },
     "execution_count": 16,
     "metadata": {},
     "output_type": "execute_result"
    }
   ],
   "source": [
    "new_data_copy.head()"
   ]
  },
  {
   "cell_type": "code",
   "execution_count": 17,
   "metadata": {},
   "outputs": [
    {
     "name": "stderr",
     "output_type": "stream",
     "text": [
      "/home/akansh/anaconda3/lib/python3.7/site-packages/ipykernel_launcher.py:4: SettingWithCopyWarning: \n",
      "A value is trying to be set on a copy of a slice from a DataFrame\n",
      "\n",
      "See the caveats in the documentation: http://pandas.pydata.org/pandas-docs/stable/user_guide/indexing.html#returning-a-view-versus-a-copy\n",
      "  after removing the cwd from sys.path.\n",
      "/home/akansh/anaconda3/lib/python3.7/site-packages/pandas/core/indexing.py:205: SettingWithCopyWarning: \n",
      "A value is trying to be set on a copy of a slice from a DataFrame\n",
      "\n",
      "See the caveats in the documentation: http://pandas.pydata.org/pandas-docs/stable/user_guide/indexing.html#returning-a-view-versus-a-copy\n",
      "  self._setitem_with_indexer(indexer, value)\n",
      "/home/akansh/anaconda3/lib/python3.7/site-packages/ipykernel_launcher.py:8: SettingWithCopyWarning: \n",
      "A value is trying to be set on a copy of a slice from a DataFrame\n",
      "\n",
      "See the caveats in the documentation: http://pandas.pydata.org/pandas-docs/stable/user_guide/indexing.html#returning-a-view-versus-a-copy\n",
      "  \n",
      "/home/akansh/anaconda3/lib/python3.7/site-packages/ipykernel_launcher.py:10: SettingWithCopyWarning: \n",
      "A value is trying to be set on a copy of a slice from a DataFrame\n",
      "\n",
      "See the caveats in the documentation: http://pandas.pydata.org/pandas-docs/stable/user_guide/indexing.html#returning-a-view-versus-a-copy\n",
      "  # Remove the CWD from sys.path while we load stuff.\n",
      "/home/akansh/anaconda3/lib/python3.7/site-packages/ipykernel_launcher.py:6: SettingWithCopyWarning: \n",
      "A value is trying to be set on a copy of a slice from a DataFrame\n",
      "\n",
      "See the caveats in the documentation: http://pandas.pydata.org/pandas-docs/stable/user_guide/indexing.html#returning-a-view-versus-a-copy\n",
      "  \n"
     ]
    }
   ],
   "source": [
    "new_data_copy['Calls'] = 0\n",
    "for i in new_data_copy.index:\n",
    "    if(new_data_copy['Close Price'][i] < new_data_copy['Bollinger Lower'][i]):\n",
    "        new_data_copy['Calls'][i] = 'Buy'\n",
    "    elif(new_data_copy['Bollinger Lower'][i]<new_data_copy['Close Price'][i]<new_data_copy['Bollinger Middle'][i]):\n",
    "        new_data_copy['Calls'][i] = 'Hold Buy / Liquidate Short'\n",
    "    elif(new_data_copy['Bollinger Middle'][i]<new_data_copy['Close Price'][i]<new_data_copy['Bollinger Upper'][i]):\n",
    "        new_data_copy['Calls'][i] = 'Hold Short / Liquidate Buy'\n",
    "    elif(new_data_copy['Close Price'][i]>new_data_copy['Bollinger Upper'][i]):\n",
    "        new_data_copy['Calls'][i] = 'Short'\n",
    "    \n",
    "    \n",
    "    "
   ]
  },
  {
   "cell_type": "code",
   "execution_count": 18,
   "metadata": {},
   "outputs": [
    {
     "data": {
      "text/html": [
       "<div>\n",
       "<style scoped>\n",
       "    .dataframe tbody tr th:only-of-type {\n",
       "        vertical-align: middle;\n",
       "    }\n",
       "\n",
       "    .dataframe tbody tr th {\n",
       "        vertical-align: top;\n",
       "    }\n",
       "\n",
       "    .dataframe thead th {\n",
       "        text-align: right;\n",
       "    }\n",
       "</style>\n",
       "<table border=\"1\" class=\"dataframe\">\n",
       "  <thead>\n",
       "    <tr style=\"text-align: right;\">\n",
       "      <th></th>\n",
       "      <th>Close Price</th>\n",
       "      <th>Bollinger Upper</th>\n",
       "      <th>Bollinger Middle</th>\n",
       "      <th>Bollinger Lower</th>\n",
       "      <th>Calls</th>\n",
       "    </tr>\n",
       "  </thead>\n",
       "  <tbody>\n",
       "    <tr>\n",
       "      <td>0</td>\n",
       "      <td>6823.90</td>\n",
       "      <td>8435.076892</td>\n",
       "      <td>8095.882447</td>\n",
       "      <td>7756.688003</td>\n",
       "      <td>Buy</td>\n",
       "    </tr>\n",
       "    <tr>\n",
       "      <td>1</td>\n",
       "      <td>6953.95</td>\n",
       "      <td>8435.076892</td>\n",
       "      <td>8095.882447</td>\n",
       "      <td>7756.688003</td>\n",
       "      <td>Buy</td>\n",
       "    </tr>\n",
       "    <tr>\n",
       "      <td>2</td>\n",
       "      <td>6958.20</td>\n",
       "      <td>8435.076892</td>\n",
       "      <td>8095.882447</td>\n",
       "      <td>7756.688003</td>\n",
       "      <td>Buy</td>\n",
       "    </tr>\n",
       "    <tr>\n",
       "      <td>3</td>\n",
       "      <td>6831.05</td>\n",
       "      <td>8435.076892</td>\n",
       "      <td>8095.882447</td>\n",
       "      <td>7756.688003</td>\n",
       "      <td>Buy</td>\n",
       "    </tr>\n",
       "    <tr>\n",
       "      <td>4</td>\n",
       "      <td>6790.55</td>\n",
       "      <td>8435.076892</td>\n",
       "      <td>8095.882447</td>\n",
       "      <td>7756.688003</td>\n",
       "      <td>Buy</td>\n",
       "    </tr>\n",
       "  </tbody>\n",
       "</table>\n",
       "</div>"
      ],
      "text/plain": [
       "   Close Price  Bollinger Upper  Bollinger Middle  Bollinger Lower Calls\n",
       "0      6823.90      8435.076892       8095.882447      7756.688003   Buy\n",
       "1      6953.95      8435.076892       8095.882447      7756.688003   Buy\n",
       "2      6958.20      8435.076892       8095.882447      7756.688003   Buy\n",
       "3      6831.05      8435.076892       8095.882447      7756.688003   Buy\n",
       "4      6790.55      8435.076892       8095.882447      7756.688003   Buy"
      ]
     },
     "execution_count": 18,
     "metadata": {},
     "output_type": "execute_result"
    }
   ],
   "source": [
    "new_data_copy.head()"
   ]
  },
  {
   "cell_type": "code",
   "execution_count": 19,
   "metadata": {},
   "outputs": [
    {
     "data": {
      "text/html": [
       "<div>\n",
       "<style scoped>\n",
       "    .dataframe tbody tr th:only-of-type {\n",
       "        vertical-align: middle;\n",
       "    }\n",
       "\n",
       "    .dataframe tbody tr th {\n",
       "        vertical-align: top;\n",
       "    }\n",
       "\n",
       "    .dataframe thead th {\n",
       "        text-align: right;\n",
       "    }\n",
       "</style>\n",
       "<table border=\"1\" class=\"dataframe\">\n",
       "  <thead>\n",
       "    <tr style=\"text-align: right;\">\n",
       "      <th></th>\n",
       "      <th>Close Price</th>\n",
       "      <th>Bollinger Upper</th>\n",
       "      <th>Bollinger Middle</th>\n",
       "      <th>Bollinger Lower</th>\n",
       "    </tr>\n",
       "    <tr>\n",
       "      <th>Calls</th>\n",
       "      <th></th>\n",
       "      <th></th>\n",
       "      <th></th>\n",
       "      <th></th>\n",
       "    </tr>\n",
       "  </thead>\n",
       "  <tbody>\n",
       "    <tr>\n",
       "      <td>Buy</td>\n",
       "      <td>29</td>\n",
       "      <td>29</td>\n",
       "      <td>29</td>\n",
       "      <td>29</td>\n",
       "    </tr>\n",
       "    <tr>\n",
       "      <td>Hold Buy / Liquidate Short</td>\n",
       "      <td>225</td>\n",
       "      <td>225</td>\n",
       "      <td>225</td>\n",
       "      <td>225</td>\n",
       "    </tr>\n",
       "    <tr>\n",
       "      <td>Hold Short / Liquidate Buy</td>\n",
       "      <td>216</td>\n",
       "      <td>216</td>\n",
       "      <td>216</td>\n",
       "      <td>216</td>\n",
       "    </tr>\n",
       "    <tr>\n",
       "      <td>Short</td>\n",
       "      <td>24</td>\n",
       "      <td>24</td>\n",
       "      <td>24</td>\n",
       "      <td>24</td>\n",
       "    </tr>\n",
       "  </tbody>\n",
       "</table>\n",
       "</div>"
      ],
      "text/plain": [
       "                            Close Price  Bollinger Upper  Bollinger Middle  \\\n",
       "Calls                                                                        \n",
       "Buy                                  29               29                29   \n",
       "Hold Buy / Liquidate Short          225              225               225   \n",
       "Hold Short / Liquidate Buy          216              216               216   \n",
       "Short                                24               24                24   \n",
       "\n",
       "                            Bollinger Lower  \n",
       "Calls                                        \n",
       "Buy                                      29  \n",
       "Hold Buy / Liquidate Short              225  \n",
       "Hold Short / Liquidate Buy              216  \n",
       "Short                                    24  "
      ]
     },
     "execution_count": 19,
     "metadata": {},
     "output_type": "execute_result"
    }
   ],
   "source": [
    "new_data_copy.groupby('Calls').count()"
   ]
  },
  {
   "cell_type": "markdown",
   "metadata": {},
   "source": [
    "# Loading Dataset for Classification"
   ]
  },
  {
   "cell_type": "code",
   "execution_count": 20,
   "metadata": {},
   "outputs": [
    {
     "data": {
      "text/html": [
       "<div>\n",
       "<style scoped>\n",
       "    .dataframe tbody tr th:only-of-type {\n",
       "        vertical-align: middle;\n",
       "    }\n",
       "\n",
       "    .dataframe tbody tr th {\n",
       "        vertical-align: top;\n",
       "    }\n",
       "\n",
       "    .dataframe thead th {\n",
       "        text-align: right;\n",
       "    }\n",
       "</style>\n",
       "<table border=\"1\" class=\"dataframe\">\n",
       "  <thead>\n",
       "    <tr style=\"text-align: right;\">\n",
       "      <th></th>\n",
       "      <th>Close Price</th>\n",
       "      <th>Bollinger Upper</th>\n",
       "      <th>Bollinger Middle</th>\n",
       "      <th>Bollinger Lower</th>\n",
       "      <th>Calls</th>\n",
       "    </tr>\n",
       "  </thead>\n",
       "  <tbody>\n",
       "    <tr>\n",
       "      <td>0</td>\n",
       "      <td>6823.90</td>\n",
       "      <td>8435.076892</td>\n",
       "      <td>8095.882447</td>\n",
       "      <td>7756.688003</td>\n",
       "      <td>Buy</td>\n",
       "    </tr>\n",
       "    <tr>\n",
       "      <td>1</td>\n",
       "      <td>6953.95</td>\n",
       "      <td>8435.076892</td>\n",
       "      <td>8095.882447</td>\n",
       "      <td>7756.688003</td>\n",
       "      <td>Buy</td>\n",
       "    </tr>\n",
       "    <tr>\n",
       "      <td>2</td>\n",
       "      <td>6958.20</td>\n",
       "      <td>8435.076892</td>\n",
       "      <td>8095.882447</td>\n",
       "      <td>7756.688003</td>\n",
       "      <td>Buy</td>\n",
       "    </tr>\n",
       "    <tr>\n",
       "      <td>3</td>\n",
       "      <td>6831.05</td>\n",
       "      <td>8435.076892</td>\n",
       "      <td>8095.882447</td>\n",
       "      <td>7756.688003</td>\n",
       "      <td>Buy</td>\n",
       "    </tr>\n",
       "    <tr>\n",
       "      <td>4</td>\n",
       "      <td>6790.55</td>\n",
       "      <td>8435.076892</td>\n",
       "      <td>8095.882447</td>\n",
       "      <td>7756.688003</td>\n",
       "      <td>Buy</td>\n",
       "    </tr>\n",
       "  </tbody>\n",
       "</table>\n",
       "</div>"
      ],
      "text/plain": [
       "   Close Price  Bollinger Upper  Bollinger Middle  Bollinger Lower Calls\n",
       "0      6823.90      8435.076892       8095.882447      7756.688003   Buy\n",
       "1      6953.95      8435.076892       8095.882447      7756.688003   Buy\n",
       "2      6958.20      8435.076892       8095.882447      7756.688003   Buy\n",
       "3      6831.05      8435.076892       8095.882447      7756.688003   Buy\n",
       "4      6790.55      8435.076892       8095.882447      7756.688003   Buy"
      ]
     },
     "execution_count": 20,
     "metadata": {},
     "output_type": "execute_result"
    }
   ],
   "source": [
    "dataset = new_data_copy\n",
    "\n",
    "dataset.head()\n"
   ]
  },
  {
   "cell_type": "code",
   "execution_count": 21,
   "metadata": {},
   "outputs": [
    {
     "name": "stdout",
     "output_type": "stream",
     "text": [
      "(494, 5)\n"
     ]
    }
   ],
   "source": [
    "print(dataset.shape)"
   ]
  },
  {
   "cell_type": "markdown",
   "metadata": {},
   "source": [
    "### The classes for classification are not well balanced."
   ]
  },
  {
   "cell_type": "code",
   "execution_count": 22,
   "metadata": {},
   "outputs": [
    {
     "data": {
      "text/html": [
       "<div>\n",
       "<style scoped>\n",
       "    .dataframe tbody tr th:only-of-type {\n",
       "        vertical-align: middle;\n",
       "    }\n",
       "\n",
       "    .dataframe tbody tr th {\n",
       "        vertical-align: top;\n",
       "    }\n",
       "\n",
       "    .dataframe thead th {\n",
       "        text-align: right;\n",
       "    }\n",
       "</style>\n",
       "<table border=\"1\" class=\"dataframe\">\n",
       "  <thead>\n",
       "    <tr style=\"text-align: right;\">\n",
       "      <th></th>\n",
       "      <th>Close Price</th>\n",
       "      <th>Bollinger Upper</th>\n",
       "      <th>Bollinger Middle</th>\n",
       "      <th>Bollinger Lower</th>\n",
       "    </tr>\n",
       "    <tr>\n",
       "      <th>Calls</th>\n",
       "      <th></th>\n",
       "      <th></th>\n",
       "      <th></th>\n",
       "      <th></th>\n",
       "    </tr>\n",
       "  </thead>\n",
       "  <tbody>\n",
       "    <tr>\n",
       "      <td>Buy</td>\n",
       "      <td>29</td>\n",
       "      <td>29</td>\n",
       "      <td>29</td>\n",
       "      <td>29</td>\n",
       "    </tr>\n",
       "    <tr>\n",
       "      <td>Hold Buy / Liquidate Short</td>\n",
       "      <td>225</td>\n",
       "      <td>225</td>\n",
       "      <td>225</td>\n",
       "      <td>225</td>\n",
       "    </tr>\n",
       "    <tr>\n",
       "      <td>Hold Short / Liquidate Buy</td>\n",
       "      <td>216</td>\n",
       "      <td>216</td>\n",
       "      <td>216</td>\n",
       "      <td>216</td>\n",
       "    </tr>\n",
       "    <tr>\n",
       "      <td>Short</td>\n",
       "      <td>24</td>\n",
       "      <td>24</td>\n",
       "      <td>24</td>\n",
       "      <td>24</td>\n",
       "    </tr>\n",
       "  </tbody>\n",
       "</table>\n",
       "</div>"
      ],
      "text/plain": [
       "                            Close Price  Bollinger Upper  Bollinger Middle  \\\n",
       "Calls                                                                        \n",
       "Buy                                  29               29                29   \n",
       "Hold Buy / Liquidate Short          225              225               225   \n",
       "Hold Short / Liquidate Buy          216              216               216   \n",
       "Short                                24               24                24   \n",
       "\n",
       "                            Bollinger Lower  \n",
       "Calls                                        \n",
       "Buy                                      29  \n",
       "Hold Buy / Liquidate Short              225  \n",
       "Hold Short / Liquidate Buy              216  \n",
       "Short                                    24  "
      ]
     },
     "execution_count": 22,
     "metadata": {},
     "output_type": "execute_result"
    }
   ],
   "source": [
    "dataset.groupby('Calls').count()"
   ]
  },
  {
   "cell_type": "code",
   "execution_count": 23,
   "metadata": {},
   "outputs": [
    {
     "data": {
      "text/plain": [
       "<matplotlib.axes._subplots.AxesSubplot at 0x7f0c0eee3a50>"
      ]
     },
     "execution_count": 23,
     "metadata": {},
     "output_type": "execute_result"
    },
    {
     "data": {
      "image/png": "[encoded data removed]",
      "text/plain": [
       "<Figure size 432x288 with 1 Axes>"
      ]
     },
     "metadata": {
      "needs_background": "light"
     },
     "output_type": "display_data"
    }
   ],
   "source": [
    "sns.countplot(dataset['Calls'])"
   ]
  },
  {
   "cell_type": "markdown",
   "metadata": {},
   "source": [
    "# Train-Test Split"
   ]
  },
  {
   "cell_type": "code",
   "execution_count": 24,
   "metadata": {},
   "outputs": [
    {
     "name": "stdout",
     "output_type": "stream",
     "text": [
      "(494, 4) (494,)\n"
     ]
    }
   ],
   "source": [
    "X = dataset.drop(['Calls'],axis=1)\n",
    "Y = dataset['Calls']\n",
    "print(X.shape,Y.shape)"
   ]
  },
  {
   "cell_type": "code",
   "execution_count": 25,
   "metadata": {},
   "outputs": [
    {
     "name": "stdout",
     "output_type": "stream",
     "text": [
      "(370, 4) (124, 4) (370,) (124,)\n"
     ]
    }
   ],
   "source": [
    "X_train,X_test,Y_train,Y_test = train_test_split(X,Y,test_size=0.25,random_state=0)\n",
    "print(X_train.shape,X_test.shape,Y_train.shape,Y_test.shape)"
   ]
  },
  {
   "cell_type": "markdown",
   "metadata": {},
   "source": [
    "# Pre-Processing"
   ]
  },
  {
   "cell_type": "code",
   "execution_count": 26,
   "metadata": {},
   "outputs": [],
   "source": [
    "scaler = StandardScaler() \n",
    "le = LabelEncoder()"
   ]
  },
  {
   "cell_type": "code",
   "execution_count": 27,
   "metadata": {},
   "outputs": [
    {
     "name": "stdout",
     "output_type": "stream",
     "text": [
      "(370, 4)\n"
     ]
    }
   ],
   "source": [
    "X_train_stand = scaler.fit_transform(X_train)\n",
    "print(X_train_stand.shape)"
   ]
  },
  {
   "cell_type": "code",
   "execution_count": 28,
   "metadata": {},
   "outputs": [
    {
     "name": "stdout",
     "output_type": "stream",
     "text": [
      "(124, 4)\n"
     ]
    }
   ],
   "source": [
    "X_test_stand = scaler.transform(X_test)\n",
    "print(X_test_stand.shape)"
   ]
  },
  {
   "cell_type": "code",
   "execution_count": 29,
   "metadata": {},
   "outputs": [
    {
     "name": "stdout",
     "output_type": "stream",
     "text": [
      "(370,)\n"
     ]
    }
   ],
   "source": [
    "Y_train_enc = le.fit_transform(Y_train)\n",
    "print(Y_train_enc.shape)"
   ]
  },
  {
   "cell_type": "code",
   "execution_count": 30,
   "metadata": {},
   "outputs": [
    {
     "name": "stdout",
     "output_type": "stream",
     "text": [
      "(124,)\n"
     ]
    }
   ],
   "source": [
    "Y_test_enc = le.transform(Y_test)\n",
    "print(Y_test_enc.shape)"
   ]
  },
  {
   "cell_type": "code",
   "execution_count": 31,
   "metadata": {},
   "outputs": [
    {
     "name": "stdout",
     "output_type": "stream",
     "text": [
      "[1 2 2 2 1 2 1 2 3 2 2 1 1 1 1 2 2 1 1 1 0 2 2 2 0 2 1 2 1 2 2 1 2 1 2 1 2\n",
      " 1 1 2 2 1 1 1 1 2 2 2 1 1 1 1 2 1 1 1 1 1 1 1 0 2 2 2 2 1 2 1 2 2 1 1 1 2\n",
      " 3 2 2 2 1 0 2 1 1 1 2 2 1 2 0 1 2 2 1 2 1 3 2 1 1 1 2 1 2 1 2 2 2 2 1 2 1\n",
      " 2 1 1 1 1 1 1 1 2 1 1 2 1 2 1 2 2 1 2 1 1 1 2 2 1 2 2 1 1 2 1 2 2 1 1 2 1\n",
      " 1 2 2 2 1 1 1 1 2 1 1 1 1 2 1 2 2 2 3 2 1 1 1 2 1 1 2 1 2 2 2 1 1 2 1 2 1\n",
      " 2 1 2 2 2 1 0 2 2 1 1 1 1 1 1 2 3 2 2 2 2 0 1 1 1 3 2 1 2 2 2 2 2 0 1 2 1\n",
      " 2 0 2 2 2 2 2 2 2 2 1 2 2 1 1 2 2 1 2 3 1 2 2 0 1 2 1 1 1 2 1 3 2 1 0 0 1\n",
      " 1 1 1 1 2 1 2 1 2 2 2 3 1 2 1 2 1 1 2 2 1 2 2 2 2 2 3 2 2 3 2 2 1 2 2 2 1\n",
      " 2 1 2 1 1 1 2 1 2 1 2 0 2 1 2 2 1 2 1 3 1 1 1 1 1 1 1 2 0 2 2 2 3 0 1 1 0\n",
      " 2 2 1 2 1 3 1 2 1 1 1 1 1 2 1 2 2 1 1 2 2 2 1 2 2 1 1 2 0 1 1 1 2 1 2 2 1]\n"
     ]
    }
   ],
   "source": [
    "print(Y_train_enc)"
   ]
  },
  {
   "cell_type": "code",
   "execution_count": 32,
   "metadata": {},
   "outputs": [
    {
     "name": "stdout",
     "output_type": "stream",
     "text": [
      "['Buy' 'Hold Buy / Liquidate Short' 'Hold Short / Liquidate Buy' 'Short']\n"
     ]
    }
   ],
   "source": [
    "print(le.classes_)"
   ]
  },
  {
   "cell_type": "markdown",
   "metadata": {},
   "source": [
    "# Classification Models"
   ]
  },
  {
   "cell_type": "markdown",
   "metadata": {},
   "source": [
    "## Logistic Regression"
   ]
  },
  {
   "cell_type": "code",
   "execution_count": 33,
   "metadata": {},
   "outputs": [],
   "source": [
    "logis = LogisticRegression(class_weight={0:1,1:1,2:1,3:1},C=10000,random_state=0)"
   ]
  },
  {
   "cell_type": "code",
   "execution_count": 34,
   "metadata": {},
   "outputs": [
    {
     "name": "stderr",
     "output_type": "stream",
     "text": [
      "/home/akansh/anaconda3/lib/python3.7/site-packages/sklearn/linear_model/logistic.py:432: FutureWarning: Default solver will be changed to 'lbfgs' in 0.22. Specify a solver to silence this warning.\n",
      "  FutureWarning)\n",
      "/home/akansh/anaconda3/lib/python3.7/site-packages/sklearn/linear_model/logistic.py:469: FutureWarning: Default multi_class will be changed to 'auto' in 0.22. Specify the multi_class option to silence this warning.\n",
      "  \"this warning.\", FutureWarning)\n"
     ]
    },
    {
     "data": {
      "text/plain": [
       "LogisticRegression(C=10000, class_weight={0: 1, 1: 1, 2: 1, 3: 1}, dual=False,\n",
       "                   fit_intercept=True, intercept_scaling=1, l1_ratio=None,\n",
       "                   max_iter=100, multi_class='warn', n_jobs=None, penalty='l2',\n",
       "                   random_state=0, solver='warn', tol=0.0001, verbose=0,\n",
       "                   warm_start=False)"
      ]
     },
     "execution_count": 34,
     "metadata": {},
     "output_type": "execute_result"
    }
   ],
   "source": [
    "logis.fit(X_train_stand,Y_train_enc)\n"
   ]
  },
  {
   "cell_type": "markdown",
   "metadata": {},
   "source": [
    "### Accuracy Obtained"
   ]
  },
  {
   "cell_type": "code",
   "execution_count": 35,
   "metadata": {},
   "outputs": [
    {
     "name": "stdout",
     "output_type": "stream",
     "text": [
      "The Training Accuracy is: 94.8649%\n",
      "The Testing Accuracy is: 94.3548%\n"
     ]
    }
   ],
   "source": [
    "Y_train_pred = logis.predict(X_train_stand)\n",
    "Y_test_pred = logis.predict(X_test_stand)\n",
    "train_accuracy = accuracy_score(Y_train_pred,Y_train_enc)\n",
    "test_accuracy = accuracy_score(Y_test_pred,Y_test_enc)\n",
    "print(f'The Training Accuracy is: {np.round(train_accuracy * 100,4)}%\\nThe Testing Accuracy is: {np.round(test_accuracy*100,4)}%')"
   ]
  },
  {
   "cell_type": "markdown",
   "metadata": {},
   "source": [
    "### Classifcation Report & Confusion Matrix"
   ]
  },
  {
   "cell_type": "code",
   "execution_count": 36,
   "metadata": {},
   "outputs": [
    {
     "name": "stdout",
     "output_type": "stream",
     "text": [
      "              precision    recall  f1-score   support\n",
      "\n",
      "           0       0.75      1.00      0.86         9\n",
      "           1       1.00      0.93      0.96        59\n",
      "           2       0.98      0.94      0.96        49\n",
      "           3       0.70      1.00      0.82         7\n",
      "\n",
      "    accuracy                           0.94       124\n",
      "   macro avg       0.86      0.97      0.90       124\n",
      "weighted avg       0.96      0.94      0.95       124\n",
      "\n"
     ]
    }
   ],
   "source": [
    "print(classification_report(Y_test_pred,Y_test_enc))"
   ]
  },
  {
   "cell_type": "code",
   "execution_count": 37,
   "metadata": {},
   "outputs": [
    {
     "data": {
      "text/plain": [
       "array([1, 2, 2, 2, 1, 2, 1, 2, 3, 2, 1, 1, 1, 1, 1, 2, 2, 1, 1, 1, 0, 2,\n",
       "       1, 2, 0, 1, 1, 2, 1, 2, 2, 1, 2, 1, 2, 1, 2, 1, 2, 2, 2, 1, 1, 1,\n",
       "       1, 2, 1, 2, 1, 1, 1, 1, 2, 1, 1, 1, 1, 1, 1, 1, 0, 2, 2, 2, 2, 1,\n",
       "       2, 1, 1, 2, 1, 1, 1, 2, 3, 2, 2, 2, 1, 0, 2, 1, 1, 1, 2, 2, 1, 2,\n",
       "       0, 1, 2, 2, 1, 2, 1, 3, 1, 1, 1, 1, 2, 1, 2, 1, 2, 2, 2, 2, 1, 2,\n",
       "       1, 2, 1, 1, 1, 1, 1, 1, 1, 2, 1, 1, 2, 1, 2, 1, 2, 2, 1, 2, 1, 1,\n",
       "       1, 2, 2, 1, 2, 2, 1, 1, 2, 1, 2, 2, 1, 1, 2, 1, 1, 2, 2, 2, 1, 1,\n",
       "       1, 1, 2, 1, 1, 1, 1, 2, 1, 2, 1, 2, 2, 2, 1, 1, 1, 2, 1, 1, 2, 1,\n",
       "       2, 2, 2, 1, 1, 2, 1, 2, 1, 2, 1, 2, 2, 2, 1, 1, 2, 2, 1, 1, 1, 1,\n",
       "       1, 1, 2, 3, 2, 2, 2, 2, 0, 1, 1, 1, 3, 2, 1, 2, 2, 2, 2, 2, 0, 1,\n",
       "       2, 1, 2, 0, 2, 2, 2, 2, 2, 2, 2, 2, 2, 2, 2, 1, 1, 2, 2, 1, 2, 3,\n",
       "       1, 2, 2, 0, 1, 2, 1, 1, 1, 1, 1, 3, 2, 1, 0, 0, 1, 1, 1, 1, 1, 2,\n",
       "       1, 2, 1, 1, 2, 2, 3, 1, 2, 1, 2, 1, 1, 2, 1, 1, 2, 2, 2, 2, 2, 2,\n",
       "       2, 2, 2, 2, 2, 1, 2, 2, 2, 1, 2, 1, 2, 1, 1, 1, 2, 1, 2, 1, 2, 0,\n",
       "       2, 1, 2, 2, 1, 2, 1, 3, 1, 1, 1, 1, 1, 1, 1, 2, 0, 2, 2, 2, 3, 0,\n",
       "       1, 1, 1, 2, 2, 1, 2, 1, 3, 1, 2, 1, 1, 2, 1, 1, 2, 1, 2, 2, 1, 1,\n",
       "       2, 2, 2, 1, 2, 2, 1, 1, 1, 0, 1, 1, 1, 2, 1, 2, 2, 1])"
      ]
     },
     "execution_count": 37,
     "metadata": {},
     "output_type": "execute_result"
    }
   ],
   "source": [
    "Y_train_pred"
   ]
  },
  {
   "cell_type": "markdown",
   "metadata": {},
   "source": [
    "# Support Vector Machine"
   ]
  },
  {
   "cell_type": "code",
   "execution_count": 38,
   "metadata": {},
   "outputs": [],
   "source": [
    "svm = SVC(C=10,class_weight={0:10,1:1,2:1,3:10},kernel='rbf',random_state=0)"
   ]
  },
  {
   "cell_type": "code",
   "execution_count": 39,
   "metadata": {},
   "outputs": [
    {
     "data": {
      "text/plain": [
       "SVC(C=10, cache_size=200, class_weight={0: 10, 1: 1, 2: 1, 3: 10}, coef0=0.0,\n",
       "    decision_function_shape='ovr', degree=3, gamma='auto_deprecated',\n",
       "    kernel='rbf', max_iter=-1, probability=False, random_state=0,\n",
       "    shrinking=True, tol=0.001, verbose=False)"
      ]
     },
     "execution_count": 39,
     "metadata": {},
     "output_type": "execute_result"
    }
   ],
   "source": [
    "svm.fit(X_train_stand,Y_train_enc)\n"
   ]
  },
  {
   "cell_type": "code",
   "execution_count": 40,
   "metadata": {},
   "outputs": [
    {
     "name": "stdout",
     "output_type": "stream",
     "text": [
      "The Training Accuracy is: 92.1622%\n",
      "The Testing Accuracy is: 92.7419%\n"
     ]
    }
   ],
   "source": [
    "Y_train_pred = svm.predict(X_train_stand)\n",
    "Y_test_pred = svm.predict(X_test_stand)\n",
    "train_accuracy = accuracy_score(Y_train_pred,Y_train_enc)\n",
    "test_accuracy = accuracy_score(Y_test_pred,Y_test_enc)\n",
    "print(f'The Training Accuracy is: {np.round(train_accuracy * 100,4)}%\\nThe Testing Accuracy is: {np.round(test_accuracy*100,4)}%')"
   ]
  },
  {
   "cell_type": "code",
   "execution_count": 41,
   "metadata": {},
   "outputs": [
    {
     "name": "stdout",
     "output_type": "stream",
     "text": [
      "              precision    recall  f1-score   support\n",
      "\n",
      "           0       0.83      0.77      0.80        13\n",
      "           1       0.95      0.91      0.93        57\n",
      "           2       0.91      1.00      0.96        43\n",
      "           3       1.00      0.91      0.95        11\n",
      "\n",
      "    accuracy                           0.93       124\n",
      "   macro avg       0.92      0.90      0.91       124\n",
      "weighted avg       0.93      0.93      0.93       124\n",
      "\n"
     ]
    }
   ],
   "source": [
    "print(classification_report(Y_test_pred,Y_test_enc))"
   ]
  },
  {
   "cell_type": "code",
   "execution_count": 42,
   "metadata": {},
   "outputs": [
    {
     "name": "stdout",
     "output_type": "stream",
     "text": [
      "              precision    recall  f1-score   support\n",
      "\n",
      "           0       1.00      0.74      0.85        23\n",
      "           1       0.96      0.92      0.94       178\n",
      "           2       0.86      1.00      0.93       146\n",
      "           3       1.00      0.61      0.76        23\n",
      "\n",
      "    accuracy                           0.92       370\n",
      "   macro avg       0.96      0.82      0.87       370\n",
      "weighted avg       0.93      0.92      0.92       370\n",
      "\n"
     ]
    }
   ],
   "source": [
    "print(classification_report(Y_train_pred,Y_train_enc))"
   ]
  },
  {
   "cell_type": "markdown",
   "metadata": {},
   "source": [
    "# KNN"
   ]
  },
  {
   "cell_type": "code",
   "execution_count": 43,
   "metadata": {},
   "outputs": [],
   "source": [
    "knn = KNeighborsClassifier()"
   ]
  },
  {
   "cell_type": "code",
   "execution_count": 44,
   "metadata": {},
   "outputs": [
    {
     "data": {
      "text/plain": [
       "KNeighborsClassifier(algorithm='auto', leaf_size=30, metric='minkowski',\n",
       "                     metric_params=None, n_jobs=None, n_neighbors=5, p=2,\n",
       "                     weights='uniform')"
      ]
     },
     "execution_count": 44,
     "metadata": {},
     "output_type": "execute_result"
    }
   ],
   "source": [
    "knn.fit(X_train_stand,Y_train_enc)"
   ]
  },
  {
   "cell_type": "code",
   "execution_count": 45,
   "metadata": {},
   "outputs": [
    {
     "name": "stdout",
     "output_type": "stream",
     "text": [
      "The Training Accuracy is: 88.9189%\n",
      "The Testing Accuracy is: 80.6452%\n"
     ]
    }
   ],
   "source": [
    "Y_train_pred = knn.predict(X_train_stand)\n",
    "Y_test_pred = knn.predict(X_test_stand)\n",
    "train_accuracy = accuracy_score(Y_train_pred,Y_train_enc)\n",
    "test_accuracy = accuracy_score(Y_test_pred,Y_test_enc)\n",
    "print(f'The Training Accuracy is: {np.round(train_accuracy * 100,4)}%\\nThe Testing Accuracy is: {np.round(test_accuracy*100,4)}%')"
   ]
  },
  {
   "cell_type": "code",
   "execution_count": 46,
   "metadata": {},
   "outputs": [
    {
     "name": "stdout",
     "output_type": "stream",
     "text": [
      "              precision    recall  f1-score   support\n",
      "\n",
      "           0       0.50      1.00      0.67         6\n",
      "           1       0.95      0.83      0.88        63\n",
      "           2       0.89      0.76      0.82        55\n",
      "           3       0.00      0.00      0.00         0\n",
      "\n",
      "    accuracy                           0.81       124\n",
      "   macro avg       0.58      0.65      0.59       124\n",
      "weighted avg       0.90      0.81      0.85       124\n",
      "\n"
     ]
    },
    {
     "name": "stderr",
     "output_type": "stream",
     "text": [
      "/home/akansh/anaconda3/lib/python3.7/site-packages/sklearn/metrics/classification.py:1439: UndefinedMetricWarning: Recall and F-score are ill-defined and being set to 0.0 in labels with no true samples.\n",
      "  'recall', 'true', average, warn_for)\n"
     ]
    }
   ],
   "source": [
    "print(classification_report(Y_test_pred,Y_test_enc))"
   ]
  },
  {
   "cell_type": "markdown",
   "metadata": {},
   "source": [
    "# Naive-Bayes"
   ]
  },
  {
   "cell_type": "code",
   "execution_count": 47,
   "metadata": {},
   "outputs": [],
   "source": [
    "nb = GaussianNB()"
   ]
  },
  {
   "cell_type": "code",
   "execution_count": 48,
   "metadata": {},
   "outputs": [
    {
     "data": {
      "text/plain": [
       "GaussianNB(priors=None, var_smoothing=1e-09)"
      ]
     },
     "execution_count": 48,
     "metadata": {},
     "output_type": "execute_result"
    }
   ],
   "source": [
    "nb.fit(X_train_stand,Y_train_enc)"
   ]
  },
  {
   "cell_type": "code",
   "execution_count": 49,
   "metadata": {},
   "outputs": [
    {
     "name": "stdout",
     "output_type": "stream",
     "text": [
      "The Training Accuracy is: 51.3514%\n",
      "The Testing Accuracy is: 38.7097%\n"
     ]
    }
   ],
   "source": [
    "Y_train_pred = nb.predict(X_train_stand)\n",
    "Y_test_pred = nb.predict(X_test_stand)\n",
    "train_accuracy = accuracy_score(Y_train_pred,Y_train_enc)\n",
    "test_accuracy = accuracy_score(Y_test_pred,Y_test_enc)\n",
    "print(f'The Training Accuracy is: {np.round(train_accuracy * 100,4)}%\\nThe Testing Accuracy is: {np.round(test_accuracy*100,4)}%')"
   ]
  },
  {
   "cell_type": "code",
   "execution_count": 50,
   "metadata": {},
   "outputs": [
    {
     "name": "stdout",
     "output_type": "stream",
     "text": [
      "              precision    recall  f1-score   support\n",
      "\n",
      "           0       0.00      0.00      0.00         0\n",
      "           1       0.40      0.42      0.41        53\n",
      "           2       0.55      0.37      0.44        71\n",
      "           3       0.00      0.00      0.00         0\n",
      "\n",
      "    accuracy                           0.39       124\n",
      "   macro avg       0.24      0.20      0.21       124\n",
      "weighted avg       0.49      0.39      0.43       124\n",
      "\n"
     ]
    },
    {
     "name": "stderr",
     "output_type": "stream",
     "text": [
      "/home/akansh/anaconda3/lib/python3.7/site-packages/sklearn/metrics/classification.py:1439: UndefinedMetricWarning: Recall and F-score are ill-defined and being set to 0.0 in labels with no true samples.\n",
      "  'recall', 'true', average, warn_for)\n"
     ]
    }
   ],
   "source": [
    "print(classification_report(Y_test_pred,Y_test_enc))"
   ]
  },
  {
   "cell_type": "markdown",
   "metadata": {},
   "source": [
    "# Decision Trees"
   ]
  },
  {
   "cell_type": "code",
   "execution_count": 51,
   "metadata": {},
   "outputs": [],
   "source": [
    "dt = DecisionTreeClassifier()\n"
   ]
  },
  {
   "cell_type": "code",
   "execution_count": 52,
   "metadata": {},
   "outputs": [
    {
     "data": {
      "text/plain": [
       "DecisionTreeClassifier(class_weight=None, criterion='gini', max_depth=None,\n",
       "                       max_features=None, max_leaf_nodes=None,\n",
       "                       min_impurity_decrease=0.0, min_impurity_split=None,\n",
       "                       min_samples_leaf=1, min_samples_split=2,\n",
       "                       min_weight_fraction_leaf=0.0, presort=False,\n",
       "                       random_state=None, splitter='best')"
      ]
     },
     "execution_count": 52,
     "metadata": {},
     "output_type": "execute_result"
    }
   ],
   "source": [
    "dt.fit(X_train_stand,Y_train_enc)"
   ]
  },
  {
   "cell_type": "code",
   "execution_count": 53,
   "metadata": {},
   "outputs": [
    {
     "name": "stdout",
     "output_type": "stream",
     "text": [
      "The Training Accuracy is: 100.0%\n",
      "The Testing Accuracy is: 71.7742%\n"
     ]
    }
   ],
   "source": [
    "Y_train_pred = dt.predict(X_train_stand)\n",
    "Y_test_pred = dt.predict(X_test_stand)\n",
    "train_accuracy = accuracy_score(Y_train_pred,Y_train_enc)\n",
    "test_accuracy = accuracy_score(Y_test_pred,Y_test_enc)\n",
    "print(f'The Training Accuracy is: {np.round(train_accuracy * 100,4)}%\\nThe Testing Accuracy is: {np.round(test_accuracy*100,4)}%')"
   ]
  },
  {
   "cell_type": "code",
   "execution_count": 54,
   "metadata": {},
   "outputs": [
    {
     "name": "stdout",
     "output_type": "stream",
     "text": [
      "              precision    recall  f1-score   support\n",
      "\n",
      "           0       0.42      0.38      0.40        13\n",
      "           1       0.71      0.81      0.76        48\n",
      "           2       0.94      0.71      0.81        62\n",
      "           3       0.10      1.00      0.18         1\n",
      "\n",
      "    accuracy                           0.72       124\n",
      "   macro avg       0.54      0.73      0.54       124\n",
      "weighted avg       0.79      0.72      0.74       124\n",
      "\n"
     ]
    }
   ],
   "source": [
    "print(classification_report(Y_test_pred,Y_test_enc))"
   ]
  },
  {
   "cell_type": "markdown",
   "metadata": {},
   "source": [
    "# Random Forest"
   ]
  },
  {
   "cell_type": "code",
   "execution_count": 55,
   "metadata": {},
   "outputs": [],
   "source": [
    "rf = RandomForestClassifier()\n"
   ]
  },
  {
   "cell_type": "code",
   "execution_count": 56,
   "metadata": {},
   "outputs": [
    {
     "name": "stderr",
     "output_type": "stream",
     "text": [
      "/home/akansh/anaconda3/lib/python3.7/site-packages/sklearn/ensemble/forest.py:245: FutureWarning: The default value of n_estimators will change from 10 in version 0.20 to 100 in 0.22.\n",
      "  \"10 in version 0.20 to 100 in 0.22.\", FutureWarning)\n"
     ]
    },
    {
     "data": {
      "text/plain": [
       "RandomForestClassifier(bootstrap=True, class_weight=None, criterion='gini',\n",
       "                       max_depth=None, max_features='auto', max_leaf_nodes=None,\n",
       "                       min_impurity_decrease=0.0, min_impurity_split=None,\n",
       "                       min_samples_leaf=1, min_samples_split=2,\n",
       "                       min_weight_fraction_leaf=0.0, n_estimators=10,\n",
       "                       n_jobs=None, oob_score=False, random_state=None,\n",
       "                       verbose=0, warm_start=False)"
      ]
     },
     "execution_count": 56,
     "metadata": {},
     "output_type": "execute_result"
    }
   ],
   "source": [
    "rf.fit(X_train_stand,Y_train_enc)"
   ]
  },
  {
   "cell_type": "code",
   "execution_count": 57,
   "metadata": {},
   "outputs": [
    {
     "name": "stdout",
     "output_type": "stream",
     "text": [
      "The Training Accuracy is: 98.3784%\n",
      "The Testing Accuracy is: 83.0645%\n"
     ]
    }
   ],
   "source": [
    "Y_train_pred = rf.predict(X_train_stand)\n",
    "Y_test_pred = rf.predict(X_test_stand)\n",
    "train_accuracy = accuracy_score(Y_train_pred,Y_train_enc)\n",
    "test_accuracy = accuracy_score(Y_test_pred,Y_test_enc)\n",
    "print(f'The Training Accuracy is: {np.round(train_accuracy * 100,4)}%\\nThe Testing Accuracy is: {np.round(test_accuracy*100,4)}%')"
   ]
  },
  {
   "cell_type": "code",
   "execution_count": 58,
   "metadata": {},
   "outputs": [
    {
     "name": "stdout",
     "output_type": "stream",
     "text": [
      "              precision    recall  f1-score   support\n",
      "\n",
      "           0       0.58      1.00      0.74         7\n",
      "           1       0.95      0.85      0.90        61\n",
      "           2       0.91      0.78      0.84        55\n",
      "           3       0.10      1.00      0.18         1\n",
      "\n",
      "    accuracy                           0.83       124\n",
      "   macro avg       0.64      0.91      0.66       124\n",
      "weighted avg       0.90      0.83      0.86       124\n",
      "\n"
     ]
    }
   ],
   "source": [
    "print(classification_report(Y_test_pred,Y_test_enc))"
   ]
  },
  {
   "cell_type": "markdown",
   "metadata": {},
   "source": [
    "# Importing another stock & using the classification model SVM"
   ]
  },
  {
   "cell_type": "code",
   "execution_count": 59,
   "metadata": {},
   "outputs": [
    {
     "data": {
      "text/html": [
       "<div>\n",
       "<style scoped>\n",
       "    .dataframe tbody tr th:only-of-type {\n",
       "        vertical-align: middle;\n",
       "    }\n",
       "\n",
       "    .dataframe tbody tr th {\n",
       "        vertical-align: top;\n",
       "    }\n",
       "\n",
       "    .dataframe thead th {\n",
       "        text-align: right;\n",
       "    }\n",
       "</style>\n",
       "<table border=\"1\" class=\"dataframe\">\n",
       "  <thead>\n",
       "    <tr style=\"text-align: right;\">\n",
       "      <th></th>\n",
       "      <th>Symbol</th>\n",
       "      <th>Series</th>\n",
       "      <th>Date</th>\n",
       "      <th>Prev Close</th>\n",
       "      <th>Open Price</th>\n",
       "      <th>High Price</th>\n",
       "      <th>Low Price</th>\n",
       "      <th>Last Price</th>\n",
       "      <th>Close Price</th>\n",
       "      <th>Average Price</th>\n",
       "      <th>Total Traded Quantity</th>\n",
       "      <th>Turnover</th>\n",
       "      <th>No. of Trades</th>\n",
       "      <th>Deliverable Qty</th>\n",
       "      <th>% Dly Qt to Traded Qty</th>\n",
       "    </tr>\n",
       "  </thead>\n",
       "  <tbody>\n",
       "    <tr>\n",
       "      <td>0</td>\n",
       "      <td>ASHOKA</td>\n",
       "      <td>EQ</td>\n",
       "      <td>15-May-2017</td>\n",
       "      <td>210.35</td>\n",
       "      <td>211.0</td>\n",
       "      <td>217.5</td>\n",
       "      <td>206.15</td>\n",
       "      <td>216.30</td>\n",
       "      <td>216.05</td>\n",
       "      <td>212.63</td>\n",
       "      <td>159997</td>\n",
       "      <td>34020520.45</td>\n",
       "      <td>3506</td>\n",
       "      <td>88509</td>\n",
       "      <td>55.32</td>\n",
       "    </tr>\n",
       "    <tr>\n",
       "      <td>1</td>\n",
       "      <td>ASHOKA</td>\n",
       "      <td>EQ</td>\n",
       "      <td>16-May-2017</td>\n",
       "      <td>216.05</td>\n",
       "      <td>212.3</td>\n",
       "      <td>216.0</td>\n",
       "      <td>211.00</td>\n",
       "      <td>214.00</td>\n",
       "      <td>214.90</td>\n",
       "      <td>213.24</td>\n",
       "      <td>213214</td>\n",
       "      <td>45466299.10</td>\n",
       "      <td>2860</td>\n",
       "      <td>151941</td>\n",
       "      <td>71.26</td>\n",
       "    </tr>\n",
       "    <tr>\n",
       "      <td>2</td>\n",
       "      <td>ASHOKA</td>\n",
       "      <td>EQ</td>\n",
       "      <td>17-May-2017</td>\n",
       "      <td>214.90</td>\n",
       "      <td>214.3</td>\n",
       "      <td>218.7</td>\n",
       "      <td>212.10</td>\n",
       "      <td>216.55</td>\n",
       "      <td>217.00</td>\n",
       "      <td>215.97</td>\n",
       "      <td>383131</td>\n",
       "      <td>82743402.10</td>\n",
       "      <td>3297</td>\n",
       "      <td>261939</td>\n",
       "      <td>68.37</td>\n",
       "    </tr>\n",
       "    <tr>\n",
       "      <td>3</td>\n",
       "      <td>ASHOKA</td>\n",
       "      <td>EQ</td>\n",
       "      <td>18-May-2017</td>\n",
       "      <td>217.00</td>\n",
       "      <td>216.0</td>\n",
       "      <td>216.6</td>\n",
       "      <td>208.00</td>\n",
       "      <td>210.00</td>\n",
       "      <td>209.65</td>\n",
       "      <td>211.74</td>\n",
       "      <td>78709</td>\n",
       "      <td>16665707.55</td>\n",
       "      <td>1372</td>\n",
       "      <td>35458</td>\n",
       "      <td>45.05</td>\n",
       "    </tr>\n",
       "    <tr>\n",
       "      <td>4</td>\n",
       "      <td>ASHOKA</td>\n",
       "      <td>EQ</td>\n",
       "      <td>19-May-2017</td>\n",
       "      <td>209.65</td>\n",
       "      <td>212.1</td>\n",
       "      <td>213.9</td>\n",
       "      <td>205.05</td>\n",
       "      <td>206.05</td>\n",
       "      <td>206.25</td>\n",
       "      <td>209.95</td>\n",
       "      <td>398725</td>\n",
       "      <td>83713500.05</td>\n",
       "      <td>2060</td>\n",
       "      <td>301747</td>\n",
       "      <td>75.68</td>\n",
       "    </tr>\n",
       "  </tbody>\n",
       "</table>\n",
       "</div>"
      ],
      "text/plain": [
       "   Symbol Series         Date  Prev Close  Open Price  High Price  Low Price  \\\n",
       "0  ASHOKA     EQ  15-May-2017      210.35       211.0       217.5     206.15   \n",
       "1  ASHOKA     EQ  16-May-2017      216.05       212.3       216.0     211.00   \n",
       "2  ASHOKA     EQ  17-May-2017      214.90       214.3       218.7     212.10   \n",
       "3  ASHOKA     EQ  18-May-2017      217.00       216.0       216.6     208.00   \n",
       "4  ASHOKA     EQ  19-May-2017      209.65       212.1       213.9     205.05   \n",
       "\n",
       "   Last Price  Close Price  Average Price  Total Traded Quantity     Turnover  \\\n",
       "0      216.30       216.05         212.63                 159997  34020520.45   \n",
       "1      214.00       214.90         213.24                 213214  45466299.10   \n",
       "2      216.55       217.00         215.97                 383131  82743402.10   \n",
       "3      210.00       209.65         211.74                  78709  16665707.55   \n",
       "4      206.05       206.25         209.95                 398725  83713500.05   \n",
       "\n",
       "   No. of Trades  Deliverable Qty  % Dly Qt to Traded Qty  \n",
       "0           3506            88509                   55.32  \n",
       "1           2860           151941                   71.26  \n",
       "2           3297           261939                   68.37  \n",
       "3           1372            35458                   45.05  \n",
       "4           2060           301747                   75.68  "
      ]
     },
     "execution_count": 59,
     "metadata": {},
     "output_type": "execute_result"
    }
   ],
   "source": [
    "ashoka_stock_data = pd.read_csv('ASHOKA.csv')\n",
    "ashoka_stock_data.head()"
   ]
  },
  {
   "cell_type": "code",
   "execution_count": 60,
   "metadata": {},
   "outputs": [
    {
     "name": "stdout",
     "output_type": "stream",
     "text": [
      "(494, 15)\n"
     ]
    }
   ],
   "source": [
    "print(ashoka_stock_data.shape)"
   ]
  },
  {
   "cell_type": "code",
   "execution_count": 61,
   "metadata": {},
   "outputs": [
    {
     "data": {
      "text/html": [
       "<div>\n",
       "<style scoped>\n",
       "    .dataframe tbody tr th:only-of-type {\n",
       "        vertical-align: middle;\n",
       "    }\n",
       "\n",
       "    .dataframe tbody tr th {\n",
       "        vertical-align: top;\n",
       "    }\n",
       "\n",
       "    .dataframe thead th {\n",
       "        text-align: right;\n",
       "    }\n",
       "</style>\n",
       "<table border=\"1\" class=\"dataframe\">\n",
       "  <thead>\n",
       "    <tr style=\"text-align: right;\">\n",
       "      <th></th>\n",
       "      <th>Close Price</th>\n",
       "    </tr>\n",
       "  </thead>\n",
       "  <tbody>\n",
       "    <tr>\n",
       "      <td>0</td>\n",
       "      <td>216.05</td>\n",
       "    </tr>\n",
       "    <tr>\n",
       "      <td>1</td>\n",
       "      <td>214.90</td>\n",
       "    </tr>\n",
       "    <tr>\n",
       "      <td>2</td>\n",
       "      <td>217.00</td>\n",
       "    </tr>\n",
       "    <tr>\n",
       "      <td>3</td>\n",
       "      <td>209.65</td>\n",
       "    </tr>\n",
       "    <tr>\n",
       "      <td>4</td>\n",
       "      <td>206.25</td>\n",
       "    </tr>\n",
       "  </tbody>\n",
       "</table>\n",
       "</div>"
      ],
      "text/plain": [
       "   Close Price\n",
       "0       216.05\n",
       "1       214.90\n",
       "2       217.00\n",
       "3       209.65\n",
       "4       206.25"
      ]
     },
     "execution_count": 61,
     "metadata": {},
     "output_type": "execute_result"
    }
   ],
   "source": [
    "data_class = pd.DataFrame(ashoka_stock_data['Close Price'])\n",
    "data_class.head()"
   ]
  },
  {
   "cell_type": "code",
   "execution_count": 62,
   "metadata": {},
   "outputs": [
    {
     "name": "stdout",
     "output_type": "stream",
     "text": [
      "(494, 1)\n"
     ]
    }
   ],
   "source": [
    "print(data_class.shape)"
   ]
  },
  {
   "cell_type": "code",
   "execution_count": 63,
   "metadata": {},
   "outputs": [],
   "source": [
    "data_class['Bollinger Upper'] =  (ashoka_stock_data['Close Price'].rolling(14).mean()) + (ashoka_stock_data['Close Price'].rolling(14).std()*2)\n",
    "data_class['Bollinger Middle'] = (ashoka_stock_data['Close Price'].rolling(14).mean())\n",
    "data_class['Bollinger Lower'] =  (ashoka_stock_data['Close Price'].rolling(14).mean()) - (ashoka_stock_data['Close Price'].rolling(14).std()*2)"
   ]
  },
  {
   "cell_type": "code",
   "execution_count": 64,
   "metadata": {},
   "outputs": [
    {
     "data": {
      "text/html": [
       "<div>\n",
       "<style scoped>\n",
       "    .dataframe tbody tr th:only-of-type {\n",
       "        vertical-align: middle;\n",
       "    }\n",
       "\n",
       "    .dataframe tbody tr th {\n",
       "        vertical-align: top;\n",
       "    }\n",
       "\n",
       "    .dataframe thead th {\n",
       "        text-align: right;\n",
       "    }\n",
       "</style>\n",
       "<table border=\"1\" class=\"dataframe\">\n",
       "  <thead>\n",
       "    <tr style=\"text-align: right;\">\n",
       "      <th></th>\n",
       "      <th>Close Price</th>\n",
       "      <th>Bollinger Upper</th>\n",
       "      <th>Bollinger Middle</th>\n",
       "      <th>Bollinger Lower</th>\n",
       "    </tr>\n",
       "  </thead>\n",
       "  <tbody>\n",
       "    <tr>\n",
       "      <td>0</td>\n",
       "      <td>216.05</td>\n",
       "      <td>NaN</td>\n",
       "      <td>NaN</td>\n",
       "      <td>NaN</td>\n",
       "    </tr>\n",
       "    <tr>\n",
       "      <td>1</td>\n",
       "      <td>214.90</td>\n",
       "      <td>NaN</td>\n",
       "      <td>NaN</td>\n",
       "      <td>NaN</td>\n",
       "    </tr>\n",
       "    <tr>\n",
       "      <td>2</td>\n",
       "      <td>217.00</td>\n",
       "      <td>NaN</td>\n",
       "      <td>NaN</td>\n",
       "      <td>NaN</td>\n",
       "    </tr>\n",
       "    <tr>\n",
       "      <td>3</td>\n",
       "      <td>209.65</td>\n",
       "      <td>NaN</td>\n",
       "      <td>NaN</td>\n",
       "      <td>NaN</td>\n",
       "    </tr>\n",
       "    <tr>\n",
       "      <td>4</td>\n",
       "      <td>206.25</td>\n",
       "      <td>NaN</td>\n",
       "      <td>NaN</td>\n",
       "      <td>NaN</td>\n",
       "    </tr>\n",
       "  </tbody>\n",
       "</table>\n",
       "</div>"
      ],
      "text/plain": [
       "   Close Price  Bollinger Upper  Bollinger Middle  Bollinger Lower\n",
       "0       216.05              NaN               NaN              NaN\n",
       "1       214.90              NaN               NaN              NaN\n",
       "2       217.00              NaN               NaN              NaN\n",
       "3       209.65              NaN               NaN              NaN\n",
       "4       206.25              NaN               NaN              NaN"
      ]
     },
     "execution_count": 64,
     "metadata": {},
     "output_type": "execute_result"
    }
   ],
   "source": [
    "data_class.head()"
   ]
  },
  {
   "cell_type": "code",
   "execution_count": 65,
   "metadata": {},
   "outputs": [
    {
     "data": {
      "text/html": [
       "<div>\n",
       "<style scoped>\n",
       "    .dataframe tbody tr th:only-of-type {\n",
       "        vertical-align: middle;\n",
       "    }\n",
       "\n",
       "    .dataframe tbody tr th {\n",
       "        vertical-align: top;\n",
       "    }\n",
       "\n",
       "    .dataframe thead th {\n",
       "        text-align: right;\n",
       "    }\n",
       "</style>\n",
       "<table border=\"1\" class=\"dataframe\">\n",
       "  <thead>\n",
       "    <tr style=\"text-align: right;\">\n",
       "      <th></th>\n",
       "      <th>Close Price</th>\n",
       "      <th>Bollinger Upper</th>\n",
       "      <th>Bollinger Middle</th>\n",
       "      <th>Bollinger Lower</th>\n",
       "    </tr>\n",
       "  </thead>\n",
       "  <tbody>\n",
       "    <tr>\n",
       "      <td>0</td>\n",
       "      <td>216.05</td>\n",
       "      <td>196.92636</td>\n",
       "      <td>183.128557</td>\n",
       "      <td>169.330753</td>\n",
       "    </tr>\n",
       "    <tr>\n",
       "      <td>1</td>\n",
       "      <td>214.90</td>\n",
       "      <td>196.92636</td>\n",
       "      <td>183.128557</td>\n",
       "      <td>169.330753</td>\n",
       "    </tr>\n",
       "    <tr>\n",
       "      <td>2</td>\n",
       "      <td>217.00</td>\n",
       "      <td>196.92636</td>\n",
       "      <td>183.128557</td>\n",
       "      <td>169.330753</td>\n",
       "    </tr>\n",
       "    <tr>\n",
       "      <td>3</td>\n",
       "      <td>209.65</td>\n",
       "      <td>196.92636</td>\n",
       "      <td>183.128557</td>\n",
       "      <td>169.330753</td>\n",
       "    </tr>\n",
       "    <tr>\n",
       "      <td>4</td>\n",
       "      <td>206.25</td>\n",
       "      <td>196.92636</td>\n",
       "      <td>183.128557</td>\n",
       "      <td>169.330753</td>\n",
       "    </tr>\n",
       "  </tbody>\n",
       "</table>\n",
       "</div>"
      ],
      "text/plain": [
       "   Close Price  Bollinger Upper  Bollinger Middle  Bollinger Lower\n",
       "0       216.05        196.92636        183.128557       169.330753\n",
       "1       214.90        196.92636        183.128557       169.330753\n",
       "2       217.00        196.92636        183.128557       169.330753\n",
       "3       209.65        196.92636        183.128557       169.330753\n",
       "4       206.25        196.92636        183.128557       169.330753"
      ]
     },
     "execution_count": 65,
     "metadata": {},
     "output_type": "execute_result"
    }
   ],
   "source": [
    "data_class = data_class.fillna(data_class.mean())\n",
    "data_class.head()"
   ]
  },
  {
   "cell_type": "code",
   "execution_count": 66,
   "metadata": {},
   "outputs": [
    {
     "name": "stdout",
     "output_type": "stream",
     "text": [
      "(494, 4)\n"
     ]
    }
   ],
   "source": [
    "print(data_class.shape)"
   ]
  },
  {
   "cell_type": "code",
   "execution_count": 67,
   "metadata": {},
   "outputs": [],
   "source": [
    "data_class_stand = scaler.fit_transform(data_class)"
   ]
  },
  {
   "cell_type": "code",
   "execution_count": 68,
   "metadata": {},
   "outputs": [],
   "source": [
    "Y_pred = svm.predict(data_class_stand)"
   ]
  },
  {
   "cell_type": "code",
   "execution_count": 69,
   "metadata": {},
   "outputs": [],
   "source": [
    "Y_pred = le.inverse_transform(Y_pred)"
   ]
  },
  {
   "cell_type": "code",
   "execution_count": 70,
   "metadata": {},
   "outputs": [
    {
     "data": {
      "text/plain": [
       "array(['Short', 'Short', 'Short', 'Short', 'Short', 'Short',\n",
       "       'Hold Short / Liquidate Buy', 'Hold Short / Liquidate Buy',\n",
       "       'Short', 'Short', 'Short', 'Hold Short / Liquidate Buy',\n",
       "       'Hold Short / Liquidate Buy', 'Hold Buy / Liquidate Short',\n",
       "       'Hold Buy / Liquidate Short', 'Hold Buy / Liquidate Short',\n",
       "       'Hold Buy / Liquidate Short', 'Hold Buy / Liquidate Short',\n",
       "       'Hold Buy / Liquidate Short', 'Hold Buy / Liquidate Short',\n",
       "       'Hold Buy / Liquidate Short', 'Hold Buy / Liquidate Short',\n",
       "       'Hold Buy / Liquidate Short', 'Hold Buy / Liquidate Short',\n",
       "       'Hold Short / Liquidate Buy', 'Hold Short / Liquidate Buy',\n",
       "       'Hold Short / Liquidate Buy', 'Hold Short / Liquidate Buy',\n",
       "       'Hold Buy / Liquidate Short', 'Hold Buy / Liquidate Short',\n",
       "       'Hold Buy / Liquidate Short', 'Hold Buy / Liquidate Short',\n",
       "       'Hold Buy / Liquidate Short', 'Hold Buy / Liquidate Short',\n",
       "       'Hold Buy / Liquidate Short', 'Hold Buy / Liquidate Short',\n",
       "       'Hold Buy / Liquidate Short', 'Hold Buy / Liquidate Short',\n",
       "       'Hold Buy / Liquidate Short', 'Hold Buy / Liquidate Short',\n",
       "       'Hold Buy / Liquidate Short', 'Hold Short / Liquidate Buy',\n",
       "       'Hold Short / Liquidate Buy', 'Hold Buy / Liquidate Short',\n",
       "       'Hold Buy / Liquidate Short', 'Hold Buy / Liquidate Short',\n",
       "       'Hold Buy / Liquidate Short', 'Hold Buy / Liquidate Short',\n",
       "       'Hold Buy / Liquidate Short', 'Hold Buy / Liquidate Short',\n",
       "       'Hold Buy / Liquidate Short', 'Hold Buy / Liquidate Short',\n",
       "       'Hold Buy / Liquidate Short', 'Hold Buy / Liquidate Short',\n",
       "       'Hold Buy / Liquidate Short', 'Hold Buy / Liquidate Short',\n",
       "       'Hold Buy / Liquidate Short', 'Hold Buy / Liquidate Short',\n",
       "       'Hold Buy / Liquidate Short', 'Hold Short / Liquidate Buy',\n",
       "       'Hold Buy / Liquidate Short', 'Hold Buy / Liquidate Short',\n",
       "       'Hold Buy / Liquidate Short', 'Hold Buy / Liquidate Short',\n",
       "       'Hold Short / Liquidate Buy', 'Hold Short / Liquidate Buy',\n",
       "       'Hold Short / Liquidate Buy', 'Hold Short / Liquidate Buy',\n",
       "       'Hold Buy / Liquidate Short', 'Hold Short / Liquidate Buy',\n",
       "       'Hold Buy / Liquidate Short', 'Hold Buy / Liquidate Short',\n",
       "       'Hold Buy / Liquidate Short', 'Hold Short / Liquidate Buy',\n",
       "       'Hold Short / Liquidate Buy', 'Hold Short / Liquidate Buy',\n",
       "       'Hold Short / Liquidate Buy', 'Hold Buy / Liquidate Short',\n",
       "       'Hold Buy / Liquidate Short', 'Hold Buy / Liquidate Short',\n",
       "       'Hold Buy / Liquidate Short', 'Hold Buy / Liquidate Short',\n",
       "       'Hold Short / Liquidate Buy', 'Hold Short / Liquidate Buy',\n",
       "       'Hold Short / Liquidate Buy', 'Hold Short / Liquidate Buy',\n",
       "       'Hold Short / Liquidate Buy', 'Hold Short / Liquidate Buy',\n",
       "       'Hold Buy / Liquidate Short', 'Hold Short / Liquidate Buy',\n",
       "       'Hold Buy / Liquidate Short', 'Hold Buy / Liquidate Short',\n",
       "       'Hold Buy / Liquidate Short', 'Hold Buy / Liquidate Short', 'Buy',\n",
       "       'Hold Buy / Liquidate Short', 'Hold Buy / Liquidate Short',\n",
       "       'Hold Buy / Liquidate Short', 'Hold Buy / Liquidate Short',\n",
       "       'Hold Short / Liquidate Buy', 'Hold Short / Liquidate Buy',\n",
       "       'Hold Short / Liquidate Buy', 'Hold Buy / Liquidate Short',\n",
       "       'Hold Buy / Liquidate Short', 'Hold Buy / Liquidate Short',\n",
       "       'Hold Buy / Liquidate Short', 'Hold Buy / Liquidate Short',\n",
       "       'Hold Buy / Liquidate Short', 'Hold Buy / Liquidate Short',\n",
       "       'Hold Buy / Liquidate Short', 'Hold Buy / Liquidate Short',\n",
       "       'Hold Short / Liquidate Buy', 'Short', 'Short', 'Short',\n",
       "       'Hold Short / Liquidate Buy', 'Hold Short / Liquidate Buy',\n",
       "       'Hold Short / Liquidate Buy', 'Hold Short / Liquidate Buy',\n",
       "       'Hold Short / Liquidate Buy', 'Hold Short / Liquidate Buy',\n",
       "       'Hold Short / Liquidate Buy', 'Hold Short / Liquidate Buy',\n",
       "       'Hold Short / Liquidate Buy', 'Hold Short / Liquidate Buy',\n",
       "       'Hold Buy / Liquidate Short', 'Hold Buy / Liquidate Short',\n",
       "       'Hold Buy / Liquidate Short', 'Hold Buy / Liquidate Short',\n",
       "       'Hold Buy / Liquidate Short', 'Hold Buy / Liquidate Short',\n",
       "       'Hold Buy / Liquidate Short', 'Hold Short / Liquidate Buy',\n",
       "       'Hold Short / Liquidate Buy', 'Hold Short / Liquidate Buy',\n",
       "       'Hold Short / Liquidate Buy', 'Hold Short / Liquidate Buy',\n",
       "       'Hold Short / Liquidate Buy', 'Hold Short / Liquidate Buy',\n",
       "       'Hold Short / Liquidate Buy', 'Hold Short / Liquidate Buy',\n",
       "       'Hold Short / Liquidate Buy', 'Hold Short / Liquidate Buy',\n",
       "       'Hold Short / Liquidate Buy', 'Hold Short / Liquidate Buy',\n",
       "       'Hold Short / Liquidate Buy', 'Hold Buy / Liquidate Short',\n",
       "       'Hold Buy / Liquidate Short', 'Hold Buy / Liquidate Short',\n",
       "       'Hold Buy / Liquidate Short', 'Hold Buy / Liquidate Short',\n",
       "       'Hold Buy / Liquidate Short', 'Hold Buy / Liquidate Short',\n",
       "       'Hold Short / Liquidate Buy', 'Hold Short / Liquidate Buy',\n",
       "       'Hold Short / Liquidate Buy', 'Hold Short / Liquidate Buy',\n",
       "       'Hold Buy / Liquidate Short', 'Hold Short / Liquidate Buy',\n",
       "       'Hold Short / Liquidate Buy', 'Hold Buy / Liquidate Short',\n",
       "       'Hold Short / Liquidate Buy', 'Hold Short / Liquidate Buy',\n",
       "       'Hold Short / Liquidate Buy', 'Hold Short / Liquidate Buy',\n",
       "       'Hold Buy / Liquidate Short', 'Hold Buy / Liquidate Short',\n",
       "       'Hold Buy / Liquidate Short', 'Hold Buy / Liquidate Short',\n",
       "       'Hold Buy / Liquidate Short', 'Hold Buy / Liquidate Short',\n",
       "       'Hold Buy / Liquidate Short', 'Hold Buy / Liquidate Short',\n",
       "       'Hold Buy / Liquidate Short', 'Hold Buy / Liquidate Short',\n",
       "       'Hold Buy / Liquidate Short', 'Hold Short / Liquidate Buy',\n",
       "       'Hold Buy / Liquidate Short', 'Hold Buy / Liquidate Short',\n",
       "       'Hold Buy / Liquidate Short', 'Hold Buy / Liquidate Short',\n",
       "       'Hold Buy / Liquidate Short', 'Hold Buy / Liquidate Short',\n",
       "       'Hold Buy / Liquidate Short', 'Hold Buy / Liquidate Short',\n",
       "       'Hold Buy / Liquidate Short', 'Hold Short / Liquidate Buy',\n",
       "       'Hold Short / Liquidate Buy', 'Hold Short / Liquidate Buy',\n",
       "       'Hold Short / Liquidate Buy', 'Hold Buy / Liquidate Short',\n",
       "       'Hold Buy / Liquidate Short', 'Hold Buy / Liquidate Short',\n",
       "       'Hold Buy / Liquidate Short', 'Hold Buy / Liquidate Short',\n",
       "       'Hold Buy / Liquidate Short', 'Hold Buy / Liquidate Short',\n",
       "       'Hold Buy / Liquidate Short', 'Hold Buy / Liquidate Short',\n",
       "       'Hold Buy / Liquidate Short', 'Hold Buy / Liquidate Short',\n",
       "       'Hold Buy / Liquidate Short', 'Hold Buy / Liquidate Short',\n",
       "       'Hold Short / Liquidate Buy', 'Hold Short / Liquidate Buy',\n",
       "       'Hold Short / Liquidate Buy', 'Hold Short / Liquidate Buy',\n",
       "       'Hold Short / Liquidate Buy', 'Hold Buy / Liquidate Short',\n",
       "       'Hold Short / Liquidate Buy', 'Hold Buy / Liquidate Short',\n",
       "       'Hold Short / Liquidate Buy', 'Hold Short / Liquidate Buy',\n",
       "       'Short', 'Hold Short / Liquidate Buy',\n",
       "       'Hold Short / Liquidate Buy', 'Hold Short / Liquidate Buy',\n",
       "       'Hold Short / Liquidate Buy', 'Hold Short / Liquidate Buy',\n",
       "       'Hold Short / Liquidate Buy', 'Hold Short / Liquidate Buy',\n",
       "       'Hold Short / Liquidate Buy', 'Hold Short / Liquidate Buy',\n",
       "       'Hold Short / Liquidate Buy', 'Hold Short / Liquidate Buy',\n",
       "       'Hold Short / Liquidate Buy', 'Hold Short / Liquidate Buy',\n",
       "       'Hold Short / Liquidate Buy', 'Hold Short / Liquidate Buy',\n",
       "       'Hold Short / Liquidate Buy', 'Hold Short / Liquidate Buy',\n",
       "       'Hold Short / Liquidate Buy', 'Short',\n",
       "       'Hold Buy / Liquidate Short', 'Hold Buy / Liquidate Short',\n",
       "       'Short', 'Short', 'Short', 'Short', 'Short', 'Short', 'Short',\n",
       "       'Short', 'Short', 'Short', 'Hold Buy / Liquidate Short',\n",
       "       'Hold Buy / Liquidate Short', 'Hold Buy / Liquidate Short',\n",
       "       'Hold Buy / Liquidate Short', 'Hold Buy / Liquidate Short',\n",
       "       'Hold Buy / Liquidate Short', 'Hold Buy / Liquidate Short',\n",
       "       'Hold Buy / Liquidate Short', 'Buy', 'Hold Buy / Liquidate Short',\n",
       "       'Hold Buy / Liquidate Short', 'Hold Buy / Liquidate Short',\n",
       "       'Hold Buy / Liquidate Short', 'Hold Short / Liquidate Buy',\n",
       "       'Hold Buy / Liquidate Short', 'Hold Buy / Liquidate Short',\n",
       "       'Hold Buy / Liquidate Short', 'Hold Buy / Liquidate Short',\n",
       "       'Hold Buy / Liquidate Short', 'Hold Buy / Liquidate Short',\n",
       "       'Hold Buy / Liquidate Short', 'Hold Buy / Liquidate Short',\n",
       "       'Hold Buy / Liquidate Short', 'Hold Buy / Liquidate Short',\n",
       "       'Hold Buy / Liquidate Short', 'Hold Short / Liquidate Buy',\n",
       "       'Hold Buy / Liquidate Short', 'Hold Buy / Liquidate Short',\n",
       "       'Hold Buy / Liquidate Short', 'Hold Buy / Liquidate Short',\n",
       "       'Hold Buy / Liquidate Short', 'Hold Buy / Liquidate Short',\n",
       "       'Hold Buy / Liquidate Short', 'Hold Buy / Liquidate Short',\n",
       "       'Hold Buy / Liquidate Short', 'Hold Buy / Liquidate Short',\n",
       "       'Hold Buy / Liquidate Short', 'Hold Buy / Liquidate Short',\n",
       "       'Hold Buy / Liquidate Short', 'Hold Short / Liquidate Buy',\n",
       "       'Hold Buy / Liquidate Short', 'Hold Short / Liquidate Buy',\n",
       "       'Hold Short / Liquidate Buy', 'Hold Short / Liquidate Buy',\n",
       "       'Hold Short / Liquidate Buy', 'Hold Short / Liquidate Buy', 'Buy',\n",
       "       'Buy', 'Hold Buy / Liquidate Short', 'Hold Buy / Liquidate Short',\n",
       "       'Hold Buy / Liquidate Short', 'Hold Buy / Liquidate Short',\n",
       "       'Hold Buy / Liquidate Short', 'Hold Buy / Liquidate Short',\n",
       "       'Hold Buy / Liquidate Short', 'Hold Buy / Liquidate Short',\n",
       "       'Hold Buy / Liquidate Short', 'Hold Buy / Liquidate Short',\n",
       "       'Hold Buy / Liquidate Short', 'Hold Buy / Liquidate Short',\n",
       "       'Hold Buy / Liquidate Short', 'Hold Buy / Liquidate Short',\n",
       "       'Hold Buy / Liquidate Short', 'Hold Buy / Liquidate Short',\n",
       "       'Hold Buy / Liquidate Short', 'Hold Buy / Liquidate Short',\n",
       "       'Hold Buy / Liquidate Short', 'Hold Buy / Liquidate Short',\n",
       "       'Hold Buy / Liquidate Short', 'Hold Buy / Liquidate Short',\n",
       "       'Hold Buy / Liquidate Short', 'Hold Buy / Liquidate Short',\n",
       "       'Hold Buy / Liquidate Short', 'Hold Buy / Liquidate Short',\n",
       "       'Hold Buy / Liquidate Short', 'Hold Buy / Liquidate Short',\n",
       "       'Hold Buy / Liquidate Short', 'Hold Buy / Liquidate Short',\n",
       "       'Hold Buy / Liquidate Short', 'Hold Buy / Liquidate Short',\n",
       "       'Hold Buy / Liquidate Short', 'Hold Buy / Liquidate Short',\n",
       "       'Hold Buy / Liquidate Short', 'Hold Buy / Liquidate Short',\n",
       "       'Hold Buy / Liquidate Short', 'Hold Buy / Liquidate Short',\n",
       "       'Hold Buy / Liquidate Short', 'Hold Buy / Liquidate Short',\n",
       "       'Hold Buy / Liquidate Short', 'Hold Buy / Liquidate Short',\n",
       "       'Hold Buy / Liquidate Short', 'Hold Buy / Liquidate Short',\n",
       "       'Hold Buy / Liquidate Short', 'Hold Buy / Liquidate Short',\n",
       "       'Hold Buy / Liquidate Short', 'Hold Buy / Liquidate Short',\n",
       "       'Hold Buy / Liquidate Short', 'Hold Buy / Liquidate Short',\n",
       "       'Hold Buy / Liquidate Short', 'Hold Buy / Liquidate Short',\n",
       "       'Hold Buy / Liquidate Short', 'Hold Buy / Liquidate Short',\n",
       "       'Hold Buy / Liquidate Short', 'Hold Buy / Liquidate Short',\n",
       "       'Hold Buy / Liquidate Short', 'Hold Buy / Liquidate Short',\n",
       "       'Hold Short / Liquidate Buy', 'Hold Short / Liquidate Buy',\n",
       "       'Hold Short / Liquidate Buy', 'Hold Short / Liquidate Buy',\n",
       "       'Hold Short / Liquidate Buy', 'Hold Short / Liquidate Buy',\n",
       "       'Hold Short / Liquidate Buy', 'Hold Short / Liquidate Buy',\n",
       "       'Hold Short / Liquidate Buy', 'Hold Short / Liquidate Buy',\n",
       "       'Hold Buy / Liquidate Short', 'Hold Buy / Liquidate Short',\n",
       "       'Hold Short / Liquidate Buy', 'Hold Short / Liquidate Buy',\n",
       "       'Hold Short / Liquidate Buy', 'Hold Short / Liquidate Buy',\n",
       "       'Hold Short / Liquidate Buy', 'Hold Short / Liquidate Buy',\n",
       "       'Hold Short / Liquidate Buy', 'Hold Short / Liquidate Buy',\n",
       "       'Hold Short / Liquidate Buy', 'Hold Short / Liquidate Buy',\n",
       "       'Hold Short / Liquidate Buy', 'Hold Short / Liquidate Buy',\n",
       "       'Hold Short / Liquidate Buy', 'Hold Short / Liquidate Buy',\n",
       "       'Hold Buy / Liquidate Short', 'Hold Buy / Liquidate Short',\n",
       "       'Hold Buy / Liquidate Short', 'Hold Buy / Liquidate Short',\n",
       "       'Hold Buy / Liquidate Short', 'Hold Buy / Liquidate Short',\n",
       "       'Hold Short / Liquidate Buy', 'Hold Short / Liquidate Buy',\n",
       "       'Hold Buy / Liquidate Short', 'Hold Short / Liquidate Buy',\n",
       "       'Hold Buy / Liquidate Short', 'Hold Buy / Liquidate Short',\n",
       "       'Hold Buy / Liquidate Short', 'Hold Buy / Liquidate Short',\n",
       "       'Hold Buy / Liquidate Short', 'Hold Short / Liquidate Buy',\n",
       "       'Hold Short / Liquidate Buy', 'Hold Buy / Liquidate Short',\n",
       "       'Hold Buy / Liquidate Short', 'Hold Short / Liquidate Buy',\n",
       "       'Hold Short / Liquidate Buy', 'Hold Short / Liquidate Buy',\n",
       "       'Hold Buy / Liquidate Short', 'Hold Buy / Liquidate Short',\n",
       "       'Hold Buy / Liquidate Short', 'Hold Buy / Liquidate Short',\n",
       "       'Hold Buy / Liquidate Short', 'Hold Buy / Liquidate Short',\n",
       "       'Hold Buy / Liquidate Short', 'Hold Buy / Liquidate Short',\n",
       "       'Hold Buy / Liquidate Short', 'Hold Buy / Liquidate Short',\n",
       "       'Hold Buy / Liquidate Short', 'Hold Short / Liquidate Buy',\n",
       "       'Hold Short / Liquidate Buy', 'Hold Short / Liquidate Buy',\n",
       "       'Hold Short / Liquidate Buy', 'Hold Short / Liquidate Buy',\n",
       "       'Hold Short / Liquidate Buy', 'Hold Buy / Liquidate Short',\n",
       "       'Hold Short / Liquidate Buy', 'Hold Short / Liquidate Buy',\n",
       "       'Hold Buy / Liquidate Short', 'Hold Buy / Liquidate Short',\n",
       "       'Hold Buy / Liquidate Short', 'Hold Buy / Liquidate Short',\n",
       "       'Hold Buy / Liquidate Short', 'Hold Buy / Liquidate Short',\n",
       "       'Hold Buy / Liquidate Short', 'Hold Buy / Liquidate Short',\n",
       "       'Hold Buy / Liquidate Short', 'Hold Buy / Liquidate Short',\n",
       "       'Hold Buy / Liquidate Short', 'Hold Buy / Liquidate Short',\n",
       "       'Hold Buy / Liquidate Short', 'Hold Buy / Liquidate Short',\n",
       "       'Hold Buy / Liquidate Short', 'Hold Buy / Liquidate Short',\n",
       "       'Hold Buy / Liquidate Short', 'Hold Buy / Liquidate Short',\n",
       "       'Hold Buy / Liquidate Short', 'Hold Buy / Liquidate Short',\n",
       "       'Hold Buy / Liquidate Short', 'Hold Buy / Liquidate Short',\n",
       "       'Hold Buy / Liquidate Short', 'Hold Short / Liquidate Buy',\n",
       "       'Hold Short / Liquidate Buy', 'Hold Short / Liquidate Buy',\n",
       "       'Hold Short / Liquidate Buy', 'Hold Short / Liquidate Buy',\n",
       "       'Hold Short / Liquidate Buy', 'Hold Short / Liquidate Buy',\n",
       "       'Hold Short / Liquidate Buy', 'Hold Short / Liquidate Buy',\n",
       "       'Hold Short / Liquidate Buy', 'Hold Short / Liquidate Buy',\n",
       "       'Hold Short / Liquidate Buy', 'Hold Short / Liquidate Buy',\n",
       "       'Hold Short / Liquidate Buy', 'Hold Short / Liquidate Buy',\n",
       "       'Hold Short / Liquidate Buy', 'Hold Short / Liquidate Buy',\n",
       "       'Hold Buy / Liquidate Short', 'Hold Buy / Liquidate Short',\n",
       "       'Hold Buy / Liquidate Short', 'Hold Buy / Liquidate Short',\n",
       "       'Hold Buy / Liquidate Short', 'Hold Buy / Liquidate Short',\n",
       "       'Hold Buy / Liquidate Short', 'Hold Buy / Liquidate Short',\n",
       "       'Hold Buy / Liquidate Short', 'Hold Buy / Liquidate Short',\n",
       "       'Hold Buy / Liquidate Short', 'Hold Buy / Liquidate Short',\n",
       "       'Hold Short / Liquidate Buy', 'Hold Short / Liquidate Buy',\n",
       "       'Hold Buy / Liquidate Short', 'Hold Buy / Liquidate Short',\n",
       "       'Hold Buy / Liquidate Short', 'Hold Buy / Liquidate Short',\n",
       "       'Hold Buy / Liquidate Short', 'Hold Buy / Liquidate Short',\n",
       "       'Hold Buy / Liquidate Short', 'Hold Buy / Liquidate Short',\n",
       "       'Hold Buy / Liquidate Short', 'Hold Buy / Liquidate Short',\n",
       "       'Hold Buy / Liquidate Short', 'Hold Buy / Liquidate Short',\n",
       "       'Hold Buy / Liquidate Short', 'Hold Buy / Liquidate Short',\n",
       "       'Hold Buy / Liquidate Short', 'Hold Buy / Liquidate Short',\n",
       "       'Hold Buy / Liquidate Short', 'Hold Buy / Liquidate Short',\n",
       "       'Hold Buy / Liquidate Short', 'Hold Buy / Liquidate Short',\n",
       "       'Hold Buy / Liquidate Short'], dtype=object)"
      ]
     },
     "execution_count": 70,
     "metadata": {},
     "output_type": "execute_result"
    }
   ],
   "source": [
    "Y_pred"
   ]
  },
  {
   "cell_type": "code",
   "execution_count": 71,
   "metadata": {},
   "outputs": [],
   "source": [
    "data_class['Calls_Pred'] = Y_pred "
   ]
  },
  {
   "cell_type": "code",
   "execution_count": 72,
   "metadata": {},
   "outputs": [
    {
     "data": {
      "text/html": [
       "<div>\n",
       "<style scoped>\n",
       "    .dataframe tbody tr th:only-of-type {\n",
       "        vertical-align: middle;\n",
       "    }\n",
       "\n",
       "    .dataframe tbody tr th {\n",
       "        vertical-align: top;\n",
       "    }\n",
       "\n",
       "    .dataframe thead th {\n",
       "        text-align: right;\n",
       "    }\n",
       "</style>\n",
       "<table border=\"1\" class=\"dataframe\">\n",
       "  <thead>\n",
       "    <tr style=\"text-align: right;\">\n",
       "      <th></th>\n",
       "      <th>Close Price</th>\n",
       "      <th>Bollinger Upper</th>\n",
       "      <th>Bollinger Middle</th>\n",
       "      <th>Bollinger Lower</th>\n",
       "      <th>Calls_Pred</th>\n",
       "    </tr>\n",
       "  </thead>\n",
       "  <tbody>\n",
       "    <tr>\n",
       "      <td>0</td>\n",
       "      <td>216.05</td>\n",
       "      <td>196.92636</td>\n",
       "      <td>183.128557</td>\n",
       "      <td>169.330753</td>\n",
       "      <td>Short</td>\n",
       "    </tr>\n",
       "    <tr>\n",
       "      <td>1</td>\n",
       "      <td>214.90</td>\n",
       "      <td>196.92636</td>\n",
       "      <td>183.128557</td>\n",
       "      <td>169.330753</td>\n",
       "      <td>Short</td>\n",
       "    </tr>\n",
       "    <tr>\n",
       "      <td>2</td>\n",
       "      <td>217.00</td>\n",
       "      <td>196.92636</td>\n",
       "      <td>183.128557</td>\n",
       "      <td>169.330753</td>\n",
       "      <td>Short</td>\n",
       "    </tr>\n",
       "    <tr>\n",
       "      <td>3</td>\n",
       "      <td>209.65</td>\n",
       "      <td>196.92636</td>\n",
       "      <td>183.128557</td>\n",
       "      <td>169.330753</td>\n",
       "      <td>Short</td>\n",
       "    </tr>\n",
       "    <tr>\n",
       "      <td>4</td>\n",
       "      <td>206.25</td>\n",
       "      <td>196.92636</td>\n",
       "      <td>183.128557</td>\n",
       "      <td>169.330753</td>\n",
       "      <td>Short</td>\n",
       "    </tr>\n",
       "  </tbody>\n",
       "</table>\n",
       "</div>"
      ],
      "text/plain": [
       "   Close Price  Bollinger Upper  Bollinger Middle  Bollinger Lower Calls_Pred\n",
       "0       216.05        196.92636        183.128557       169.330753      Short\n",
       "1       214.90        196.92636        183.128557       169.330753      Short\n",
       "2       217.00        196.92636        183.128557       169.330753      Short\n",
       "3       209.65        196.92636        183.128557       169.330753      Short\n",
       "4       206.25        196.92636        183.128557       169.330753      Short"
      ]
     },
     "execution_count": 72,
     "metadata": {},
     "output_type": "execute_result"
    }
   ],
   "source": [
    "data_class.head()"
   ]
  },
  {
   "cell_type": "code",
   "execution_count": 73,
   "metadata": {},
   "outputs": [
    {
     "data": {
      "text/html": [
       "<div>\n",
       "<style scoped>\n",
       "    .dataframe tbody tr th:only-of-type {\n",
       "        vertical-align: middle;\n",
       "    }\n",
       "\n",
       "    .dataframe tbody tr th {\n",
       "        vertical-align: top;\n",
       "    }\n",
       "\n",
       "    .dataframe thead th {\n",
       "        text-align: right;\n",
       "    }\n",
       "</style>\n",
       "<table border=\"1\" class=\"dataframe\">\n",
       "  <thead>\n",
       "    <tr style=\"text-align: right;\">\n",
       "      <th></th>\n",
       "      <th>Close Price</th>\n",
       "      <th>Bollinger Upper</th>\n",
       "      <th>Bollinger Middle</th>\n",
       "      <th>Bollinger Lower</th>\n",
       "      <th>Calls_Pred</th>\n",
       "    </tr>\n",
       "  </thead>\n",
       "  <tbody>\n",
       "    <tr>\n",
       "      <td>444</td>\n",
       "      <td>119.05</td>\n",
       "      <td>123.325383</td>\n",
       "      <td>114.417857</td>\n",
       "      <td>105.510332</td>\n",
       "      <td>Hold Short / Liquidate Buy</td>\n",
       "    </tr>\n",
       "    <tr>\n",
       "      <td>445</td>\n",
       "      <td>116.40</td>\n",
       "      <td>123.242736</td>\n",
       "      <td>114.378571</td>\n",
       "      <td>105.514407</td>\n",
       "      <td>Hold Short / Liquidate Buy</td>\n",
       "    </tr>\n",
       "    <tr>\n",
       "      <td>446</td>\n",
       "      <td>114.45</td>\n",
       "      <td>122.897612</td>\n",
       "      <td>114.182143</td>\n",
       "      <td>105.466674</td>\n",
       "      <td>Hold Short / Liquidate Buy</td>\n",
       "    </tr>\n",
       "    <tr>\n",
       "      <td>447</td>\n",
       "      <td>118.50</td>\n",
       "      <td>123.477807</td>\n",
       "      <td>114.460714</td>\n",
       "      <td>105.443621</td>\n",
       "      <td>Hold Short / Liquidate Buy</td>\n",
       "    </tr>\n",
       "    <tr>\n",
       "      <td>448</td>\n",
       "      <td>121.20</td>\n",
       "      <td>124.697470</td>\n",
       "      <td>115.075000</td>\n",
       "      <td>105.452530</td>\n",
       "      <td>Hold Short / Liquidate Buy</td>\n",
       "    </tr>\n",
       "    <tr>\n",
       "      <td>449</td>\n",
       "      <td>129.55</td>\n",
       "      <td>128.422747</td>\n",
       "      <td>116.392857</td>\n",
       "      <td>104.362968</td>\n",
       "      <td>Hold Short / Liquidate Buy</td>\n",
       "    </tr>\n",
       "    <tr>\n",
       "      <td>450</td>\n",
       "      <td>137.55</td>\n",
       "      <td>134.337836</td>\n",
       "      <td>118.303571</td>\n",
       "      <td>102.269307</td>\n",
       "      <td>Hold Short / Liquidate Buy</td>\n",
       "    </tr>\n",
       "    <tr>\n",
       "      <td>451</td>\n",
       "      <td>134.45</td>\n",
       "      <td>137.613961</td>\n",
       "      <td>119.921429</td>\n",
       "      <td>102.228896</td>\n",
       "      <td>Hold Short / Liquidate Buy</td>\n",
       "    </tr>\n",
       "    <tr>\n",
       "      <td>452</td>\n",
       "      <td>133.95</td>\n",
       "      <td>140.048905</td>\n",
       "      <td>121.471429</td>\n",
       "      <td>102.893952</td>\n",
       "      <td>Hold Short / Liquidate Buy</td>\n",
       "    </tr>\n",
       "    <tr>\n",
       "      <td>453</td>\n",
       "      <td>137.35</td>\n",
       "      <td>142.520818</td>\n",
       "      <td>123.439286</td>\n",
       "      <td>104.357753</td>\n",
       "      <td>Hold Short / Liquidate Buy</td>\n",
       "    </tr>\n",
       "    <tr>\n",
       "      <td>454</td>\n",
       "      <td>141.20</td>\n",
       "      <td>145.103557</td>\n",
       "      <td>125.732143</td>\n",
       "      <td>106.360728</td>\n",
       "      <td>Hold Short / Liquidate Buy</td>\n",
       "    </tr>\n",
       "    <tr>\n",
       "      <td>455</td>\n",
       "      <td>140.15</td>\n",
       "      <td>146.806595</td>\n",
       "      <td>127.746429</td>\n",
       "      <td>108.686262</td>\n",
       "      <td>Hold Short / Liquidate Buy</td>\n",
       "    </tr>\n",
       "    <tr>\n",
       "      <td>456</td>\n",
       "      <td>139.30</td>\n",
       "      <td>148.634583</td>\n",
       "      <td>129.039286</td>\n",
       "      <td>109.443989</td>\n",
       "      <td>Hold Short / Liquidate Buy</td>\n",
       "    </tr>\n",
       "    <tr>\n",
       "      <td>457</td>\n",
       "      <td>137.45</td>\n",
       "      <td>149.833775</td>\n",
       "      <td>130.039286</td>\n",
       "      <td>110.244796</td>\n",
       "      <td>Hold Short / Liquidate Buy</td>\n",
       "    </tr>\n",
       "    <tr>\n",
       "      <td>458</td>\n",
       "      <td>137.85</td>\n",
       "      <td>150.504567</td>\n",
       "      <td>131.382143</td>\n",
       "      <td>112.259719</td>\n",
       "      <td>Hold Short / Liquidate Buy</td>\n",
       "    </tr>\n",
       "    <tr>\n",
       "      <td>459</td>\n",
       "      <td>134.05</td>\n",
       "      <td>149.729238</td>\n",
       "      <td>132.642857</td>\n",
       "      <td>115.556477</td>\n",
       "      <td>Hold Buy / Liquidate Short</td>\n",
       "    </tr>\n",
       "    <tr>\n",
       "      <td>460</td>\n",
       "      <td>128.85</td>\n",
       "      <td>147.454513</td>\n",
       "      <td>133.671429</td>\n",
       "      <td>119.888344</td>\n",
       "      <td>Hold Buy / Liquidate Short</td>\n",
       "    </tr>\n",
       "    <tr>\n",
       "      <td>461</td>\n",
       "      <td>129.15</td>\n",
       "      <td>145.520363</td>\n",
       "      <td>134.432143</td>\n",
       "      <td>123.343923</td>\n",
       "      <td>Hold Buy / Liquidate Short</td>\n",
       "    </tr>\n",
       "    <tr>\n",
       "      <td>462</td>\n",
       "      <td>123.95</td>\n",
       "      <td>144.763486</td>\n",
       "      <td>134.628571</td>\n",
       "      <td>124.493657</td>\n",
       "      <td>Hold Buy / Liquidate Short</td>\n",
       "    </tr>\n",
       "    <tr>\n",
       "      <td>463</td>\n",
       "      <td>125.85</td>\n",
       "      <td>145.235874</td>\n",
       "      <td>134.364286</td>\n",
       "      <td>123.492698</td>\n",
       "      <td>Hold Buy / Liquidate Short</td>\n",
       "    </tr>\n",
       "    <tr>\n",
       "      <td>464</td>\n",
       "      <td>130.95</td>\n",
       "      <td>144.741739</td>\n",
       "      <td>133.892857</td>\n",
       "      <td>123.043975</td>\n",
       "      <td>Hold Buy / Liquidate Short</td>\n",
       "    </tr>\n",
       "    <tr>\n",
       "      <td>465</td>\n",
       "      <td>129.80</td>\n",
       "      <td>144.618825</td>\n",
       "      <td>133.560714</td>\n",
       "      <td>122.502604</td>\n",
       "      <td>Hold Buy / Liquidate Short</td>\n",
       "    </tr>\n",
       "    <tr>\n",
       "      <td>466</td>\n",
       "      <td>126.90</td>\n",
       "      <td>144.667209</td>\n",
       "      <td>133.057143</td>\n",
       "      <td>121.447077</td>\n",
       "      <td>Hold Buy / Liquidate Short</td>\n",
       "    </tr>\n",
       "    <tr>\n",
       "      <td>467</td>\n",
       "      <td>130.20</td>\n",
       "      <td>143.970591</td>\n",
       "      <td>132.546429</td>\n",
       "      <td>121.122266</td>\n",
       "      <td>Hold Buy / Liquidate Short</td>\n",
       "    </tr>\n",
       "    <tr>\n",
       "      <td>468</td>\n",
       "      <td>133.00</td>\n",
       "      <td>142.259047</td>\n",
       "      <td>131.960714</td>\n",
       "      <td>121.662381</td>\n",
       "      <td>Hold Buy / Liquidate Short</td>\n",
       "    </tr>\n",
       "    <tr>\n",
       "      <td>469</td>\n",
       "      <td>133.10</td>\n",
       "      <td>140.661896</td>\n",
       "      <td>131.457143</td>\n",
       "      <td>122.252390</td>\n",
       "      <td>Hold Buy / Liquidate Short</td>\n",
       "    </tr>\n",
       "    <tr>\n",
       "      <td>470</td>\n",
       "      <td>127.80</td>\n",
       "      <td>138.821671</td>\n",
       "      <td>130.635714</td>\n",
       "      <td>122.449757</td>\n",
       "      <td>Hold Buy / Liquidate Short</td>\n",
       "    </tr>\n",
       "    <tr>\n",
       "      <td>471</td>\n",
       "      <td>134.45</td>\n",
       "      <td>137.971336</td>\n",
       "      <td>130.421429</td>\n",
       "      <td>122.871521</td>\n",
       "      <td>Hold Short / Liquidate Buy</td>\n",
       "    </tr>\n",
       "    <tr>\n",
       "      <td>472</td>\n",
       "      <td>132.85</td>\n",
       "      <td>136.489767</td>\n",
       "      <td>130.064286</td>\n",
       "      <td>123.638804</td>\n",
       "      <td>Hold Short / Liquidate Buy</td>\n",
       "    </tr>\n",
       "    <tr>\n",
       "      <td>473</td>\n",
       "      <td>131.40</td>\n",
       "      <td>135.940761</td>\n",
       "      <td>129.875000</td>\n",
       "      <td>123.809239</td>\n",
       "      <td>Hold Buy / Liquidate Short</td>\n",
       "    </tr>\n",
       "    <tr>\n",
       "      <td>474</td>\n",
       "      <td>129.35</td>\n",
       "      <td>135.956333</td>\n",
       "      <td>129.910714</td>\n",
       "      <td>123.865096</td>\n",
       "      <td>Hold Buy / Liquidate Short</td>\n",
       "    </tr>\n",
       "    <tr>\n",
       "      <td>475</td>\n",
       "      <td>129.25</td>\n",
       "      <td>135.959839</td>\n",
       "      <td>129.917857</td>\n",
       "      <td>123.875875</td>\n",
       "      <td>Hold Buy / Liquidate Short</td>\n",
       "    </tr>\n",
       "    <tr>\n",
       "      <td>476</td>\n",
       "      <td>130.90</td>\n",
       "      <td>135.392458</td>\n",
       "      <td>130.414286</td>\n",
       "      <td>125.436114</td>\n",
       "      <td>Hold Buy / Liquidate Short</td>\n",
       "    </tr>\n",
       "    <tr>\n",
       "      <td>477</td>\n",
       "      <td>130.00</td>\n",
       "      <td>134.958823</td>\n",
       "      <td>130.710714</td>\n",
       "      <td>126.462605</td>\n",
       "      <td>Hold Buy / Liquidate Short</td>\n",
       "    </tr>\n",
       "    <tr>\n",
       "      <td>478</td>\n",
       "      <td>131.10</td>\n",
       "      <td>134.972892</td>\n",
       "      <td>130.721429</td>\n",
       "      <td>126.469965</td>\n",
       "      <td>Hold Buy / Liquidate Short</td>\n",
       "    </tr>\n",
       "    <tr>\n",
       "      <td>479</td>\n",
       "      <td>131.65</td>\n",
       "      <td>135.096659</td>\n",
       "      <td>130.853571</td>\n",
       "      <td>126.610484</td>\n",
       "      <td>Hold Buy / Liquidate Short</td>\n",
       "    </tr>\n",
       "    <tr>\n",
       "      <td>480</td>\n",
       "      <td>128.05</td>\n",
       "      <td>134.883338</td>\n",
       "      <td>130.935714</td>\n",
       "      <td>126.988090</td>\n",
       "      <td>Hold Buy / Liquidate Short</td>\n",
       "    </tr>\n",
       "    <tr>\n",
       "      <td>481</td>\n",
       "      <td>127.85</td>\n",
       "      <td>135.036996</td>\n",
       "      <td>130.767857</td>\n",
       "      <td>126.498718</td>\n",
       "      <td>Hold Buy / Liquidate Short</td>\n",
       "    </tr>\n",
       "    <tr>\n",
       "      <td>482</td>\n",
       "      <td>129.80</td>\n",
       "      <td>134.632653</td>\n",
       "      <td>130.539286</td>\n",
       "      <td>126.445918</td>\n",
       "      <td>Hold Buy / Liquidate Short</td>\n",
       "    </tr>\n",
       "    <tr>\n",
       "      <td>483</td>\n",
       "      <td>129.05</td>\n",
       "      <td>134.130722</td>\n",
       "      <td>130.250000</td>\n",
       "      <td>126.369278</td>\n",
       "      <td>Hold Buy / Liquidate Short</td>\n",
       "    </tr>\n",
       "    <tr>\n",
       "      <td>484</td>\n",
       "      <td>127.60</td>\n",
       "      <td>134.156552</td>\n",
       "      <td>130.235714</td>\n",
       "      <td>126.314877</td>\n",
       "      <td>Hold Buy / Liquidate Short</td>\n",
       "    </tr>\n",
       "    <tr>\n",
       "      <td>485</td>\n",
       "      <td>124.20</td>\n",
       "      <td>133.840437</td>\n",
       "      <td>129.503571</td>\n",
       "      <td>125.166705</td>\n",
       "      <td>Hold Buy / Liquidate Short</td>\n",
       "    </tr>\n",
       "    <tr>\n",
       "      <td>486</td>\n",
       "      <td>120.70</td>\n",
       "      <td>134.632820</td>\n",
       "      <td>128.635714</td>\n",
       "      <td>122.638609</td>\n",
       "      <td>Hold Buy / Liquidate Short</td>\n",
       "    </tr>\n",
       "    <tr>\n",
       "      <td>487</td>\n",
       "      <td>119.25</td>\n",
       "      <td>135.349069</td>\n",
       "      <td>127.767857</td>\n",
       "      <td>120.186645</td>\n",
       "      <td>Hold Buy / Liquidate Short</td>\n",
       "    </tr>\n",
       "    <tr>\n",
       "      <td>488</td>\n",
       "      <td>116.05</td>\n",
       "      <td>136.568014</td>\n",
       "      <td>126.817857</td>\n",
       "      <td>117.067701</td>\n",
       "      <td>Hold Buy / Liquidate Short</td>\n",
       "    </tr>\n",
       "    <tr>\n",
       "      <td>489</td>\n",
       "      <td>118.10</td>\n",
       "      <td>136.693730</td>\n",
       "      <td>126.021429</td>\n",
       "      <td>115.349127</td>\n",
       "      <td>Hold Buy / Liquidate Short</td>\n",
       "    </tr>\n",
       "    <tr>\n",
       "      <td>490</td>\n",
       "      <td>115.45</td>\n",
       "      <td>136.567526</td>\n",
       "      <td>124.917857</td>\n",
       "      <td>113.268188</td>\n",
       "      <td>Hold Buy / Liquidate Short</td>\n",
       "    </tr>\n",
       "    <tr>\n",
       "      <td>491</td>\n",
       "      <td>115.30</td>\n",
       "      <td>136.175616</td>\n",
       "      <td>123.867857</td>\n",
       "      <td>111.560098</td>\n",
       "      <td>Hold Buy / Liquidate Short</td>\n",
       "    </tr>\n",
       "    <tr>\n",
       "      <td>492</td>\n",
       "      <td>117.45</td>\n",
       "      <td>134.891438</td>\n",
       "      <td>122.892857</td>\n",
       "      <td>110.894277</td>\n",
       "      <td>Hold Buy / Liquidate Short</td>\n",
       "    </tr>\n",
       "    <tr>\n",
       "      <td>493</td>\n",
       "      <td>117.15</td>\n",
       "      <td>133.077513</td>\n",
       "      <td>121.857143</td>\n",
       "      <td>110.636773</td>\n",
       "      <td>Hold Buy / Liquidate Short</td>\n",
       "    </tr>\n",
       "  </tbody>\n",
       "</table>\n",
       "</div>"
      ],
      "text/plain": [
       "     Close Price  Bollinger Upper  Bollinger Middle  Bollinger Lower  \\\n",
       "444       119.05       123.325383        114.417857       105.510332   \n",
       "445       116.40       123.242736        114.378571       105.514407   \n",
       "446       114.45       122.897612        114.182143       105.466674   \n",
       "447       118.50       123.477807        114.460714       105.443621   \n",
       "448       121.20       124.697470        115.075000       105.452530   \n",
       "449       129.55       128.422747        116.392857       104.362968   \n",
       "450       137.55       134.337836        118.303571       102.269307   \n",
       "451       134.45       137.613961        119.921429       102.228896   \n",
       "452       133.95       140.048905        121.471429       102.893952   \n",
       "453       137.35       142.520818        123.439286       104.357753   \n",
       "454       141.20       145.103557        125.732143       106.360728   \n",
       "455       140.15       146.806595        127.746429       108.686262   \n",
       "456       139.30       148.634583        129.039286       109.443989   \n",
       "457       137.45       149.833775        130.039286       110.244796   \n",
       "458       137.85       150.504567        131.382143       112.259719   \n",
       "459       134.05       149.729238        132.642857       115.556477   \n",
       "460       128.85       147.454513        133.671429       119.888344   \n",
       "461       129.15       145.520363        134.432143       123.343923   \n",
       "462       123.95       144.763486        134.628571       124.493657   \n",
       "463       125.85       145.235874        134.364286       123.492698   \n",
       "464       130.95       144.741739        133.892857       123.043975   \n",
       "465       129.80       144.618825        133.560714       122.502604   \n",
       "466       126.90       144.667209        133.057143       121.447077   \n",
       "467       130.20       143.970591        132.546429       121.122266   \n",
       "468       133.00       142.259047        131.960714       121.662381   \n",
       "469       133.10       140.661896        131.457143       122.252390   \n",
       "470       127.80       138.821671        130.635714       122.449757   \n",
       "471       134.45       137.971336        130.421429       122.871521   \n",
       "472       132.85       136.489767        130.064286       123.638804   \n",
       "473       131.40       135.940761        129.875000       123.809239   \n",
       "474       129.35       135.956333        129.910714       123.865096   \n",
       "475       129.25       135.959839        129.917857       123.875875   \n",
       "476       130.90       135.392458        130.414286       125.436114   \n",
       "477       130.00       134.958823        130.710714       126.462605   \n",
       "478       131.10       134.972892        130.721429       126.469965   \n",
       "479       131.65       135.096659        130.853571       126.610484   \n",
       "480       128.05       134.883338        130.935714       126.988090   \n",
       "481       127.85       135.036996        130.767857       126.498718   \n",
       "482       129.80       134.632653        130.539286       126.445918   \n",
       "483       129.05       134.130722        130.250000       126.369278   \n",
       "484       127.60       134.156552        130.235714       126.314877   \n",
       "485       124.20       133.840437        129.503571       125.166705   \n",
       "486       120.70       134.632820        128.635714       122.638609   \n",
       "487       119.25       135.349069        127.767857       120.186645   \n",
       "488       116.05       136.568014        126.817857       117.067701   \n",
       "489       118.10       136.693730        126.021429       115.349127   \n",
       "490       115.45       136.567526        124.917857       113.268188   \n",
       "491       115.30       136.175616        123.867857       111.560098   \n",
       "492       117.45       134.891438        122.892857       110.894277   \n",
       "493       117.15       133.077513        121.857143       110.636773   \n",
       "\n",
       "                     Calls_Pred  \n",
       "444  Hold Short / Liquidate Buy  \n",
       "445  Hold Short / Liquidate Buy  \n",
       "446  Hold Short / Liquidate Buy  \n",
       "447  Hold Short / Liquidate Buy  \n",
       "448  Hold Short / Liquidate Buy  \n",
       "449  Hold Short / Liquidate Buy  \n",
       "450  Hold Short / Liquidate Buy  \n",
       "451  Hold Short / Liquidate Buy  \n",
       "452  Hold Short / Liquidate Buy  \n",
       "453  Hold Short / Liquidate Buy  \n",
       "454  Hold Short / Liquidate Buy  \n",
       "455  Hold Short / Liquidate Buy  \n",
       "456  Hold Short / Liquidate Buy  \n",
       "457  Hold Short / Liquidate Buy  \n",
       "458  Hold Short / Liquidate Buy  \n",
       "459  Hold Buy / Liquidate Short  \n",
       "460  Hold Buy / Liquidate Short  \n",
       "461  Hold Buy / Liquidate Short  \n",
       "462  Hold Buy / Liquidate Short  \n",
       "463  Hold Buy / Liquidate Short  \n",
       "464  Hold Buy / Liquidate Short  \n",
       "465  Hold Buy / Liquidate Short  \n",
       "466  Hold Buy / Liquidate Short  \n",
       "467  Hold Buy / Liquidate Short  \n",
       "468  Hold Buy / Liquidate Short  \n",
       "469  Hold Buy / Liquidate Short  \n",
       "470  Hold Buy / Liquidate Short  \n",
       "471  Hold Short / Liquidate Buy  \n",
       "472  Hold Short / Liquidate Buy  \n",
       "473  Hold Buy / Liquidate Short  \n",
       "474  Hold Buy / Liquidate Short  \n",
       "475  Hold Buy / Liquidate Short  \n",
       "476  Hold Buy / Liquidate Short  \n",
       "477  Hold Buy / Liquidate Short  \n",
       "478  Hold Buy / Liquidate Short  \n",
       "479  Hold Buy / Liquidate Short  \n",
       "480  Hold Buy / Liquidate Short  \n",
       "481  Hold Buy / Liquidate Short  \n",
       "482  Hold Buy / Liquidate Short  \n",
       "483  Hold Buy / Liquidate Short  \n",
       "484  Hold Buy / Liquidate Short  \n",
       "485  Hold Buy / Liquidate Short  \n",
       "486  Hold Buy / Liquidate Short  \n",
       "487  Hold Buy / Liquidate Short  \n",
       "488  Hold Buy / Liquidate Short  \n",
       "489  Hold Buy / Liquidate Short  \n",
       "490  Hold Buy / Liquidate Short  \n",
       "491  Hold Buy / Liquidate Short  \n",
       "492  Hold Buy / Liquidate Short  \n",
       "493  Hold Buy / Liquidate Short  "
      ]
     },
     "execution_count": 73,
     "metadata": {},
     "output_type": "execute_result"
    }
   ],
   "source": [
    "data_class.tail(50)"
   ]
  },
  {
   "cell_type": "markdown",
   "metadata": {},
   "source": [
    "# 4.2"
   ]
  },
  {
   "cell_type": "code",
   "execution_count": 74,
   "metadata": {},
   "outputs": [
    {
     "data": {
      "text/html": [
       "<div>\n",
       "<style scoped>\n",
       "    .dataframe tbody tr th:only-of-type {\n",
       "        vertical-align: middle;\n",
       "    }\n",
       "\n",
       "    .dataframe tbody tr th {\n",
       "        vertical-align: top;\n",
       "    }\n",
       "\n",
       "    .dataframe thead th {\n",
       "        text-align: right;\n",
       "    }\n",
       "</style>\n",
       "<table border=\"1\" class=\"dataframe\">\n",
       "  <thead>\n",
       "    <tr style=\"text-align: right;\">\n",
       "      <th></th>\n",
       "      <th>Unnamed: 0</th>\n",
       "      <th>Symbol</th>\n",
       "      <th>Series</th>\n",
       "      <th>Date</th>\n",
       "      <th>Prev Close</th>\n",
       "      <th>Open Price</th>\n",
       "      <th>High Price</th>\n",
       "      <th>Low Price</th>\n",
       "      <th>Last Price</th>\n",
       "      <th>Close Price</th>\n",
       "      <th>Average Price</th>\n",
       "      <th>Total Traded Quantity</th>\n",
       "      <th>Turnover</th>\n",
       "      <th>No. of Trades</th>\n",
       "      <th>Deliverable Qty</th>\n",
       "      <th>% Dly Qt to Traded Qty</th>\n",
       "      <th>Year</th>\n",
       "      <th>Month</th>\n",
       "      <th>Day_perc_change</th>\n",
       "      <th>Trend</th>\n",
       "    </tr>\n",
       "  </thead>\n",
       "  <tbody>\n",
       "    <tr>\n",
       "      <td>0</td>\n",
       "      <td>0</td>\n",
       "      <td>MARUTI</td>\n",
       "      <td>EQ</td>\n",
       "      <td>2017-05-15</td>\n",
       "      <td>6730.20</td>\n",
       "      <td>6759.4</td>\n",
       "      <td>6839.10</td>\n",
       "      <td>6733.45</td>\n",
       "      <td>6824.0</td>\n",
       "      <td>6823.90</td>\n",
       "      <td>6796.84</td>\n",
       "      <td>336356</td>\n",
       "      <td>2.286158e+09</td>\n",
       "      <td>31377</td>\n",
       "      <td>154743</td>\n",
       "      <td>46.01</td>\n",
       "      <td>2017</td>\n",
       "      <td>May</td>\n",
       "      <td>0.000000</td>\n",
       "      <td>Slight Change</td>\n",
       "    </tr>\n",
       "    <tr>\n",
       "      <td>1</td>\n",
       "      <td>1</td>\n",
       "      <td>MARUTI</td>\n",
       "      <td>EQ</td>\n",
       "      <td>2017-05-16</td>\n",
       "      <td>6823.90</td>\n",
       "      <td>6850.0</td>\n",
       "      <td>6977.55</td>\n",
       "      <td>6830.00</td>\n",
       "      <td>6968.4</td>\n",
       "      <td>6953.95</td>\n",
       "      <td>6902.22</td>\n",
       "      <td>707624</td>\n",
       "      <td>4.884174e+09</td>\n",
       "      <td>49047</td>\n",
       "      <td>360641</td>\n",
       "      <td>50.97</td>\n",
       "      <td>2017</td>\n",
       "      <td>May</td>\n",
       "      <td>1.905802</td>\n",
       "      <td>Positive</td>\n",
       "    </tr>\n",
       "    <tr>\n",
       "      <td>2</td>\n",
       "      <td>2</td>\n",
       "      <td>MARUTI</td>\n",
       "      <td>EQ</td>\n",
       "      <td>2017-05-17</td>\n",
       "      <td>6953.95</td>\n",
       "      <td>6950.0</td>\n",
       "      <td>6979.00</td>\n",
       "      <td>6885.85</td>\n",
       "      <td>6945.0</td>\n",
       "      <td>6958.20</td>\n",
       "      <td>6931.60</td>\n",
       "      <td>445461</td>\n",
       "      <td>3.087758e+09</td>\n",
       "      <td>65280</td>\n",
       "      <td>260033</td>\n",
       "      <td>58.37</td>\n",
       "      <td>2017</td>\n",
       "      <td>May</td>\n",
       "      <td>0.061116</td>\n",
       "      <td>Slight Change</td>\n",
       "    </tr>\n",
       "    <tr>\n",
       "      <td>3</td>\n",
       "      <td>3</td>\n",
       "      <td>MARUTI</td>\n",
       "      <td>EQ</td>\n",
       "      <td>2017-05-18</td>\n",
       "      <td>6958.20</td>\n",
       "      <td>6918.3</td>\n",
       "      <td>6948.00</td>\n",
       "      <td>6814.45</td>\n",
       "      <td>6822.0</td>\n",
       "      <td>6831.05</td>\n",
       "      <td>6869.68</td>\n",
       "      <td>406814</td>\n",
       "      <td>2.794684e+09</td>\n",
       "      <td>37063</td>\n",
       "      <td>188907</td>\n",
       "      <td>46.44</td>\n",
       "      <td>2017</td>\n",
       "      <td>May</td>\n",
       "      <td>-1.827340</td>\n",
       "      <td>Negative</td>\n",
       "    </tr>\n",
       "    <tr>\n",
       "      <td>4</td>\n",
       "      <td>4</td>\n",
       "      <td>MARUTI</td>\n",
       "      <td>EQ</td>\n",
       "      <td>2017-05-19</td>\n",
       "      <td>6831.05</td>\n",
       "      <td>6854.8</td>\n",
       "      <td>6893.90</td>\n",
       "      <td>6691.55</td>\n",
       "      <td>6756.3</td>\n",
       "      <td>6790.55</td>\n",
       "      <td>6791.60</td>\n",
       "      <td>552223</td>\n",
       "      <td>3.750475e+09</td>\n",
       "      <td>64293</td>\n",
       "      <td>234662</td>\n",
       "      <td>42.49</td>\n",
       "      <td>2017</td>\n",
       "      <td>May</td>\n",
       "      <td>-0.592881</td>\n",
       "      <td>Slight Negative</td>\n",
       "    </tr>\n",
       "  </tbody>\n",
       "</table>\n",
       "</div>"
      ],
      "text/plain": [
       "   Unnamed: 0  Symbol Series        Date  Prev Close  Open Price  High Price  \\\n",
       "0           0  MARUTI     EQ  2017-05-15     6730.20      6759.4     6839.10   \n",
       "1           1  MARUTI     EQ  2017-05-16     6823.90      6850.0     6977.55   \n",
       "2           2  MARUTI     EQ  2017-05-17     6953.95      6950.0     6979.00   \n",
       "3           3  MARUTI     EQ  2017-05-18     6958.20      6918.3     6948.00   \n",
       "4           4  MARUTI     EQ  2017-05-19     6831.05      6854.8     6893.90   \n",
       "\n",
       "   Low Price  Last Price  Close Price  Average Price  Total Traded Quantity  \\\n",
       "0    6733.45      6824.0      6823.90        6796.84                 336356   \n",
       "1    6830.00      6968.4      6953.95        6902.22                 707624   \n",
       "2    6885.85      6945.0      6958.20        6931.60                 445461   \n",
       "3    6814.45      6822.0      6831.05        6869.68                 406814   \n",
       "4    6691.55      6756.3      6790.55        6791.60                 552223   \n",
       "\n",
       "       Turnover  No. of Trades  Deliverable Qty  % Dly Qt to Traded Qty  Year  \\\n",
       "0  2.286158e+09          31377           154743                   46.01  2017   \n",
       "1  4.884174e+09          49047           360641                   50.97  2017   \n",
       "2  3.087758e+09          65280           260033                   58.37  2017   \n",
       "3  2.794684e+09          37063           188907                   46.44  2017   \n",
       "4  3.750475e+09          64293           234662                   42.49  2017   \n",
       "\n",
       "  Month  Day_perc_change            Trend  \n",
       "0   May         0.000000    Slight Change  \n",
       "1   May         1.905802         Positive  \n",
       "2   May         0.061116    Slight Change  \n",
       "3   May        -1.827340         Negative  \n",
       "4   May        -0.592881  Slight Negative  "
      ]
     },
     "execution_count": 74,
     "metadata": {},
     "output_type": "execute_result"
    }
   ],
   "source": [
    "data = pd.read_csv('week2.csv')\n",
    "data.head()"
   ]
  },
  {
   "cell_type": "code",
   "execution_count": 75,
   "metadata": {},
   "outputs": [],
   "source": [
    "data_copy = data.copy()"
   ]
  },
  {
   "cell_type": "code",
   "execution_count": 76,
   "metadata": {},
   "outputs": [],
   "source": [
    "data_copy['% change b/w open and close per day'] = 1.0\n",
    "data_copy['% change b/w high and low per day'] = 1.0\n"
   ]
  },
  {
   "cell_type": "code",
   "execution_count": 77,
   "metadata": {},
   "outputs": [
    {
     "name": "stderr",
     "output_type": "stream",
     "text": [
      "/home/akansh/anaconda3/lib/python3.7/site-packages/ipykernel_launcher.py:3: SettingWithCopyWarning: \n",
      "A value is trying to be set on a copy of a slice from a DataFrame\n",
      "\n",
      "See the caveats in the documentation: http://pandas.pydata.org/pandas-docs/stable/user_guide/indexing.html#returning-a-view-versus-a-copy\n",
      "  This is separate from the ipykernel package so we can avoid doing imports until\n",
      "/home/akansh/anaconda3/lib/python3.7/site-packages/ipykernel_launcher.py:5: SettingWithCopyWarning: \n",
      "A value is trying to be set on a copy of a slice from a DataFrame\n",
      "\n",
      "See the caveats in the documentation: http://pandas.pydata.org/pandas-docs/stable/user_guide/indexing.html#returning-a-view-versus-a-copy\n",
      "  \"\"\"\n"
     ]
    }
   ],
   "source": [
    "for i in data_copy.index:\n",
    "    diff = data_copy['Close Price'][i] - data_copy['Open Price'][i]\n",
    "    data_copy['% change b/w open and close per day'][i] = (diff/data_copy['Close Price'][i])*100\n",
    "    diff = data_copy['High Price'][i] - data_copy['Low Price'][i]\n",
    "    data_copy['% change b/w high and low per day'][i] = (diff/data_copy['High Price'][i])*100"
   ]
  },
  {
   "cell_type": "code",
   "execution_count": 78,
   "metadata": {},
   "outputs": [
    {
     "data": {
      "text/html": [
       "<div>\n",
       "<style scoped>\n",
       "    .dataframe tbody tr th:only-of-type {\n",
       "        vertical-align: middle;\n",
       "    }\n",
       "\n",
       "    .dataframe tbody tr th {\n",
       "        vertical-align: top;\n",
       "    }\n",
       "\n",
       "    .dataframe thead th {\n",
       "        text-align: right;\n",
       "    }\n",
       "</style>\n",
       "<table border=\"1\" class=\"dataframe\">\n",
       "  <thead>\n",
       "    <tr style=\"text-align: right;\">\n",
       "      <th></th>\n",
       "      <th>Unnamed: 0</th>\n",
       "      <th>Symbol</th>\n",
       "      <th>Series</th>\n",
       "      <th>Date</th>\n",
       "      <th>Prev Close</th>\n",
       "      <th>Open Price</th>\n",
       "      <th>High Price</th>\n",
       "      <th>Low Price</th>\n",
       "      <th>Last Price</th>\n",
       "      <th>Close Price</th>\n",
       "      <th>...</th>\n",
       "      <th>Turnover</th>\n",
       "      <th>No. of Trades</th>\n",
       "      <th>Deliverable Qty</th>\n",
       "      <th>% Dly Qt to Traded Qty</th>\n",
       "      <th>Year</th>\n",
       "      <th>Month</th>\n",
       "      <th>Day_perc_change</th>\n",
       "      <th>Trend</th>\n",
       "      <th>% change b/w open and close per day</th>\n",
       "      <th>% change b/w high and low per day</th>\n",
       "    </tr>\n",
       "  </thead>\n",
       "  <tbody>\n",
       "    <tr>\n",
       "      <td>0</td>\n",
       "      <td>0</td>\n",
       "      <td>MARUTI</td>\n",
       "      <td>EQ</td>\n",
       "      <td>2017-05-15</td>\n",
       "      <td>6730.20</td>\n",
       "      <td>6759.4</td>\n",
       "      <td>6839.10</td>\n",
       "      <td>6733.45</td>\n",
       "      <td>6824.0</td>\n",
       "      <td>6823.90</td>\n",
       "      <td>...</td>\n",
       "      <td>2.286158e+09</td>\n",
       "      <td>31377</td>\n",
       "      <td>154743</td>\n",
       "      <td>46.01</td>\n",
       "      <td>2017</td>\n",
       "      <td>May</td>\n",
       "      <td>0.000000</td>\n",
       "      <td>Slight Change</td>\n",
       "      <td>0.945207</td>\n",
       "      <td>1.544794</td>\n",
       "    </tr>\n",
       "    <tr>\n",
       "      <td>1</td>\n",
       "      <td>1</td>\n",
       "      <td>MARUTI</td>\n",
       "      <td>EQ</td>\n",
       "      <td>2017-05-16</td>\n",
       "      <td>6823.90</td>\n",
       "      <td>6850.0</td>\n",
       "      <td>6977.55</td>\n",
       "      <td>6830.00</td>\n",
       "      <td>6968.4</td>\n",
       "      <td>6953.95</td>\n",
       "      <td>...</td>\n",
       "      <td>4.884174e+09</td>\n",
       "      <td>49047</td>\n",
       "      <td>360641</td>\n",
       "      <td>50.97</td>\n",
       "      <td>2017</td>\n",
       "      <td>May</td>\n",
       "      <td>1.905802</td>\n",
       "      <td>Positive</td>\n",
       "      <td>1.494834</td>\n",
       "      <td>2.114639</td>\n",
       "    </tr>\n",
       "    <tr>\n",
       "      <td>2</td>\n",
       "      <td>2</td>\n",
       "      <td>MARUTI</td>\n",
       "      <td>EQ</td>\n",
       "      <td>2017-05-17</td>\n",
       "      <td>6953.95</td>\n",
       "      <td>6950.0</td>\n",
       "      <td>6979.00</td>\n",
       "      <td>6885.85</td>\n",
       "      <td>6945.0</td>\n",
       "      <td>6958.20</td>\n",
       "      <td>...</td>\n",
       "      <td>3.087758e+09</td>\n",
       "      <td>65280</td>\n",
       "      <td>260033</td>\n",
       "      <td>58.37</td>\n",
       "      <td>2017</td>\n",
       "      <td>May</td>\n",
       "      <td>0.061116</td>\n",
       "      <td>Slight Change</td>\n",
       "      <td>0.117847</td>\n",
       "      <td>1.334718</td>\n",
       "    </tr>\n",
       "    <tr>\n",
       "      <td>3</td>\n",
       "      <td>3</td>\n",
       "      <td>MARUTI</td>\n",
       "      <td>EQ</td>\n",
       "      <td>2017-05-18</td>\n",
       "      <td>6958.20</td>\n",
       "      <td>6918.3</td>\n",
       "      <td>6948.00</td>\n",
       "      <td>6814.45</td>\n",
       "      <td>6822.0</td>\n",
       "      <td>6831.05</td>\n",
       "      <td>...</td>\n",
       "      <td>2.794684e+09</td>\n",
       "      <td>37063</td>\n",
       "      <td>188907</td>\n",
       "      <td>46.44</td>\n",
       "      <td>2017</td>\n",
       "      <td>May</td>\n",
       "      <td>-1.827340</td>\n",
       "      <td>Negative</td>\n",
       "      <td>-1.277256</td>\n",
       "      <td>1.922136</td>\n",
       "    </tr>\n",
       "    <tr>\n",
       "      <td>4</td>\n",
       "      <td>4</td>\n",
       "      <td>MARUTI</td>\n",
       "      <td>EQ</td>\n",
       "      <td>2017-05-19</td>\n",
       "      <td>6831.05</td>\n",
       "      <td>6854.8</td>\n",
       "      <td>6893.90</td>\n",
       "      <td>6691.55</td>\n",
       "      <td>6756.3</td>\n",
       "      <td>6790.55</td>\n",
       "      <td>...</td>\n",
       "      <td>3.750475e+09</td>\n",
       "      <td>64293</td>\n",
       "      <td>234662</td>\n",
       "      <td>42.49</td>\n",
       "      <td>2017</td>\n",
       "      <td>May</td>\n",
       "      <td>-0.592881</td>\n",
       "      <td>Slight Negative</td>\n",
       "      <td>-0.946168</td>\n",
       "      <td>2.935204</td>\n",
       "    </tr>\n",
       "  </tbody>\n",
       "</table>\n",
       "<p>5 rows × 22 columns</p>\n",
       "</div>"
      ],
      "text/plain": [
       "   Unnamed: 0  Symbol Series        Date  Prev Close  Open Price  High Price  \\\n",
       "0           0  MARUTI     EQ  2017-05-15     6730.20      6759.4     6839.10   \n",
       "1           1  MARUTI     EQ  2017-05-16     6823.90      6850.0     6977.55   \n",
       "2           2  MARUTI     EQ  2017-05-17     6953.95      6950.0     6979.00   \n",
       "3           3  MARUTI     EQ  2017-05-18     6958.20      6918.3     6948.00   \n",
       "4           4  MARUTI     EQ  2017-05-19     6831.05      6854.8     6893.90   \n",
       "\n",
       "   Low Price  Last Price  Close Price  ...      Turnover  No. of Trades  \\\n",
       "0    6733.45      6824.0      6823.90  ...  2.286158e+09          31377   \n",
       "1    6830.00      6968.4      6953.95  ...  4.884174e+09          49047   \n",
       "2    6885.85      6945.0      6958.20  ...  3.087758e+09          65280   \n",
       "3    6814.45      6822.0      6831.05  ...  2.794684e+09          37063   \n",
       "4    6691.55      6756.3      6790.55  ...  3.750475e+09          64293   \n",
       "\n",
       "   Deliverable Qty  % Dly Qt to Traded Qty  Year  Month  Day_perc_change  \\\n",
       "0           154743                   46.01  2017    May         0.000000   \n",
       "1           360641                   50.97  2017    May         1.905802   \n",
       "2           260033                   58.37  2017    May         0.061116   \n",
       "3           188907                   46.44  2017    May        -1.827340   \n",
       "4           234662                   42.49  2017    May        -0.592881   \n",
       "\n",
       "             Trend  % change b/w open and close per day  \\\n",
       "0    Slight Change                             0.945207   \n",
       "1         Positive                             1.494834   \n",
       "2    Slight Change                             0.117847   \n",
       "3         Negative                            -1.277256   \n",
       "4  Slight Negative                            -0.946168   \n",
       "\n",
       "  % change b/w high and low per day  \n",
       "0                          1.544794  \n",
       "1                          2.114639  \n",
       "2                          1.334718  \n",
       "3                          1.922136  \n",
       "4                          2.935204  \n",
       "\n",
       "[5 rows x 22 columns]"
      ]
     },
     "execution_count": 78,
     "metadata": {},
     "output_type": "execute_result"
    }
   ],
   "source": [
    "data_copy.head()"
   ]
  },
  {
   "cell_type": "code",
   "execution_count": 79,
   "metadata": {},
   "outputs": [],
   "source": [
    "data_copy['5 day rolling mean % of Close Price'] = data_copy['Day_perc_change'].rolling(5).mean()\n",
    "data_copy['5 day rolling std % of Close Price'] = data_copy['Day_perc_change'].rolling(5).std()"
   ]
  },
  {
   "cell_type": "code",
   "execution_count": 80,
   "metadata": {},
   "outputs": [
    {
     "data": {
      "text/html": [
       "<div>\n",
       "<style scoped>\n",
       "    .dataframe tbody tr th:only-of-type {\n",
       "        vertical-align: middle;\n",
       "    }\n",
       "\n",
       "    .dataframe tbody tr th {\n",
       "        vertical-align: top;\n",
       "    }\n",
       "\n",
       "    .dataframe thead th {\n",
       "        text-align: right;\n",
       "    }\n",
       "</style>\n",
       "<table border=\"1\" class=\"dataframe\">\n",
       "  <thead>\n",
       "    <tr style=\"text-align: right;\">\n",
       "      <th></th>\n",
       "      <th>Unnamed: 0</th>\n",
       "      <th>Symbol</th>\n",
       "      <th>Series</th>\n",
       "      <th>Date</th>\n",
       "      <th>Prev Close</th>\n",
       "      <th>Open Price</th>\n",
       "      <th>High Price</th>\n",
       "      <th>Low Price</th>\n",
       "      <th>Last Price</th>\n",
       "      <th>Close Price</th>\n",
       "      <th>...</th>\n",
       "      <th>Deliverable Qty</th>\n",
       "      <th>% Dly Qt to Traded Qty</th>\n",
       "      <th>Year</th>\n",
       "      <th>Month</th>\n",
       "      <th>Day_perc_change</th>\n",
       "      <th>Trend</th>\n",
       "      <th>% change b/w open and close per day</th>\n",
       "      <th>% change b/w high and low per day</th>\n",
       "      <th>5 day rolling mean % of Close Price</th>\n",
       "      <th>5 day rolling std % of Close Price</th>\n",
       "    </tr>\n",
       "  </thead>\n",
       "  <tbody>\n",
       "    <tr>\n",
       "      <td>0</td>\n",
       "      <td>0</td>\n",
       "      <td>MARUTI</td>\n",
       "      <td>EQ</td>\n",
       "      <td>2017-05-15</td>\n",
       "      <td>6730.20</td>\n",
       "      <td>6759.4</td>\n",
       "      <td>6839.10</td>\n",
       "      <td>6733.45</td>\n",
       "      <td>6824.0</td>\n",
       "      <td>6823.90</td>\n",
       "      <td>...</td>\n",
       "      <td>154743</td>\n",
       "      <td>46.01</td>\n",
       "      <td>2017</td>\n",
       "      <td>May</td>\n",
       "      <td>0.000000</td>\n",
       "      <td>Slight Change</td>\n",
       "      <td>0.945207</td>\n",
       "      <td>1.544794</td>\n",
       "      <td>NaN</td>\n",
       "      <td>NaN</td>\n",
       "    </tr>\n",
       "    <tr>\n",
       "      <td>1</td>\n",
       "      <td>1</td>\n",
       "      <td>MARUTI</td>\n",
       "      <td>EQ</td>\n",
       "      <td>2017-05-16</td>\n",
       "      <td>6823.90</td>\n",
       "      <td>6850.0</td>\n",
       "      <td>6977.55</td>\n",
       "      <td>6830.00</td>\n",
       "      <td>6968.4</td>\n",
       "      <td>6953.95</td>\n",
       "      <td>...</td>\n",
       "      <td>360641</td>\n",
       "      <td>50.97</td>\n",
       "      <td>2017</td>\n",
       "      <td>May</td>\n",
       "      <td>1.905802</td>\n",
       "      <td>Positive</td>\n",
       "      <td>1.494834</td>\n",
       "      <td>2.114639</td>\n",
       "      <td>NaN</td>\n",
       "      <td>NaN</td>\n",
       "    </tr>\n",
       "    <tr>\n",
       "      <td>2</td>\n",
       "      <td>2</td>\n",
       "      <td>MARUTI</td>\n",
       "      <td>EQ</td>\n",
       "      <td>2017-05-17</td>\n",
       "      <td>6953.95</td>\n",
       "      <td>6950.0</td>\n",
       "      <td>6979.00</td>\n",
       "      <td>6885.85</td>\n",
       "      <td>6945.0</td>\n",
       "      <td>6958.20</td>\n",
       "      <td>...</td>\n",
       "      <td>260033</td>\n",
       "      <td>58.37</td>\n",
       "      <td>2017</td>\n",
       "      <td>May</td>\n",
       "      <td>0.061116</td>\n",
       "      <td>Slight Change</td>\n",
       "      <td>0.117847</td>\n",
       "      <td>1.334718</td>\n",
       "      <td>NaN</td>\n",
       "      <td>NaN</td>\n",
       "    </tr>\n",
       "    <tr>\n",
       "      <td>3</td>\n",
       "      <td>3</td>\n",
       "      <td>MARUTI</td>\n",
       "      <td>EQ</td>\n",
       "      <td>2017-05-18</td>\n",
       "      <td>6958.20</td>\n",
       "      <td>6918.3</td>\n",
       "      <td>6948.00</td>\n",
       "      <td>6814.45</td>\n",
       "      <td>6822.0</td>\n",
       "      <td>6831.05</td>\n",
       "      <td>...</td>\n",
       "      <td>188907</td>\n",
       "      <td>46.44</td>\n",
       "      <td>2017</td>\n",
       "      <td>May</td>\n",
       "      <td>-1.827340</td>\n",
       "      <td>Negative</td>\n",
       "      <td>-1.277256</td>\n",
       "      <td>1.922136</td>\n",
       "      <td>NaN</td>\n",
       "      <td>NaN</td>\n",
       "    </tr>\n",
       "    <tr>\n",
       "      <td>4</td>\n",
       "      <td>4</td>\n",
       "      <td>MARUTI</td>\n",
       "      <td>EQ</td>\n",
       "      <td>2017-05-19</td>\n",
       "      <td>6831.05</td>\n",
       "      <td>6854.8</td>\n",
       "      <td>6893.90</td>\n",
       "      <td>6691.55</td>\n",
       "      <td>6756.3</td>\n",
       "      <td>6790.55</td>\n",
       "      <td>...</td>\n",
       "      <td>234662</td>\n",
       "      <td>42.49</td>\n",
       "      <td>2017</td>\n",
       "      <td>May</td>\n",
       "      <td>-0.592881</td>\n",
       "      <td>Slight Negative</td>\n",
       "      <td>-0.946168</td>\n",
       "      <td>2.935204</td>\n",
       "      <td>-0.090661</td>\n",
       "      <td>1.349574</td>\n",
       "    </tr>\n",
       "  </tbody>\n",
       "</table>\n",
       "<p>5 rows × 24 columns</p>\n",
       "</div>"
      ],
      "text/plain": [
       "   Unnamed: 0  Symbol Series        Date  Prev Close  Open Price  High Price  \\\n",
       "0           0  MARUTI     EQ  2017-05-15     6730.20      6759.4     6839.10   \n",
       "1           1  MARUTI     EQ  2017-05-16     6823.90      6850.0     6977.55   \n",
       "2           2  MARUTI     EQ  2017-05-17     6953.95      6950.0     6979.00   \n",
       "3           3  MARUTI     EQ  2017-05-18     6958.20      6918.3     6948.00   \n",
       "4           4  MARUTI     EQ  2017-05-19     6831.05      6854.8     6893.90   \n",
       "\n",
       "   Low Price  Last Price  Close Price  ...  Deliverable Qty  \\\n",
       "0    6733.45      6824.0      6823.90  ...           154743   \n",
       "1    6830.00      6968.4      6953.95  ...           360641   \n",
       "2    6885.85      6945.0      6958.20  ...           260033   \n",
       "3    6814.45      6822.0      6831.05  ...           188907   \n",
       "4    6691.55      6756.3      6790.55  ...           234662   \n",
       "\n",
       "   % Dly Qt to Traded Qty  Year  Month  Day_perc_change            Trend  \\\n",
       "0                   46.01  2017    May         0.000000    Slight Change   \n",
       "1                   50.97  2017    May         1.905802         Positive   \n",
       "2                   58.37  2017    May         0.061116    Slight Change   \n",
       "3                   46.44  2017    May        -1.827340         Negative   \n",
       "4                   42.49  2017    May        -0.592881  Slight Negative   \n",
       "\n",
       "   % change b/w open and close per day % change b/w high and low per day  \\\n",
       "0                             0.945207                          1.544794   \n",
       "1                             1.494834                          2.114639   \n",
       "2                             0.117847                          1.334718   \n",
       "3                            -1.277256                          1.922136   \n",
       "4                            -0.946168                          2.935204   \n",
       "\n",
       "   5 day rolling mean % of Close Price 5 day rolling std % of Close Price  \n",
       "0                                  NaN                                NaN  \n",
       "1                                  NaN                                NaN  \n",
       "2                                  NaN                                NaN  \n",
       "3                                  NaN                                NaN  \n",
       "4                            -0.090661                           1.349574  \n",
       "\n",
       "[5 rows x 24 columns]"
      ]
     },
     "execution_count": 80,
     "metadata": {},
     "output_type": "execute_result"
    }
   ],
   "source": [
    "data_copy.head()"
   ]
  },
  {
   "cell_type": "code",
   "execution_count": 81,
   "metadata": {},
   "outputs": [],
   "source": [
    "data_copy = data_copy.fillna(0)"
   ]
  },
  {
   "cell_type": "code",
   "execution_count": 82,
   "metadata": {},
   "outputs": [
    {
     "data": {
      "text/html": [
       "<div>\n",
       "<style scoped>\n",
       "    .dataframe tbody tr th:only-of-type {\n",
       "        vertical-align: middle;\n",
       "    }\n",
       "\n",
       "    .dataframe tbody tr th {\n",
       "        vertical-align: top;\n",
       "    }\n",
       "\n",
       "    .dataframe thead th {\n",
       "        text-align: right;\n",
       "    }\n",
       "</style>\n",
       "<table border=\"1\" class=\"dataframe\">\n",
       "  <thead>\n",
       "    <tr style=\"text-align: right;\">\n",
       "      <th></th>\n",
       "      <th>Unnamed: 0</th>\n",
       "      <th>Symbol</th>\n",
       "      <th>Series</th>\n",
       "      <th>Date</th>\n",
       "      <th>Prev Close</th>\n",
       "      <th>Open Price</th>\n",
       "      <th>High Price</th>\n",
       "      <th>Low Price</th>\n",
       "      <th>Last Price</th>\n",
       "      <th>Close Price</th>\n",
       "      <th>...</th>\n",
       "      <th>Deliverable Qty</th>\n",
       "      <th>% Dly Qt to Traded Qty</th>\n",
       "      <th>Year</th>\n",
       "      <th>Month</th>\n",
       "      <th>Day_perc_change</th>\n",
       "      <th>Trend</th>\n",
       "      <th>% change b/w open and close per day</th>\n",
       "      <th>% change b/w high and low per day</th>\n",
       "      <th>5 day rolling mean % of Close Price</th>\n",
       "      <th>5 day rolling std % of Close Price</th>\n",
       "    </tr>\n",
       "  </thead>\n",
       "  <tbody>\n",
       "    <tr>\n",
       "      <td>0</td>\n",
       "      <td>0</td>\n",
       "      <td>MARUTI</td>\n",
       "      <td>EQ</td>\n",
       "      <td>2017-05-15</td>\n",
       "      <td>6730.20</td>\n",
       "      <td>6759.4</td>\n",
       "      <td>6839.10</td>\n",
       "      <td>6733.45</td>\n",
       "      <td>6824.0</td>\n",
       "      <td>6823.90</td>\n",
       "      <td>...</td>\n",
       "      <td>154743</td>\n",
       "      <td>46.01</td>\n",
       "      <td>2017</td>\n",
       "      <td>May</td>\n",
       "      <td>0.000000</td>\n",
       "      <td>Slight Change</td>\n",
       "      <td>0.945207</td>\n",
       "      <td>1.544794</td>\n",
       "      <td>0.000000</td>\n",
       "      <td>0.000000</td>\n",
       "    </tr>\n",
       "    <tr>\n",
       "      <td>1</td>\n",
       "      <td>1</td>\n",
       "      <td>MARUTI</td>\n",
       "      <td>EQ</td>\n",
       "      <td>2017-05-16</td>\n",
       "      <td>6823.90</td>\n",
       "      <td>6850.0</td>\n",
       "      <td>6977.55</td>\n",
       "      <td>6830.00</td>\n",
       "      <td>6968.4</td>\n",
       "      <td>6953.95</td>\n",
       "      <td>...</td>\n",
       "      <td>360641</td>\n",
       "      <td>50.97</td>\n",
       "      <td>2017</td>\n",
       "      <td>May</td>\n",
       "      <td>1.905802</td>\n",
       "      <td>Positive</td>\n",
       "      <td>1.494834</td>\n",
       "      <td>2.114639</td>\n",
       "      <td>0.000000</td>\n",
       "      <td>0.000000</td>\n",
       "    </tr>\n",
       "    <tr>\n",
       "      <td>2</td>\n",
       "      <td>2</td>\n",
       "      <td>MARUTI</td>\n",
       "      <td>EQ</td>\n",
       "      <td>2017-05-17</td>\n",
       "      <td>6953.95</td>\n",
       "      <td>6950.0</td>\n",
       "      <td>6979.00</td>\n",
       "      <td>6885.85</td>\n",
       "      <td>6945.0</td>\n",
       "      <td>6958.20</td>\n",
       "      <td>...</td>\n",
       "      <td>260033</td>\n",
       "      <td>58.37</td>\n",
       "      <td>2017</td>\n",
       "      <td>May</td>\n",
       "      <td>0.061116</td>\n",
       "      <td>Slight Change</td>\n",
       "      <td>0.117847</td>\n",
       "      <td>1.334718</td>\n",
       "      <td>0.000000</td>\n",
       "      <td>0.000000</td>\n",
       "    </tr>\n",
       "    <tr>\n",
       "      <td>3</td>\n",
       "      <td>3</td>\n",
       "      <td>MARUTI</td>\n",
       "      <td>EQ</td>\n",
       "      <td>2017-05-18</td>\n",
       "      <td>6958.20</td>\n",
       "      <td>6918.3</td>\n",
       "      <td>6948.00</td>\n",
       "      <td>6814.45</td>\n",
       "      <td>6822.0</td>\n",
       "      <td>6831.05</td>\n",
       "      <td>...</td>\n",
       "      <td>188907</td>\n",
       "      <td>46.44</td>\n",
       "      <td>2017</td>\n",
       "      <td>May</td>\n",
       "      <td>-1.827340</td>\n",
       "      <td>Negative</td>\n",
       "      <td>-1.277256</td>\n",
       "      <td>1.922136</td>\n",
       "      <td>0.000000</td>\n",
       "      <td>0.000000</td>\n",
       "    </tr>\n",
       "    <tr>\n",
       "      <td>4</td>\n",
       "      <td>4</td>\n",
       "      <td>MARUTI</td>\n",
       "      <td>EQ</td>\n",
       "      <td>2017-05-19</td>\n",
       "      <td>6831.05</td>\n",
       "      <td>6854.8</td>\n",
       "      <td>6893.90</td>\n",
       "      <td>6691.55</td>\n",
       "      <td>6756.3</td>\n",
       "      <td>6790.55</td>\n",
       "      <td>...</td>\n",
       "      <td>234662</td>\n",
       "      <td>42.49</td>\n",
       "      <td>2017</td>\n",
       "      <td>May</td>\n",
       "      <td>-0.592881</td>\n",
       "      <td>Slight Negative</td>\n",
       "      <td>-0.946168</td>\n",
       "      <td>2.935204</td>\n",
       "      <td>-0.090661</td>\n",
       "      <td>1.349574</td>\n",
       "    </tr>\n",
       "  </tbody>\n",
       "</table>\n",
       "<p>5 rows × 24 columns</p>\n",
       "</div>"
      ],
      "text/plain": [
       "   Unnamed: 0  Symbol Series        Date  Prev Close  Open Price  High Price  \\\n",
       "0           0  MARUTI     EQ  2017-05-15     6730.20      6759.4     6839.10   \n",
       "1           1  MARUTI     EQ  2017-05-16     6823.90      6850.0     6977.55   \n",
       "2           2  MARUTI     EQ  2017-05-17     6953.95      6950.0     6979.00   \n",
       "3           3  MARUTI     EQ  2017-05-18     6958.20      6918.3     6948.00   \n",
       "4           4  MARUTI     EQ  2017-05-19     6831.05      6854.8     6893.90   \n",
       "\n",
       "   Low Price  Last Price  Close Price  ...  Deliverable Qty  \\\n",
       "0    6733.45      6824.0      6823.90  ...           154743   \n",
       "1    6830.00      6968.4      6953.95  ...           360641   \n",
       "2    6885.85      6945.0      6958.20  ...           260033   \n",
       "3    6814.45      6822.0      6831.05  ...           188907   \n",
       "4    6691.55      6756.3      6790.55  ...           234662   \n",
       "\n",
       "   % Dly Qt to Traded Qty  Year  Month  Day_perc_change            Trend  \\\n",
       "0                   46.01  2017    May         0.000000    Slight Change   \n",
       "1                   50.97  2017    May         1.905802         Positive   \n",
       "2                   58.37  2017    May         0.061116    Slight Change   \n",
       "3                   46.44  2017    May        -1.827340         Negative   \n",
       "4                   42.49  2017    May        -0.592881  Slight Negative   \n",
       "\n",
       "   % change b/w open and close per day % change b/w high and low per day  \\\n",
       "0                             0.945207                          1.544794   \n",
       "1                             1.494834                          2.114639   \n",
       "2                             0.117847                          1.334718   \n",
       "3                            -1.277256                          1.922136   \n",
       "4                            -0.946168                          2.935204   \n",
       "\n",
       "   5 day rolling mean % of Close Price 5 day rolling std % of Close Price  \n",
       "0                             0.000000                           0.000000  \n",
       "1                             0.000000                           0.000000  \n",
       "2                             0.000000                           0.000000  \n",
       "3                             0.000000                           0.000000  \n",
       "4                            -0.090661                           1.349574  \n",
       "\n",
       "[5 rows x 24 columns]"
      ]
     },
     "execution_count": 82,
     "metadata": {},
     "output_type": "execute_result"
    }
   ],
   "source": [
    "data_copy.head()"
   ]
  },
  {
   "cell_type": "code",
   "execution_count": 83,
   "metadata": {},
   "outputs": [],
   "source": [
    "data_separated = data_copy.iloc[:,-4:]"
   ]
  },
  {
   "cell_type": "code",
   "execution_count": 84,
   "metadata": {},
   "outputs": [],
   "source": [
    "data_separated['Close Price'] = data_copy['Close Price']"
   ]
  },
  {
   "cell_type": "code",
   "execution_count": 85,
   "metadata": {},
   "outputs": [
    {
     "data": {
      "text/html": [
       "<div>\n",
       "<style scoped>\n",
       "    .dataframe tbody tr th:only-of-type {\n",
       "        vertical-align: middle;\n",
       "    }\n",
       "\n",
       "    .dataframe tbody tr th {\n",
       "        vertical-align: top;\n",
       "    }\n",
       "\n",
       "    .dataframe thead th {\n",
       "        text-align: right;\n",
       "    }\n",
       "</style>\n",
       "<table border=\"1\" class=\"dataframe\">\n",
       "  <thead>\n",
       "    <tr style=\"text-align: right;\">\n",
       "      <th></th>\n",
       "      <th>% change b/w open and close per day</th>\n",
       "      <th>% change b/w high and low per day</th>\n",
       "      <th>5 day rolling mean % of Close Price</th>\n",
       "      <th>5 day rolling std % of Close Price</th>\n",
       "      <th>Close Price</th>\n",
       "    </tr>\n",
       "  </thead>\n",
       "  <tbody>\n",
       "    <tr>\n",
       "      <td>0</td>\n",
       "      <td>0.945207</td>\n",
       "      <td>1.544794</td>\n",
       "      <td>0.000000</td>\n",
       "      <td>0.000000</td>\n",
       "      <td>6823.90</td>\n",
       "    </tr>\n",
       "    <tr>\n",
       "      <td>1</td>\n",
       "      <td>1.494834</td>\n",
       "      <td>2.114639</td>\n",
       "      <td>0.000000</td>\n",
       "      <td>0.000000</td>\n",
       "      <td>6953.95</td>\n",
       "    </tr>\n",
       "    <tr>\n",
       "      <td>2</td>\n",
       "      <td>0.117847</td>\n",
       "      <td>1.334718</td>\n",
       "      <td>0.000000</td>\n",
       "      <td>0.000000</td>\n",
       "      <td>6958.20</td>\n",
       "    </tr>\n",
       "    <tr>\n",
       "      <td>3</td>\n",
       "      <td>-1.277256</td>\n",
       "      <td>1.922136</td>\n",
       "      <td>0.000000</td>\n",
       "      <td>0.000000</td>\n",
       "      <td>6831.05</td>\n",
       "    </tr>\n",
       "    <tr>\n",
       "      <td>4</td>\n",
       "      <td>-0.946168</td>\n",
       "      <td>2.935204</td>\n",
       "      <td>-0.090661</td>\n",
       "      <td>1.349574</td>\n",
       "      <td>6790.55</td>\n",
       "    </tr>\n",
       "  </tbody>\n",
       "</table>\n",
       "</div>"
      ],
      "text/plain": [
       "   % change b/w open and close per day  % change b/w high and low per day  \\\n",
       "0                             0.945207                           1.544794   \n",
       "1                             1.494834                           2.114639   \n",
       "2                             0.117847                           1.334718   \n",
       "3                            -1.277256                           1.922136   \n",
       "4                            -0.946168                           2.935204   \n",
       "\n",
       "   5 day rolling mean % of Close Price  5 day rolling std % of Close Price  \\\n",
       "0                             0.000000                            0.000000   \n",
       "1                             0.000000                            0.000000   \n",
       "2                             0.000000                            0.000000   \n",
       "3                             0.000000                            0.000000   \n",
       "4                            -0.090661                            1.349574   \n",
       "\n",
       "   Close Price  \n",
       "0      6823.90  \n",
       "1      6953.95  \n",
       "2      6958.20  \n",
       "3      6831.05  \n",
       "4      6790.55  "
      ]
     },
     "execution_count": 85,
     "metadata": {},
     "output_type": "execute_result"
    }
   ],
   "source": [
    "data_separated.head()"
   ]
  },
  {
   "cell_type": "code",
   "execution_count": 86,
   "metadata": {},
   "outputs": [
    {
     "name": "stderr",
     "output_type": "stream",
     "text": [
      "/home/akansh/anaconda3/lib/python3.7/site-packages/ipykernel_launcher.py:4: SettingWithCopyWarning: \n",
      "A value is trying to be set on a copy of a slice from a DataFrame\n",
      "\n",
      "See the caveats in the documentation: http://pandas.pydata.org/pandas-docs/stable/user_guide/indexing.html#returning-a-view-versus-a-copy\n",
      "  after removing the cwd from sys.path.\n",
      "/home/akansh/anaconda3/lib/python3.7/site-packages/ipykernel_launcher.py:6: SettingWithCopyWarning: \n",
      "A value is trying to be set on a copy of a slice from a DataFrame\n",
      "\n",
      "See the caveats in the documentation: http://pandas.pydata.org/pandas-docs/stable/user_guide/indexing.html#returning-a-view-versus-a-copy\n",
      "  \n"
     ]
    }
   ],
   "source": [
    "data_separated['Action'] = 1\n",
    "for i in data_separated.index[:-1]:\n",
    "    if(data_separated['Close Price'][i+1] >= data_separated['Close Price'][i]):\n",
    "        data_separated['Action'][i] = 1\n",
    "    elif(data_separated['Close Price'][i+1] <= data_separated['Close Price'][i]):\n",
    "        data_separated['Action'][i] = -1\n",
    "\n",
    "\n",
    "    \n",
    "    "
   ]
  },
  {
   "cell_type": "code",
   "execution_count": 87,
   "metadata": {},
   "outputs": [
    {
     "data": {
      "text/html": [
       "<div>\n",
       "<style scoped>\n",
       "    .dataframe tbody tr th:only-of-type {\n",
       "        vertical-align: middle;\n",
       "    }\n",
       "\n",
       "    .dataframe tbody tr th {\n",
       "        vertical-align: top;\n",
       "    }\n",
       "\n",
       "    .dataframe thead th {\n",
       "        text-align: right;\n",
       "    }\n",
       "</style>\n",
       "<table border=\"1\" class=\"dataframe\">\n",
       "  <thead>\n",
       "    <tr style=\"text-align: right;\">\n",
       "      <th></th>\n",
       "      <th>% change b/w open and close per day</th>\n",
       "      <th>% change b/w high and low per day</th>\n",
       "      <th>5 day rolling mean % of Close Price</th>\n",
       "      <th>5 day rolling std % of Close Price</th>\n",
       "      <th>Close Price</th>\n",
       "      <th>Action</th>\n",
       "    </tr>\n",
       "  </thead>\n",
       "  <tbody>\n",
       "    <tr>\n",
       "      <td>0</td>\n",
       "      <td>0.945207</td>\n",
       "      <td>1.544794</td>\n",
       "      <td>0.000000</td>\n",
       "      <td>0.000000</td>\n",
       "      <td>6823.90</td>\n",
       "      <td>1</td>\n",
       "    </tr>\n",
       "    <tr>\n",
       "      <td>1</td>\n",
       "      <td>1.494834</td>\n",
       "      <td>2.114639</td>\n",
       "      <td>0.000000</td>\n",
       "      <td>0.000000</td>\n",
       "      <td>6953.95</td>\n",
       "      <td>1</td>\n",
       "    </tr>\n",
       "    <tr>\n",
       "      <td>2</td>\n",
       "      <td>0.117847</td>\n",
       "      <td>1.334718</td>\n",
       "      <td>0.000000</td>\n",
       "      <td>0.000000</td>\n",
       "      <td>6958.20</td>\n",
       "      <td>-1</td>\n",
       "    </tr>\n",
       "    <tr>\n",
       "      <td>3</td>\n",
       "      <td>-1.277256</td>\n",
       "      <td>1.922136</td>\n",
       "      <td>0.000000</td>\n",
       "      <td>0.000000</td>\n",
       "      <td>6831.05</td>\n",
       "      <td>-1</td>\n",
       "    </tr>\n",
       "    <tr>\n",
       "      <td>4</td>\n",
       "      <td>-0.946168</td>\n",
       "      <td>2.935204</td>\n",
       "      <td>-0.090661</td>\n",
       "      <td>1.349574</td>\n",
       "      <td>6790.55</td>\n",
       "      <td>-1</td>\n",
       "    </tr>\n",
       "  </tbody>\n",
       "</table>\n",
       "</div>"
      ],
      "text/plain": [
       "   % change b/w open and close per day  % change b/w high and low per day  \\\n",
       "0                             0.945207                           1.544794   \n",
       "1                             1.494834                           2.114639   \n",
       "2                             0.117847                           1.334718   \n",
       "3                            -1.277256                           1.922136   \n",
       "4                            -0.946168                           2.935204   \n",
       "\n",
       "   5 day rolling mean % of Close Price  5 day rolling std % of Close Price  \\\n",
       "0                             0.000000                            0.000000   \n",
       "1                             0.000000                            0.000000   \n",
       "2                             0.000000                            0.000000   \n",
       "3                             0.000000                            0.000000   \n",
       "4                            -0.090661                            1.349574   \n",
       "\n",
       "   Close Price  Action  \n",
       "0      6823.90       1  \n",
       "1      6953.95       1  \n",
       "2      6958.20      -1  \n",
       "3      6831.05      -1  \n",
       "4      6790.55      -1  "
      ]
     },
     "execution_count": 87,
     "metadata": {},
     "output_type": "execute_result"
    }
   ],
   "source": [
    "data_separated.head()"
   ]
  },
  {
   "cell_type": "code",
   "execution_count": 88,
   "metadata": {},
   "outputs": [
    {
     "data": {
      "text/plain": [
       "<matplotlib.axes._subplots.AxesSubplot at 0x7f0c0ea98cd0>"
      ]
     },
     "execution_count": 88,
     "metadata": {},
     "output_type": "execute_result"
    },
    {
     "data": {
      "image/png": "[encoded data removed]",
      "text/plain": [
       "<Figure size 432x288 with 1 Axes>"
      ]
     },
     "metadata": {
      "needs_background": "light"
     },
     "output_type": "display_data"
    }
   ],
   "source": [
    "sns.countplot(data_separated['Action'])"
   ]
  },
  {
   "cell_type": "code",
   "execution_count": 89,
   "metadata": {},
   "outputs": [
    {
     "data": {
      "text/html": [
       "<div>\n",
       "<style scoped>\n",
       "    .dataframe tbody tr th:only-of-type {\n",
       "        vertical-align: middle;\n",
       "    }\n",
       "\n",
       "    .dataframe tbody tr th {\n",
       "        vertical-align: top;\n",
       "    }\n",
       "\n",
       "    .dataframe thead th {\n",
       "        text-align: right;\n",
       "    }\n",
       "</style>\n",
       "<table border=\"1\" class=\"dataframe\">\n",
       "  <thead>\n",
       "    <tr style=\"text-align: right;\">\n",
       "      <th></th>\n",
       "      <th>% change b/w open and close per day</th>\n",
       "      <th>% change b/w high and low per day</th>\n",
       "      <th>5 day rolling mean % of Close Price</th>\n",
       "      <th>5 day rolling std % of Close Price</th>\n",
       "      <th>Close Price</th>\n",
       "    </tr>\n",
       "    <tr>\n",
       "      <th>Action</th>\n",
       "      <th></th>\n",
       "      <th></th>\n",
       "      <th></th>\n",
       "      <th></th>\n",
       "      <th></th>\n",
       "    </tr>\n",
       "  </thead>\n",
       "  <tbody>\n",
       "    <tr>\n",
       "      <td>-1</td>\n",
       "      <td>258</td>\n",
       "      <td>258</td>\n",
       "      <td>258</td>\n",
       "      <td>258</td>\n",
       "      <td>258</td>\n",
       "    </tr>\n",
       "    <tr>\n",
       "      <td>1</td>\n",
       "      <td>236</td>\n",
       "      <td>236</td>\n",
       "      <td>236</td>\n",
       "      <td>236</td>\n",
       "      <td>236</td>\n",
       "    </tr>\n",
       "  </tbody>\n",
       "</table>\n",
       "</div>"
      ],
      "text/plain": [
       "        % change b/w open and close per day  \\\n",
       "Action                                        \n",
       "-1                                      258   \n",
       " 1                                      236   \n",
       "\n",
       "        % change b/w high and low per day  \\\n",
       "Action                                      \n",
       "-1                                    258   \n",
       " 1                                    236   \n",
       "\n",
       "        5 day rolling mean % of Close Price  \\\n",
       "Action                                        \n",
       "-1                                      258   \n",
       " 1                                      236   \n",
       "\n",
       "        5 day rolling std % of Close Price  Close Price  \n",
       "Action                                                   \n",
       "-1                                     258          258  \n",
       " 1                                     236          236  "
      ]
     },
     "execution_count": 89,
     "metadata": {},
     "output_type": "execute_result"
    }
   ],
   "source": [
    "data_separated.groupby('Action').count()"
   ]
  },
  {
   "cell_type": "code",
   "execution_count": 90,
   "metadata": {},
   "outputs": [
    {
     "data": {
      "text/plain": [
       "% change b/w open and close per day       0.129682\n",
       "% change b/w high and low per day         1.348857\n",
       "5 day rolling mean % of Close Price      -0.234288\n",
       "5 day rolling std % of Close Price        0.350277\n",
       "Close Price                            6631.600000\n",
       "Action                                   -1.000000\n",
       "Name: 492, dtype: float64"
      ]
     },
     "execution_count": 90,
     "metadata": {},
     "output_type": "execute_result"
    }
   ],
   "source": [
    "data_separated.iloc[-2]"
   ]
  },
  {
   "cell_type": "markdown",
   "metadata": {},
   "source": [
    "# Classification Model for this"
   ]
  },
  {
   "cell_type": "code",
   "execution_count": 91,
   "metadata": {},
   "outputs": [
    {
     "name": "stdout",
     "output_type": "stream",
     "text": [
      "(494, 4) (494,)\n"
     ]
    }
   ],
   "source": [
    "X = data_separated.drop(['Action','Close Price'],axis=1)\n",
    "Y = data_separated['Action']\n",
    "print(X.shape,Y.shape)"
   ]
  },
  {
   "cell_type": "code",
   "execution_count": 92,
   "metadata": {},
   "outputs": [
    {
     "name": "stdout",
     "output_type": "stream",
     "text": [
      "(370, 4) (124, 4) (370,) (124,)\n"
     ]
    }
   ],
   "source": [
    "X_train,X_test,Y_train,Y_test = train_test_split(X,Y,random_state=0,stratify=Y)\n",
    "print(X_train.shape,X_test.shape,Y_train.shape,Y_test.shape)"
   ]
  },
  {
   "cell_type": "code",
   "execution_count": 93,
   "metadata": {},
   "outputs": [
    {
     "name": "stdout",
     "output_type": "stream",
     "text": [
      "(370, 4)\n",
      "(124, 4)\n"
     ]
    }
   ],
   "source": [
    "X_train_stand = scaler.fit_transform(X_train)\n",
    "print(X_train_stand.shape)\n",
    "X_test_stand = scaler.transform(X_test)\n",
    "print(X_test_stand.shape)"
   ]
  },
  {
   "cell_type": "code",
   "execution_count": 94,
   "metadata": {},
   "outputs": [
    {
     "name": "stderr",
     "output_type": "stream",
     "text": [
      "/home/akansh/anaconda3/lib/python3.7/site-packages/sklearn/ensemble/forest.py:245: FutureWarning: The default value of n_estimators will change from 10 in version 0.20 to 100 in 0.22.\n",
      "  \"10 in version 0.20 to 100 in 0.22.\", FutureWarning)\n"
     ]
    },
    {
     "data": {
      "text/plain": [
       "RandomForestClassifier(bootstrap=True, class_weight=None, criterion='gini',\n",
       "                       max_depth=None, max_features='auto', max_leaf_nodes=None,\n",
       "                       min_impurity_decrease=0.0, min_impurity_split=None,\n",
       "                       min_samples_leaf=1, min_samples_split=2,\n",
       "                       min_weight_fraction_leaf=0.0, n_estimators=10,\n",
       "                       n_jobs=None, oob_score=False, random_state=None,\n",
       "                       verbose=0, warm_start=False)"
      ]
     },
     "execution_count": 94,
     "metadata": {},
     "output_type": "execute_result"
    }
   ],
   "source": [
    "rf = RandomForestClassifier()\n",
    "rf.fit(X_train_stand,Y_train)"
   ]
  },
  {
   "cell_type": "code",
   "execution_count": 95,
   "metadata": {},
   "outputs": [
    {
     "name": "stdout",
     "output_type": "stream",
     "text": [
      "The Training Accuracy is: 96.4865%\n",
      "The Testing Accuracy is: 48.3871%\n"
     ]
    }
   ],
   "source": [
    "Y_train_pred = rf.predict(X_train_stand)\n",
    "Y_test_pred = rf.predict(X_test_stand)\n",
    "train_accuracy = accuracy_score(Y_train_pred,Y_train)\n",
    "test_accuracy = accuracy_score(Y_test_pred,Y_test)\n",
    "print(f'The Training Accuracy is: {np.round(train_accuracy * 100,4)}%\\nThe Testing Accuracy is: {np.round(test_accuracy*100,4)}%')"
   ]
  },
  {
   "cell_type": "code",
   "execution_count": 96,
   "metadata": {},
   "outputs": [
    {
     "name": "stdout",
     "output_type": "stream",
     "text": [
      "              precision    recall  f1-score   support\n",
      "\n",
      "          -1       0.58      0.51      0.54        75\n",
      "           1       0.37      0.45      0.41        49\n",
      "\n",
      "    accuracy                           0.48       124\n",
      "   macro avg       0.48      0.48      0.48       124\n",
      "weighted avg       0.50      0.48      0.49       124\n",
      "\n"
     ]
    }
   ],
   "source": [
    "print(classification_report(Y_test_pred,Y_test))"
   ]
  },
  {
   "cell_type": "markdown",
   "metadata": {},
   "source": [
    "# Net Cumulative Returns"
   ]
  },
  {
   "cell_type": "code",
   "execution_count": 97,
   "metadata": {},
   "outputs": [],
   "source": [
    "cum_returns = []\n",
    "sum_i = 0\n",
    "for i,j in enumerate(data_copy['Day_perc_change']):\n",
    "    sum_i += j\n",
    "    cum_returns.append(sum_i)"
   ]
  },
  {
   "cell_type": "code",
   "execution_count": 98,
   "metadata": {},
   "outputs": [
    {
     "data": {
      "image/png": "[encoded data removed]",
      "text/plain": [
       "<Figure size 1080x360 with 1 Axes>"
      ]
     },
     "metadata": {
      "needs_background": "light"
     },
     "output_type": "display_data"
    }
   ],
   "source": [
    "plt.figure(figsize=(15,5))\n",
    "plt.plot(cum_returns)\n",
    "plt.show()"
   ]
  },
  {
   "cell_type": "markdown",
   "metadata": {},
   "source": [
    "### Another Way for calculating Cumulative Returns using the formula: \n",
    "## $ \\frac{Current  Price  of  Security  -  Original  Price}{Original Price}$ "
   ]
  },
  {
   "cell_type": "code",
   "execution_count": 123,
   "metadata": {},
   "outputs": [],
   "source": [
    "cum_returns = []\n",
    "for i in data_copy.index[1:]:\n",
    "    cum_returns.append(((data_copy['Close Price'][i] - data_copy['Close Price'][0])/data_copy['Close Price'][0]) * 100 )\n",
    "    "
   ]
  },
  {
   "cell_type": "code",
   "execution_count": 124,
   "metadata": {},
   "outputs": [
    {
     "data": {
      "image/png": "[encoded data removed]",
      "text/plain": [
       "<Figure size 1080x360 with 1 Axes>"
      ]
     },
     "metadata": {
      "needs_background": "light"
     },
     "output_type": "display_data"
    }
   ],
   "source": [
    "plt.figure(figsize=(15,5))\n",
    "plt.plot(cum_returns)\n",
    "plt.show()"
   ]
  },
  {
   "cell_type": "code",
   "execution_count": null,
   "metadata": {},
   "outputs": [],
   "source": []
  }
 ],
 "metadata": {
  "kernelspec": {
   "display_name": "Python 3",
   "language": "python",
   "name": "python3"
  },
  "language_info": {
   "codemirror_mode": {
    "name": "ipython",
    "version": 3
   },
   "file_extension": ".py",
   "mimetype": "text/x-python",
   "name": "python",
   "nbconvert_exporter": "python",
   "pygments_lexer": "ipython3",
   "version": "3.7.4"
  }
 },
 "nbformat": 4,
 "nbformat_minor": 2
}
